{
 "cells": [
  {
   "cell_type": "markdown",
   "metadata": {},
   "source": [
    "# Clase 13"
   ]
  },
  {
   "cell_type": "markdown",
   "metadata": {},
   "source": [
    "Los números de Fibonacci para $n \\geq 2$ están definidos usando la siguiente secuencia\n",
    "$$F_n=F_{n-1}+F_{n-2} $$\n",
    "donde $F_0=0$ y $F_1=1$.\n",
    "\n",
    "Escribamos de nuevo el código que calcula los número de Fibonacci:"
   ]
  },
  {
   "cell_type": "code",
   "execution_count": 6,
   "metadata": {
    "collapsed": false
   },
   "outputs": [
    {
     "name": "stdout",
     "output_type": "stream",
     "text": [
      "¿Cuál número de Fibonacci quieres conocer? 0\n",
      "a = 0 , b = 1 | fib( 0 ) = 0\n"
     ]
    }
   ],
   "source": [
    "n=int(raw_input('¿Cuál número de Fibonacci quieres conocer? '))   # numero Fibonacci limite\n",
    "\n",
    "a,b=0,1\n",
    "for i in xrange(n):\n",
    "    faux = a+b\n",
    "    a = b\n",
    "    b = faux\n",
    "\n",
    "print 'a =', a, ', b =', b, '|', 'fib(',n,') =', a"
   ]
  },
  {
   "cell_type": "code",
   "execution_count": 16,
   "metadata": {
    "collapsed": false
   },
   "outputs": [
    {
     "name": "stdout",
     "output_type": "stream",
     "text": [
      "¿Cuál número de Fibonacci quieres conocer? 6\n",
      "a = 8 , b = 13 | fib( 6 ) = 8\n"
     ]
    }
   ],
   "source": [
    "n=int(raw_input('¿Cuál número de Fibonacci quieres conocer? '))   # numero Fibonacci limite\n",
    "\n",
    "a,b=0,1\n",
    "for i in xrange(n):\n",
    "    a,b = b,a+b\n",
    "\n",
    "print 'a =', a, ', b =', b, '|', 'fib(',n,') =', a"
   ]
  },
  {
   "cell_type": "markdown",
   "metadata": {},
   "source": [
    "---\n",
    "### Ejercicio: Torres de Hanoi\n",
    "\n",
    "<img src=\"Tower_of_Hanoi_4.gif\">\n",
    "\n",
    "Cuenta la leyenda que los monjes de un monasterio de Hanoi miden el tiempo que falta para la llegada del fin del mundo con el siguiente procedimiento: disponen de tres agujas de diamante, en una de las cuales se apilan 64 discos de oro distintos, ordenados por tamaños. Cada segundo mueven un disco de una aguja a otra, y su tarea finalizará (y con ella el mundo) cuando logren transportarlos todos a otra aguja. Pero, ¡atención!, a lo largo del proceso nunca se puede colocar un disco sobre otro de diámetro más pequeño.\n",
    "\n",
    "Como prepararnos para el fin del mundo supondrá sin duda un notable ajetreo, vamos a estimar el tiempo de que dispondremos. Para ello, planteamos el problema ya en general: tenemos $n$ discos y llamamos $a_n$ al mínimo número de movimientos necesario para transportar los n discos desde una aguja a otra. Por ejemplo, $a_1 = 1$, porque nos basta con un movimiento para pasar el disco a otra aguja. El cálculo de $a_2$ requiere ya un pequeño argumento: podemos, por ejemplo, pasar el disco pequeño a otra aguja, luego el grande a la tercera, para finalmente\n",
    "pasar el pequeño a esta tercera aguja.\n",
    "\n",
    "<img src=\"hanoi2.png\">\n",
    "\n",
    " Como en dos movimientos no se puede hacer, concluimos que $a_2=3$.\n",
    "\n",
    "Si partimos de tres discos, podemos pasar los dos menores a una segunda aguja (con el procedimiento anterior, de tres movimientos), luego pasar el mayor a la tercera aguja, para finalmente llevar los dos discos menores sobre ese disco mayor (de nuevo tres movimientos). En total, 7 movimientos.\n",
    "\n",
    "El procedimiento esbozado en el caso $n = 3$ se puede generalizar: si tenemos $n$ discos, pasamos $n − 1$ a una segunda aguja, luego el mayor disco a la aguja final y, por último, pasamos los $n − 1$ discos a esa tercera aguja. Es un algoritmo recursivo: el procedimiento para mover $n$ discos se apoya, dos veces, en el (ya conocido) método para mover $n − 1$.\n",
    "\n",
    "Se deduce entonces que el número mínimo de movimientos para transportar $n$ discos es\n",
    "$$ a_n=2a_{n-1}+1$$\n",
    "\n",
    "**Si los monjes mueven un disco cada segundo, ¿en cuánto tiempo llegará el fin del mundo?**"
   ]
  },
  {
   "cell_type": "code",
   "execution_count": 14,
   "metadata": {
    "collapsed": false
   },
   "outputs": [
    {
     "name": "stdout",
     "output_type": "stream",
     "text": [
      "a ( 64 ) = 18446744073709551615\n",
      "faltan 584942417355 años\n",
      "\n",
      "Si la edad del universo es 13.7x10^9 años\n",
      "faltan 42.6965268142 edades del universo\n"
     ]
    }
   ],
   "source": [
    "n=64\n",
    "\n",
    "a,b = 0,1\n",
    "for i in xrange(n):\n",
    "    aux = 2*a+1\n",
    "    b = aux\n",
    "    a = b \n",
    "\n",
    "print 'a (',n, ') =', a\n",
    "\n",
    "print 'faltan', (a/3600)/24/365, 'años'\n",
    "print\n",
    "print 'Si la edad del universo es 13.7x10^9 años'\n",
    "print 'faltan', (a/3600)/24/365/13.7E9, 'edades del universo'"
   ]
  },
  {
   "cell_type": "markdown",
   "metadata": {},
   "source": [
    "---"
   ]
  },
  {
   "cell_type": "markdown",
   "metadata": {},
   "source": [
    "### `while` loop"
   ]
  },
  {
   "cell_type": "markdown",
   "metadata": {},
   "source": [
    "Estos loop con la estructura\n",
    "```python\n",
    "while <condicion>:\n",
    "    repita lo que esta aqui hasta que se deje de cumplir la condicion\n",
    "```\n",
    "se ejecutan mientras la `<condicion>` sea verdadera.\n",
    "\n",
    "Es fundamental iniciar las variables usadas en los `while`"
   ]
  },
  {
   "cell_type": "code",
   "execution_count": null,
   "metadata": {
    "collapsed": true
   },
   "outputs": [],
   "source": [
    "i=0\n",
    "while i<10:\n",
    "    print i\n",
    "    i+=1     # Una forma corta de escribir i=i+1\n",
    "print 'terminado'"
   ]
  },
  {
   "cell_type": "markdown",
   "metadata": {},
   "source": [
    "que se puede escribir como un `for`"
   ]
  },
  {
   "cell_type": "code",
   "execution_count": null,
   "metadata": {
    "collapsed": true
   },
   "outputs": [],
   "source": [
    "for i in range(0,10):\n",
    "    print i"
   ]
  },
  {
   "cell_type": "markdown",
   "metadata": {},
   "source": [
    "¿Para qué sirven entonces? Hay condiciones que no se pueden escribir como iterables. Por ejemplo"
   ]
  },
  {
   "cell_type": "code",
   "execution_count": null,
   "metadata": {
    "collapsed": false
   },
   "outputs": [],
   "source": [
    "from numpy import sqrt\n",
    "\n",
    "x = int(raw_input('Introduce un número '))\n",
    "\n",
    "while x < 0:\n",
    "    x = float(raw_input(\"introduce un número positivo\"))\n",
    "\n",
    "print 'La raiz de', x, 'es', sqrt(x) "
   ]
  },
  {
   "cell_type": "markdown",
   "metadata": {},
   "source": [
    "##### Ejemplo: Factorial de un número"
   ]
  },
  {
   "cell_type": "markdown",
   "metadata": {},
   "source": [
    "El factorial de un número se define como $n!=n(n-1)(n-2)\\dots 2\\, 1$, donde $n$ es un número entero mayor que cero. Por ejemplo $5!=5\\, 4\\, 3 \\,2 \\, 1=120$"
   ]
  },
  {
   "cell_type": "code",
   "execution_count": 8,
   "metadata": {
    "collapsed": false
   },
   "outputs": [
    {
     "name": "stdout",
     "output_type": "stream",
     "text": [
      "Ingrese el número: 5\n",
      "120\n"
     ]
    }
   ],
   "source": [
    "n = input('Ingrese el número: ')\n",
    "\n",
    "nfact = 1\n",
    "while n > 0:\n",
    "    nfact *= n\n",
    "    n -= 1\n",
    "    \n",
    "print nfact"
   ]
  },
  {
   "cell_type": "markdown",
   "metadata": {
    "collapsed": true
   },
   "source": [
    "---"
   ]
  },
  {
   "cell_type": "markdown",
   "metadata": {
    "collapsed": true
   },
   "source": [
    "## Funciones"
   ]
  },
  {
   "cell_type": "markdown",
   "metadata": {},
   "source": [
    "Una función o subrutina agrupa una secuencia de comandos que puede ser ejecutado un número arbitrario de veces en un programa. Estas, a su vez, pueden depender de argumentos de entrada y retornar valores de salida.\n",
    "\n",
    "Su sintaxis típica es\n",
    "```python\n",
    "def <nombre>(<argumentos>):\n",
    "    '''Aquí el docstring'''\n",
    "    <secuencia de comandos>\n",
    "    return <objetos que retorna>\n",
    "```\n",
    "\n",
    "En python una función es un *objeto* con el identificador `<nombre>`."
   ]
  },
  {
   "cell_type": "markdown",
   "metadata": {},
   "source": [
    "¿para qué un docstring?"
   ]
  },
  {
   "cell_type": "code",
   "execution_count": 1,
   "metadata": {
    "collapsed": true
   },
   "outputs": [],
   "source": [
    "len?"
   ]
  },
  {
   "cell_type": "markdown",
   "metadata": {},
   "source": [
    "La definición de una función introduce un nuevo **namespace** privado que es destruido cuando la ejecución del código en la función es terminada.\n",
    "\n",
    "Desde el namespace *privado* definido por la función se tiene acceso al namespace *global* en la que ella se define."
   ]
  },
  {
   "cell_type": "code",
   "execution_count": 15,
   "metadata": {
    "collapsed": false
   },
   "outputs": [
    {
     "name": "stdout",
     "output_type": "stream",
     "text": [
      "a dentro de la función vale 5 y b vale 5\n",
      "a fuera de la función es un string\n"
     ]
    }
   ],
   "source": [
    "a = 'un string' # Variable global\n",
    "b = 5   # Variable global\n",
    "\n",
    "def funcion():\n",
    "    '''Define la variable a en el namespace de la funcion'''\n",
    "    a = 5    # Variable local\n",
    "    print 'a dentro de la función vale', a, 'y b vale', b\n",
    "    \n",
    "funcion()\n",
    "print 'a fuera de la función es', a"
   ]
  },
  {
   "cell_type": "markdown",
   "metadata": {},
   "source": [
    "*¡Una **buena práctica de programación** es utilizar dentro de una función únicamente identificadores contenidos en la lista de argumentos y aquellos definidos dentro de ella, es decir, definidos dentro de su namespace privado!.*"
   ]
  },
  {
   "cell_type": "code",
   "execution_count": null,
   "metadata": {
    "collapsed": false
   },
   "outputs": [],
   "source": [
    "def sumay(x):\n",
    "    '''Suma x a y y retorna su resultado'''\n",
    "    return x+y\n",
    "\n",
    "r = sumay(3)\n",
    "print r"
   ]
  },
  {
   "cell_type": "code",
   "execution_count": null,
   "metadata": {
    "collapsed": false
   },
   "outputs": [],
   "source": [
    "def sumay(x):\n",
    "    '''Suma x a y y retorna su resultado'''\n",
    "    return x+y\n",
    "\n",
    "y=1\n",
    "r=sumay(3)\n",
    "print r"
   ]
  },
  {
   "cell_type": "markdown",
   "metadata": {},
   "source": [
    "Un buen código sería"
   ]
  },
  {
   "cell_type": "code",
   "execution_count": null,
   "metadata": {
    "collapsed": true
   },
   "outputs": [],
   "source": [
    "def sumay(x,y):\n",
    "    '''Suma x a y y retorna su resultado en una tupla'''\n",
    "    z = x+y\n",
    "    return x,y,z\n",
    "\n",
    "a,b,r=sumay(3,2)\n",
    "print 'x =',a,'y =',b,'x+y =',r"
   ]
  },
  {
   "cell_type": "markdown",
   "metadata": {},
   "source": [
    "Ahora consideremos como argumento una lista"
   ]
  },
  {
   "cell_type": "code",
   "execution_count": 25,
   "metadata": {
    "collapsed": false
   },
   "outputs": [
    {
     "name": "stdout",
     "output_type": "stream",
     "text": [
      "[2, 2, 3]\n"
     ]
    }
   ],
   "source": [
    "L=[1,2,3]\n",
    "\n",
    "def suma1(M):\n",
    "    '''Adiciona 1 al primer elemento de una lista.\n",
    "    La función no retorna ningún resultado'''\n",
    "    M[0]+=1\n",
    "\n",
    "suma1(L)\n",
    "print L"
   ]
  },
  {
   "cell_type": "markdown",
   "metadata": {},
   "source": [
    "El argumento en la función no genera una copia de la lista sino que apunta a la dirección en memoria de L"
   ]
  },
  {
   "cell_type": "code",
   "execution_count": 31,
   "metadata": {
    "collapsed": false
   },
   "outputs": [
    {
     "name": "stdout",
     "output_type": "stream",
     "text": [
      "id(L) = 4477922192\n",
      "id(M) = 4477922192\n",
      "M es L: True\n",
      "M es igual a L: True\n",
      "[2, 2, 3]\n"
     ]
    }
   ],
   "source": [
    "L=[1,2,3]\n",
    "print 'id(L) =',id(L)\n",
    "\n",
    "def suma1(M):\n",
    "    '''Adiciona 1 al primer elemento de una lista.\n",
    "    La función no retorna ningún resultado'''\n",
    "    print 'id(M) =',id(M)\n",
    "    print 'M es L:',M is L\n",
    "    print 'M es igual a L:',M == L\n",
    "    M[0]+=1\n",
    "\n",
    "suma1(L)\n",
    "print L"
   ]
  },
  {
   "cell_type": "markdown",
   "metadata": {},
   "source": [
    "La solución es crear una copia privada"
   ]
  },
  {
   "cell_type": "code",
   "execution_count": 34,
   "metadata": {
    "collapsed": false
   },
   "outputs": [
    {
     "name": "stdout",
     "output_type": "stream",
     "text": [
      "id(L) = 4478743616\n",
      "id(MC) = 4481624184\n",
      "MC es L: False\n",
      "MC es igual a L: True\n",
      "L = [1, 2, 3]\n",
      "M = [2, 2, 3]\n"
     ]
    }
   ],
   "source": [
    "L=[1,2,3]\n",
    "print 'id(L) =',id(L)\n",
    "\n",
    "def suma1(M):\n",
    "    '''Adiciona 1 al primer elemento de una lista.\n",
    "    La función no retorna ningún resultado'''\n",
    "    MC = M[:]\n",
    "    print 'id(MC) =',id(MC)\n",
    "    print 'MC es L:',MC is L\n",
    "    print 'MC es igual a L:',MC == L\n",
    "    MC[0]+=1\n",
    "    return MC\n",
    "\n",
    "M = suma1(L)\n",
    "print 'L =',L\n",
    "print 'M =',M"
   ]
  },
  {
   "cell_type": "markdown",
   "metadata": {},
   "source": [
    "---"
   ]
  },
  {
   "cell_type": "markdown",
   "metadata": {},
   "source": [
    "### Ejemplo: *usando funciones y ciclos* \n",
    "\n",
    "La funcion $\\exp(x)$ puede ser aproximada por una suma de potencias como\n",
    "$$\n",
    "\\exp(x)=\\sum_{x=0}^\\infty \\frac{x^n}{n!} = \\frac{x^0}{0!}+\\frac{x^1}{1!}+\\frac{x^2}{2!}+\\frac{x^3}{3!}+\\cdots\n",
    "$$\n",
    "\n",
    "Una aproximación al valor numérico de la función puede lograrse truncando la serie en una potencia $N$ determinada, es decir\n",
    "$$\n",
    "\\exp^{(N)}(x)\\approx \\sum_{x=0}^N \\frac{x^n}{n!}  \\approx \\frac{x^0}{0!}+\\frac{x^1}{1!}+\\frac{x^2}{2!}+\\frac{x^3}{3!}+\\cdots+\\frac{x^N}{N!},\n",
    "$$\n",
    "sin embargo este truncamiento produce un error en la aproximación. La precisión numérica $E$ puede ser cuantificada calculando la diferencia entre el orden máximo $N$ en la aproximación y el orden siguiente $N+1$, así\n",
    "$$\n",
    "E=\\exp^{(N+1)}(x)-\\exp^{(N)}(x)\n",
    "$$\n",
    "para un $x$ determinado.\n",
    "\n",
    "<img src=\"sin.gif\" height=\"200\" width=\"200\">\n",
    "\n",
    "Calculemos la precisión a orden N=4 para los valores $x=3,5,7$"
   ]
  },
  {
   "cell_type": "code",
   "execution_count": 4,
   "metadata": {
    "collapsed": false
   },
   "outputs": [
    {
     "name": "stdout",
     "output_type": "stream",
     "text": [
      "exp( 2.0 ) = 7.38095238095\n",
      "La precisión es del orden de 0.00634920634921\n"
     ]
    }
   ],
   "source": [
    "from math import pi\n",
    "\n",
    "def factorial(n):\n",
    "    '''Calcula y retorna el factorial de un número entero'''\n",
    "    nfact = 1\n",
    "    while n > 0:\n",
    "        nfact *= n\n",
    "        n -= 1\n",
    "        \n",
    "    return nfact\n",
    "\n",
    "def exp(m,z):\n",
    "    '''Calcula y retorna el orden m de la expansión del exponencial en z'''\n",
    "    return z**m/factorial(m)\n",
    "\n",
    "x = 2.  # Valores de x\n",
    "N = 7    # Orden de truncamiento\n",
    "\n",
    "eN = 0   # Sumador del exp hasta orden N\n",
    "eN1 = 0   # Sumador del exp hasta orden N+1\n",
    "\n",
    "for n in xrange(N+2):   # Calcula la sumatoria\n",
    "    eN1 += exp(n,x)\n",
    "\n",
    "    if n <= N: # evita que se sume el último término\n",
    "        eN += exp(n,x)\n",
    "        \n",
    "    \n",
    "error = eN1-eN\n",
    "\n",
    "print 'exp(',x,') =',eN\n",
    "print 'La precisión es del orden de', error"
   ]
  },
  {
   "cell_type": "markdown",
   "metadata": {},
   "source": [
    "¿Cuál será entonces el orden $N$ necesario para calcular $exp(15)$ con 4 dígitos de precisión?"
   ]
  },
  {
   "cell_type": "code",
   "execution_count": 14,
   "metadata": {
    "collapsed": false
   },
   "outputs": [
    {
     "name": "stdout",
     "output_type": "stream",
     "text": [
      "exp( 2.0 ) = 7.38904601571\n",
      "La precisión es del orden de 8.55111966214e-06 con N = 13\n"
     ]
    }
   ],
   "source": [
    "from math import pi\n",
    "\n",
    "def factorial(n):\n",
    "    '''Calcula y retorna el factorial de un número entero'''\n",
    "    nfact = 1\n",
    "    while n > 0:\n",
    "        nfact *= n\n",
    "        n -= 1\n",
    "        \n",
    "    return nfact\n",
    "\n",
    "def exp(m,z):\n",
    "    '''Calcula y retorna el orden m de la expansión del exponencial en z'''\n",
    "    return z**m/factorial(m)\n",
    "\n",
    "x = 2.  # Valores de x\n",
    "N = 0    # Orden de truncamiento\n",
    "eN = 0   # Sumador del exp hasta orden N\n",
    "eN1 = 0   # Sumador del exp hasta orden N+1\n",
    "\n",
    "error = 100    # Inicializa la variable error\n",
    "\n",
    "while error > 0.00001: \n",
    "    eN1 += exp(N,x)\n",
    "    if N != 0:      # La sumatoria comienza en N=0\n",
    "        eN += exp(N-1,x)\n",
    "    \n",
    "    error = eN1-eN\n",
    "    N += 1\n",
    "\n",
    "print 'exp(',x,') =',eN\n",
    "print 'La precisión es del orden de', error, 'con N =', N"
   ]
  }
 ],
 "metadata": {
  "kernelspec": {
   "display_name": "Python 2",
   "language": "python",
   "name": "python2"
  },
  "language_info": {
   "codemirror_mode": {
    "name": "ipython",
    "version": 2
   },
   "file_extension": ".py",
   "mimetype": "text/x-python",
   "name": "python",
   "nbconvert_exporter": "python",
   "pygments_lexer": "ipython2",
   "version": "2.7.11"
  }
 },
 "nbformat": 4,
 "nbformat_minor": 0
}
