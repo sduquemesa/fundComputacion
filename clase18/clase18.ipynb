{
 "cells": [
  {
   "cell_type": "markdown",
   "metadata": {},
   "source": [
    "# Clase 18\n",
    "\n",
    "## *List Comprenhension*\n",
    "\n",
    "---\n",
    "###  Ejercicio\n",
    "Escriba un código que calcule el cuadrado de los números en una lista y los guarde en una nueva."
   ]
  },
  {
   "cell_type": "code",
   "execution_count": 20,
   "metadata": {
    "collapsed": false
   },
   "outputs": [
    {
     "name": "stdout",
     "output_type": "stream",
     "text": [
      "[1, 4, 9, 16, 25]\n"
     ]
    }
   ],
   "source": [
    "L=[1,2,3,4,5]\n",
    "R=[0,0,0,0,0]\n",
    "\n",
    "for i in xrange(len(L)):\n",
    "    R[i] = L[i]**2\n",
    "    \n",
    "print R"
   ]
  },
  {
   "cell_type": "markdown",
   "metadata": {},
   "source": [
    "---"
   ]
  },
  {
   "cell_type": "markdown",
   "metadata": {},
   "source": [
    "Una tarea que surge constantemente es la siguiente. Si tenemos una lista `L1` y necesitamos construir una lista `L2` cuyos elementos son una función definida de los elementos correspondientes de la primera lista. La forma convencional de hacer lo anterior es usando un loop `for` – como seguramente lo hicieron en el caso anterior.\n",
    "\n",
    "Existen, sin embargo, maneras diferentes de realizar la tarea anterior. Comencemos averiguando el uso de la función `map`:"
   ]
  },
  {
   "cell_type": "code",
   "execution_count": 3,
   "metadata": {
    "collapsed": true
   },
   "outputs": [],
   "source": [
    "map?"
   ]
  },
  {
   "cell_type": "markdown",
   "metadata": {},
   "source": [
    "es decir, los números al cuadrado de una lista se pueden calcular como,"
   ]
  },
  {
   "cell_type": "code",
   "execution_count": 4,
   "metadata": {
    "collapsed": false
   },
   "outputs": [
    {
     "name": "stdout",
     "output_type": "stream",
     "text": [
      "L1 = [0, 1, 2, 3, 4, 5, 6, 7, 8, 9, 10]\n",
      "L2 = [0, 1, 4, 9, 16, 25, 36, 49, 64, 81, 100]\n"
     ]
    }
   ],
   "source": [
    "L1 = range(0,11)  # lista de 0 a 10\n",
    "\n",
    "f = lambda x: x**2     # función que calcula el cuadrado del argumento\n",
    "#def f(x): return x**2  # igual que la anterior\n",
    "\n",
    "L2 = map(f,L1)\n",
    "print 'L1 =',L1\n",
    "print 'L2 =',L2"
   ]
  },
  {
   "cell_type": "markdown",
   "metadata": {},
   "source": [
    "---\n",
    "## Ejercicio\n",
    "\n",
    "Sume 5 a todos los elementos de una lista y guarde el resultado en una lista nueva."
   ]
  },
  {
   "cell_type": "code",
   "execution_count": 5,
   "metadata": {
    "collapsed": false
   },
   "outputs": [
    {
     "name": "stdout",
     "output_type": "stream",
     "text": [
      "[1, 2, 3, 4, 5]\n",
      "[6, 7, 8, 9, 10]\n"
     ]
    }
   ],
   "source": [
    "L=[1,2,3,4,5]\n",
    "\n",
    "g = lambda x: x+5\n",
    "\n",
    "R = map(g,L)\n",
    "\n",
    "print L\n",
    "print R"
   ]
  },
  {
   "cell_type": "markdown",
   "metadata": {},
   "source": [
    "---"
   ]
  },
  {
   "cell_type": "markdown",
   "metadata": {},
   "source": [
    "De igual manera, es posible realizar un loop sobre una lista usando *List Comprenhension*"
   ]
  },
  {
   "cell_type": "code",
   "execution_count": 6,
   "metadata": {
    "collapsed": false
   },
   "outputs": [
    {
     "name": "stdout",
     "output_type": "stream",
     "text": [
      "[4, 9, 25, 49, 121, 196]\n"
     ]
    }
   ],
   "source": [
    "L1=[2,3,5,7,11,14] \n",
    "L2=[x**2 for x in L1] \n",
    "print L2"
   ]
  },
  {
   "cell_type": "markdown",
   "metadata": {},
   "source": [
    "En general el método anterior no es sólo más sencillo de escribir sino que mejora el tiempo de ejecución de los códigos, especialmente para listas largas.\n",
    "\n",
    "*List Comprenhension* es más versatil que lo mostrado anteriormente. Suponga que queremos construir `L2` con los cuadrados de los números impares en `L1`, entonces"
   ]
  },
  {
   "cell_type": "code",
   "execution_count": 8,
   "metadata": {
    "collapsed": false
   },
   "outputs": [
    {
     "name": "stdout",
     "output_type": "stream",
     "text": [
      "[2, 3, 5, 7, 11, 14]\n",
      "[4, 196]\n"
     ]
    }
   ],
   "source": [
    "L1=[2,3,5,7,11,14] \n",
    "L2=[x*x for x in L1 if x%2==0]\n",
    "\n",
    "print L1\n",
    "print L2"
   ]
  },
  {
   "cell_type": "markdown",
   "metadata": {},
   "source": [
    "Supongamos ahora que necesitamos construir una tercera lista `L3` a partir de `L1` y `L2`. Consideremos el caso de dos listas que contiene las coordenadas $(x,y)$ de un conjunto de puntos en el plano. La distancia Euclidea del origen a estos puntos es $\\sqrt{x^2+y^2}$, la cual puede ser calculada como"
   ]
  },
  {
   "cell_type": "code",
   "execution_count": 9,
   "metadata": {
    "collapsed": false
   },
   "outputs": [
    {
     "name": "stdout",
     "output_type": "stream",
     "text": [
      "[3.1622776601683795, 5.0990195135927845, 8.06225774829855, 2.23606797749979, 1.4142135623730951, 9.486832980505138, 10.295630140987, 12.041594578792296, 9.219544457292887, 9.055385138137417, 7.615773105863909, 8.602325267042627, 10.63014581273465, 7.280109889280518, 7.0710678118654755, 4.242640687119285, 5.830951894845301, 8.54400374531753, 3.605551275463989, 3.1622776601683795, 6.708203932499369, 7.810249675906654, 10.0, 6.324555320336759, 6.082762530298219, 4.242640687119285, 5.830951894845301, 8.54400374531753, 3.605551275463989, 3.1622776601683795]\n"
     ]
    }
   ],
   "source": [
    "import math\n",
    "\n",
    "x=[1,9,7,3,6,3]\n",
    "y=[-3,5,8,-2,1]\n",
    "R=[]\n",
    "\n",
    "for i in x:\n",
    "    for j in y:\n",
    "        dist = math.sqrt(i**2+j**2)\n",
    "        R += [dist]\n",
    "\n",
    "print R"
   ]
  },
  {
   "cell_type": "code",
   "execution_count": 10,
   "metadata": {
    "collapsed": false
   },
   "outputs": [
    {
     "name": "stdout",
     "output_type": "stream",
     "text": [
      "[3.1622776601683795, 5.0990195135927845, 8.06225774829855, 2.23606797749979, 1.4142135623730951, 9.486832980505138, 10.295630140987, 12.041594578792296, 9.219544457292887, 9.055385138137417, 7.615773105863909, 8.602325267042627, 10.63014581273465, 7.280109889280518, 7.0710678118654755, 4.242640687119285, 5.830951894845301, 8.54400374531753, 3.605551275463989, 3.1622776601683795, 6.708203932499369, 7.810249675906654, 10.0, 6.324555320336759, 6.082762530298219, 4.242640687119285, 5.830951894845301, 8.54400374531753, 3.605551275463989, 3.1622776601683795]\n"
     ]
    }
   ],
   "source": [
    "import math\n",
    "\n",
    "x=[1,9,7,3,6,3]\n",
    "y=[-3,5,8,-2,1]\n",
    "\n",
    "dist = [math.sqrt(i**2+j**2) for i in x for j in y]\n",
    "\n",
    "print dist"
   ]
  },
  {
   "cell_type": "markdown",
   "metadata": {},
   "source": [
    "---\n",
    "### Ejercicio\n",
    "\n",
    "Utilize la función `map` para calcular la raiz cuadrada de los números en la lista `[-2,4,9,-9,25,-36]`. Recuerde que la raiz cuadrada solo está definida para números positivos."
   ]
  },
  {
   "cell_type": "code",
   "execution_count": 14,
   "metadata": {
    "collapsed": false
   },
   "outputs": [
    {
     "name": "stdout",
     "output_type": "stream",
     "text": [
      "[0, 2.0, 3.0, 0, 5.0, 0]\n"
     ]
    }
   ],
   "source": [
    "L = [-2,4,9,-9,25,-36]\n",
    "\n",
    "def raizCuadrada(x):\n",
    "    if x < 0:\n",
    "        res = 0\n",
    "    else:\n",
    "        res = math.sqrt(x)\n",
    "    return res\n",
    "    \n",
    "    \n",
    "R = map(raizCuadrada,L)\n",
    "print R"
   ]
  },
  {
   "cell_type": "markdown",
   "metadata": {},
   "source": [
    "Haga lo anterior usando *list comprenhension*."
   ]
  },
  {
   "cell_type": "code",
   "execution_count": 12,
   "metadata": {
    "collapsed": false
   },
   "outputs": [
    {
     "name": "stdout",
     "output_type": "stream",
     "text": [
      "[2.0, 3.0, 5.0]\n"
     ]
    }
   ],
   "source": [
    "L = [-2,4,9,-9,25,-36]\n",
    "R = [x**(1./2) for x in L if x>=0]\n",
    "print R"
   ]
  },
  {
   "cell_type": "markdown",
   "metadata": {},
   "source": [
    "Puedo además utilizar *List Comprenhension* para cualquier tipo de condición"
   ]
  },
  {
   "cell_type": "code",
   "execution_count": 18,
   "metadata": {
    "collapsed": false
   },
   "outputs": [
    {
     "name": "stdout",
     "output_type": "stream",
     "text": [
      "[-2, 4, -9, -36]\n"
     ]
    }
   ],
   "source": [
    "L = [-2,4,9,-9,25,-36]\n",
    "R = [i for i in L if i<5]\n",
    "print R"
   ]
  },
  {
   "cell_type": "markdown",
   "metadata": {},
   "source": [
    "---"
   ]
  },
  {
   "cell_type": "markdown",
   "metadata": {},
   "source": [
    "## Operaciones sobre listas\n",
    "\n",
    "### Adición de elementos a una lista\n",
    "\n",
    "Podemos añadir elementos a una lista, esto es, hacerla crecer. Podríamos asignar un valor a `L1[len(L1)]` (siendo `L1` una variable que contiene una lista), pues de algún modo estamos señalando una posición más a la derecha del último elemento."
   ]
  },
  {
   "cell_type": "code",
   "execution_count": 21,
   "metadata": {
    "collapsed": false
   },
   "outputs": [
    {
     "ename": "IndexError",
     "evalue": "list assignment index out of range",
     "output_type": "error",
     "traceback": [
      "\u001b[1;31m---------------------------------------------------------------------------\u001b[0m",
      "\u001b[1;31mIndexError\u001b[0m                                Traceback (most recent call last)",
      "\u001b[1;32m<ipython-input-21-2b60bae3674b>\u001b[0m in \u001b[0;36m<module>\u001b[1;34m()\u001b[0m\n\u001b[0;32m      1\u001b[0m \u001b[0ma\u001b[0m \u001b[1;33m=\u001b[0m \u001b[1;33m[\u001b[0m\u001b[1;36m1\u001b[0m\u001b[1;33m,\u001b[0m\u001b[1;36m2\u001b[0m\u001b[1;33m,\u001b[0m\u001b[1;36m3\u001b[0m\u001b[1;33m]\u001b[0m\u001b[1;33m\u001b[0m\u001b[0m\n\u001b[1;32m----> 2\u001b[1;33m \u001b[0ma\u001b[0m\u001b[1;33m[\u001b[0m\u001b[0mlen\u001b[0m\u001b[1;33m(\u001b[0m\u001b[0ma\u001b[0m\u001b[1;33m)\u001b[0m\u001b[1;33m]\u001b[0m \u001b[1;33m=\u001b[0m \u001b[1;36m4\u001b[0m\u001b[1;33m\u001b[0m\u001b[0m\n\u001b[0m",
      "\u001b[1;31mIndexError\u001b[0m: list assignment index out of range"
     ]
    }
   ],
   "source": [
    "a = [1,2,3]\n",
    "a[len(a)] = 4"
   ]
  },
  {
   "cell_type": "markdown",
   "metadata": {},
   "source": [
    "o, utilizando el operador `+`"
   ]
  },
  {
   "cell_type": "code",
   "execution_count": 22,
   "metadata": {
    "collapsed": false
   },
   "outputs": [
    {
     "ename": "TypeError",
     "evalue": "can only concatenate list (not \"int\") to list",
     "output_type": "error",
     "traceback": [
      "\u001b[1;31m---------------------------------------------------------------------------\u001b[0m",
      "\u001b[1;31mTypeError\u001b[0m                                 Traceback (most recent call last)",
      "\u001b[1;32m<ipython-input-22-320c9b1938fc>\u001b[0m in \u001b[0;36m<module>\u001b[1;34m()\u001b[0m\n\u001b[1;32m----> 1\u001b[1;33m \u001b[0ma\u001b[0m \u001b[1;33m=\u001b[0m \u001b[0ma\u001b[0m\u001b[1;33m+\u001b[0m\u001b[1;36m4\u001b[0m\u001b[1;33m\u001b[0m\u001b[0m\n\u001b[0m",
      "\u001b[1;31mTypeError\u001b[0m: can only concatenate list (not \"int\") to list"
     ]
    }
   ],
   "source": [
    "a = a+4"
   ]
  },
  {
   "cell_type": "markdown",
   "metadata": {},
   "source": [
    "el operador de concatenación trabaja con dos listas, no con una lista y un entero, así que el elemento a añadir debe formar parte de una lista"
   ]
  },
  {
   "cell_type": "code",
   "execution_count": 23,
   "metadata": {
    "collapsed": false
   },
   "outputs": [
    {
     "name": "stdout",
     "output_type": "stream",
     "text": [
      "[1, 2, 3, 4]\n"
     ]
    }
   ],
   "source": [
    "a = a+[4]\n",
    "print a"
   ]
  },
  {
   "cell_type": "markdown",
   "metadata": {},
   "source": [
    "también podemos utilizar `append` para añadir elementos a una lista"
   ]
  },
  {
   "cell_type": "code",
   "execution_count": 21,
   "metadata": {
    "collapsed": false
   },
   "outputs": [
    {
     "name": "stdout",
     "output_type": "stream",
     "text": [
      "[1, 2, 3, 4]\n"
     ]
    }
   ],
   "source": [
    "a = [1,2,3]\n",
    "a.append(4)\n",
    "print a"
   ]
  },
  {
   "cell_type": "markdown",
   "metadata": {},
   "source": [
    "Existe una diferencia fundamental entre usar el operador de concatenación `+` y usar `append`: la concatenación crea una nueva lista copiando los elementos de las listas que participan como operandos y append modifica la lista original. Concatenar supone entonces crear una lista nueva en la que se copian todos y cada uno de los elementos de las listas concatenadas."
   ]
  },
  {
   "cell_type": "code",
   "execution_count": 24,
   "metadata": {
    "collapsed": false
   },
   "outputs": [
    {
     "name": "stdout",
     "output_type": "stream",
     "text": [
      "tiempo de ejecución 5.88893890381e-05\n"
     ]
    }
   ],
   "source": [
    "from time import time\n",
    "\n",
    "a = range(0,1000)\n",
    "\n",
    "t0 = time()\n",
    "a = a + [0]\n",
    "t1 = time()\n",
    "\n",
    "print 'tiempo de ejecución', t1-t0"
   ]
  },
  {
   "cell_type": "markdown",
   "metadata": {},
   "source": [
    "Sin embargo, el `append` es equivalente a trabajar sobre la lista original y añadirle una posición en memoria con el contenido añadido."
   ]
  },
  {
   "cell_type": "code",
   "execution_count": 26,
   "metadata": {
    "collapsed": false
   },
   "outputs": [
    {
     "name": "stdout",
     "output_type": "stream",
     "text": [
      "tiempo de ejecución 0.000108003616333\n"
     ]
    }
   ],
   "source": [
    "a = range(0,1000)\n",
    "\n",
    "t0 = time()\n",
    "a.append(0)\n",
    "t1 = time()\n",
    "\n",
    "print 'tiempo de ejecución', t1-t0"
   ]
  },
  {
   "cell_type": "markdown",
   "metadata": {},
   "source": [
    "Es decir, `append` hace un uso más efectivo de la memoria y es más eficiente temporalmente.\n",
    "\n",
    "---\n",
    "\n",
    "### Ejercicio\n",
    "\n",
    "Escriba un código que genere una lista con los $n$ primeros números de Fibonacci, donde $n$ es un número determinado por el usuario."
   ]
  },
  {
   "cell_type": "code",
   "execution_count": 40,
   "metadata": {
    "collapsed": false
   },
   "outputs": [
    {
     "name": "stdout",
     "output_type": "stream",
     "text": [
      "Dame tu n pegaso 10\n",
      "[0, 1, 1, 2, 3, 5, 8, 13, 21, 34]\n"
     ]
    }
   ],
   "source": [
    "def fib(n):\n",
    "    if n == 0:\n",
    "        fn = 0\n",
    "    elif n==1 or n==2:\n",
    "        fn = 1\n",
    "    elif n>2:\n",
    "        fn = fib(n-1)+fib(n-2)\n",
    "        \n",
    "    return fn\n",
    "\n",
    "R = []\n",
    "n = input('Dame tu n pegaso ')\n",
    "while type(n) != int:\n",
    "    n = input('Pegaso, necesito un entero ')\n",
    "\n",
    "for i in xrange(0,n):\n",
    "    R.append(fib(i))\n",
    "\n",
    "print R"
   ]
  },
  {
   "cell_type": "markdown",
   "metadata": {},
   "source": [
    "---\n",
    "\n",
    "## Comparación de listas\n",
    "\n",
    "Los operadores de comparación también trabajan con listas. Parece claro cómo se comportarán operadores como el de igualdad (==) o el de desigualdad (!=)\n",
    "- si las listas son de talla diferente, resolviendo que las listas son diferentes;\n",
    "- y si miden lo mismo, comparando elemento a elemento de izquierda a derecha y resolviendo que las dos listas son iguales si todos sus elementos son iguales, y diferentes si hay algún elemento distinto."
   ]
  },
  {
   "cell_type": "code",
   "execution_count": 29,
   "metadata": {
    "collapsed": false
   },
   "outputs": [
    {
     "data": {
      "text/plain": [
       "False"
      ]
     },
     "execution_count": 29,
     "metadata": {},
     "output_type": "execute_result"
    }
   ],
   "source": [
    "[1,2,3] == [1,2]"
   ]
  },
  {
   "cell_type": "code",
   "execution_count": 30,
   "metadata": {
    "collapsed": false
   },
   "outputs": [
    {
     "data": {
      "text/plain": [
       "False"
      ]
     },
     "execution_count": 30,
     "metadata": {},
     "output_type": "execute_result"
    }
   ],
   "source": [
    "a = [1,3,4]\n",
    "b = [1,2,4]\n",
    "a == b"
   ]
  },
  {
   "cell_type": "markdown",
   "metadata": {},
   "source": [
    "---\n",
    "\n",
    "### Ejercicio\n",
    "\n",
    "Escriba un programa que compare dos listas de números `L1` y `L2` dadas por el usuario determinando si `L1` es mayor que `L2` en el sentido en que contenga números mayores."
   ]
  },
  {
   "cell_type": "code",
   "execution_count": 49,
   "metadata": {
    "collapsed": false
   },
   "outputs": [
    {
     "name": "stdout",
     "output_type": "stream",
     "text": [
      "L1 es mayor que L2: False\n"
     ]
    }
   ],
   "source": [
    "L1=[2,3,4]\n",
    "L2=[5,6,7]\n",
    "\n",
    "resultado = False\n",
    "\n",
    "for i in xrange(len(L1)):\n",
    "    for j in xrange(len(L2)):\n",
    "        if L1[i] > L2[j]:\n",
    "            resultado = True\n",
    "            \n",
    "print 'L1 es mayor que L2:', resultado"
   ]
  },
  {
   "cell_type": "markdown",
   "metadata": {},
   "source": [
    "---\n",
    "\n",
    "Los operadores `<`, `>`, `<=` y `>=` también funcionan con listas. Estos comparan elemento a elemento y determinan la condicion si alguna de las comparaciones anteriores es verdadera."
   ]
  },
  {
   "cell_type": "code",
   "execution_count": 50,
   "metadata": {
    "collapsed": false
   },
   "outputs": [
    {
     "name": "stdout",
     "output_type": "stream",
     "text": [
      "False\n"
     ]
    }
   ],
   "source": [
    "L1=[2,3,4]\n",
    "L2=[5,6,7]\n",
    "\n",
    "print L1 > L2"
   ]
  },
  {
   "cell_type": "markdown",
   "metadata": {},
   "source": [
    "## Igualdad de listas\n",
    "\n",
    "Existe una diferencia fundamental en la igualdad de listas: ¡Dos listas pueden ser iguales pero no ser la misma!. Esto debido a las asignaciones en memoria que hace Python. Por ejemplo"
   ]
  },
  {
   "cell_type": "code",
   "execution_count": 31,
   "metadata": {
    "collapsed": false
   },
   "outputs": [
    {
     "data": {
      "text/plain": [
       "True"
      ]
     },
     "execution_count": 31,
     "metadata": {},
     "output_type": "execute_result"
    }
   ],
   "source": [
    "a = range(5)\n",
    "b = [0,1,2,3,4]\n",
    "a == b"
   ]
  },
  {
   "cell_type": "code",
   "execution_count": 32,
   "metadata": {
    "collapsed": false
   },
   "outputs": [
    {
     "data": {
      "text/plain": [
       "False"
      ]
     },
     "execution_count": 32,
     "metadata": {},
     "output_type": "execute_result"
    }
   ],
   "source": [
    "a is b"
   ]
  },
  {
   "cell_type": "code",
   "execution_count": 34,
   "metadata": {
    "collapsed": false
   },
   "outputs": [
    {
     "data": {
      "text/plain": [
       "True"
      ]
     },
     "execution_count": 34,
     "metadata": {},
     "output_type": "execute_result"
    }
   ],
   "source": [
    "c = a[:]\n",
    "c == a"
   ]
  },
  {
   "cell_type": "code",
   "execution_count": 35,
   "metadata": {
    "collapsed": false
   },
   "outputs": [
    {
     "data": {
      "text/plain": [
       "False"
      ]
     },
     "execution_count": 35,
     "metadata": {},
     "output_type": "execute_result"
    }
   ],
   "source": [
    "c is a"
   ]
  },
  {
   "cell_type": "code",
   "execution_count": 37,
   "metadata": {
    "collapsed": false
   },
   "outputs": [
    {
     "data": {
      "text/plain": [
       "True"
      ]
     },
     "execution_count": 37,
     "metadata": {},
     "output_type": "execute_result"
    }
   ],
   "source": [
    "d = b\n",
    "d == b"
   ]
  },
  {
   "cell_type": "code",
   "execution_count": 39,
   "metadata": {
    "collapsed": false
   },
   "outputs": [
    {
     "data": {
      "text/plain": [
       "True"
      ]
     },
     "execution_count": 39,
     "metadata": {},
     "output_type": "execute_result"
    }
   ],
   "source": [
    "d is b"
   ]
  },
  {
   "cell_type": "markdown",
   "metadata": {},
   "source": [
    "El operador `==` compara las listas elemento a elemento, mientas que el operador `is` compara la posición en memoria de las listas."
   ]
  },
  {
   "cell_type": "markdown",
   "metadata": {},
   "source": [
    "## Ordenación de una lista"
   ]
  },
  {
   "cell_type": "markdown",
   "metadata": {},
   "source": [
    "Supongamos que deseamos ordenar (de menor a mayor) la lista `[2, 26, 4, 3, 1]`, es decir, hacer que pase a ser `[1, 2, 3, 4, 26]`. Existen varios métodos para realizar la tarea anterior, entre ellos el más sencillo es el *método de la burbuja* en el cual se comparan dos elementos consecutivos de la lista y se intercambian si el elemento `i+1` es menor que el elemento `i`. Lo anterior se realiza las veces necesarias hasta obtener una lista organizada.\n",
    "\n",
    "<img src=\"BubbleSort.gif\">"
   ]
  },
  {
   "cell_type": "markdown",
   "metadata": {},
   "source": [
    "---\n",
    "\n",
    "### Ejercicio\n",
    "\n",
    "Escriba un programa que organize una lista y utilice la lista mencionada anteriormente para verificar su funcionamiento."
   ]
  },
  {
   "cell_type": "code",
   "execution_count": null,
   "metadata": {
    "collapsed": true
   },
   "outputs": [],
   "source": []
  },
  {
   "cell_type": "markdown",
   "metadata": {},
   "source": [
    "---"
   ]
  }
 ],
 "metadata": {
  "kernelspec": {
   "display_name": "Python 2",
   "language": "python",
   "name": "python2"
  },
  "language_info": {
   "codemirror_mode": {
    "name": "ipython",
    "version": 2
   },
   "file_extension": ".py",
   "mimetype": "text/x-python",
   "name": "python",
   "nbconvert_exporter": "python",
   "pygments_lexer": "ipython2",
   "version": "2.7.11"
  }
 },
 "nbformat": 4,
 "nbformat_minor": 0
}
