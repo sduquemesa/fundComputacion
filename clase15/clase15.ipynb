{
 "cells": [
  {
   "cell_type": "markdown",
   "metadata": {},
   "source": [
    "# Clase 15"
   ]
  },
  {
   "cell_type": "markdown",
   "metadata": {},
   "source": [
    "### La función `print` en python"
   ]
  },
  {
   "cell_type": "markdown",
   "metadata": {},
   "source": [
    "La función `print` imprime en el intérprete cualquier objeto de python haciendo uso de su identificador "
   ]
  },
  {
   "cell_type": "code",
   "execution_count": 1,
   "metadata": {
    "collapsed": false
   },
   "outputs": [
    {
     "name": "stdout",
     "output_type": "stream",
     "text": [
      "5\n"
     ]
    }
   ],
   "source": [
    "a = 5\n",
    "print a"
   ]
  },
  {
   "cell_type": "markdown",
   "metadata": {},
   "source": [
    "`print` espera una tupla como su argumento. Es decir, si 'aa' es un entero y 'b' es un float, escribiremos simplemente"
   ]
  },
  {
   "cell_type": "code",
   "execution_count": 7,
   "metadata": {
    "collapsed": false
   },
   "outputs": [
    {
     "name": "stdout",
     "output_type": "stream",
     "text": [
      "El cuadrado de 5 es 25 y b es 0.1\n"
     ]
    }
   ],
   "source": [
    "aa = a**2\n",
    "b = 0.1\n",
    "print 'El cuadrado de', a, 'es', aa, 'y b es', b"
   ]
  },
  {
   "cell_type": "markdown",
   "metadata": {},
   "source": [
    "Sin embargo, de esta maner no tenemos control sobre el formato de los números haciendo difícil crear salidas en las que se puedan imprimir tablas o arreglos de algún estilo.\n",
    "\n",
    "La primera aproximación para solucionar esto es"
   ]
  },
  {
   "cell_type": "code",
   "execution_count": 11,
   "metadata": {
    "collapsed": false
   },
   "outputs": [
    {
     "name": "stdout",
     "output_type": "stream",
     "text": [
      "El cuadrado de a es 25 y b es 0.100000\n"
     ]
    }
   ],
   "source": [
    "print \"El cuadrado de a es %d y b es %f\" % (aa,b)"
   ]
  },
  {
   "cell_type": "markdown",
   "metadata": {},
   "source": [
    "Aquí el *string* es impreso con `%d` reemplazado por un entero y `%f` por un float, ambos escogidos de la tupla final precedida por `%`. Como está escrito, el resultado coincide con el caso anterior.\n",
    "\n",
    "Los strings tienen una operación *built-in*: el operador `%` (módulo). Conocido también como el operador de formato para strings o el operador de interpolación. \n",
    "Dado `formato % valores` (donde `formato` es un string), las especificaciones de `%` en `formato` son reemplazadas por las conversiones determinadas en el string resultante.\n",
    "\n",
    "\n",
    "| Conversión | Significado           |\n",
    "| ---------- | --------------------- |\n",
    "|`d`           | Signed integer decimal| \n",
    "|`o`           | Signed octal value    |\n",
    "|`x`           | Signed hexadecimal    |\n",
    "|`b`           | Binary base 2         |\n",
    "|`e` or `E`         | Floating point exponential format |\n",
    "|`f`           | Floating point decimal format |\n",
    "|`g` or `G`    | Floating point format. Choose between `f` or `e` automatically |\n",
    "|`s`           | String |\n",
    "\n",
    "Comencemos por considerar el formato del entero `aa` definido anteriormente, con valor 25. Si reemplazamos `%d` por `%5d` la salida estará justificada a la derecha 5 espacios"
   ]
  },
  {
   "cell_type": "code",
   "execution_count": 12,
   "metadata": {
    "collapsed": false
   },
   "outputs": [
    {
     "name": "stdout",
     "output_type": "stream",
     "text": [
      "25\n"
     ]
    }
   ],
   "source": [
    "print '%d' % aa"
   ]
  },
  {
   "cell_type": "code",
   "execution_count": 13,
   "metadata": {
    "collapsed": false
   },
   "outputs": [
    {
     "name": "stdout",
     "output_type": "stream",
     "text": [
      "   25\n"
     ]
    }
   ],
   "source": [
    "print '%5d' % aa"
   ]
  },
  {
   "cell_type": "markdown",
   "metadata": {},
   "source": [
    "similarmente `%-5d` producirá una salida justificada a la izquierda de cinco espacio. De igual manera `%05d` dará como resultado el número 25 en 5 espacios rellenando los espacios vacíos con 0"
   ]
  },
  {
   "cell_type": "code",
   "execution_count": 16,
   "metadata": {
    "collapsed": false
   },
   "outputs": [
    {
     "name": "stdout",
     "output_type": "stream",
     "text": [
      "00025\n"
     ]
    }
   ],
   "source": [
    "print '%05d' % aa"
   ]
  },
  {
   "cell_type": "markdown",
   "metadata": {},
   "source": [
    "Si el número es negativo entonces el signo menos contará como un caracter en la salida"
   ]
  },
  {
   "cell_type": "code",
   "execution_count": 34,
   "metadata": {
    "collapsed": false
   },
   "outputs": [
    {
     "name": "stdout",
     "output_type": "stream",
     "text": [
      "-3\n",
      "-03\n"
     ]
    }
   ],
   "source": [
    "print '%02d\\n%03d' % (-3,-3)"
   ]
  },
  {
   "cell_type": "markdown",
   "metadata": {},
   "source": [
    "Se puede exigir el uso de signo para números negativos tanto como positivos con `%+5d`"
   ]
  },
  {
   "cell_type": "code",
   "execution_count": 52,
   "metadata": {
    "collapsed": false
   },
   "outputs": [
    {
     "name": "stdout",
     "output_type": "stream",
     "text": [
      "-3\t-03 \n",
      "+5\t5\n"
     ]
    }
   ],
   "source": [
    "print '%02d\\t%03d \\n%+d\\t%d' % (-3,-3,5,5)"
   ]
  },
  {
   "cell_type": "code",
   "execution_count": 54,
   "metadata": {
    "collapsed": false
   },
   "outputs": [
    {
     "name": "stdout",
     "output_type": "stream",
     "text": [
      "-5\t5 \n",
      "-5\t 5\n"
     ]
    }
   ],
   "source": [
    "print '%+d\\t%d \\n%+d\\t% d' % (-5,5,-5,5)"
   ]
  },
  {
   "cell_type": "markdown",
   "metadata": {},
   "source": [
    "Si el número requiere más caracteres de los especificados, Python borra la instrucción para preservar la precisión"
   ]
  },
  {
   "cell_type": "code",
   "execution_count": 55,
   "metadata": {
    "collapsed": false
   },
   "outputs": [
    {
     "name": "stdout",
     "output_type": "stream",
     "text": [
      "1233453467\n"
     ]
    }
   ],
   "source": [
    "print '%5d' % (1233453467)"
   ]
  },
  {
   "cell_type": "markdown",
   "metadata": {},
   "source": [
    "Para los floats existen tres posibilidades. Supongamos que `y` tome el valor 123.456789. Si reemplazamos %f por %.3f la salida tendrá 3 dígitos decimales"
   ]
  },
  {
   "cell_type": "code",
   "execution_count": 56,
   "metadata": {
    "collapsed": false
   },
   "outputs": [
    {
     "name": "stdout",
     "output_type": "stream",
     "text": [
      "123.457\n"
     ]
    }
   ],
   "source": [
    "y = 123.456789\n",
    "print '%.3f' % y"
   ]
  },
  {
   "cell_type": "markdown",
   "metadata": {},
   "source": [
    "De igual manera que con los enteros, se puede justificar la salida a derecha e izquierda 10 espacios usando `%10.3f` o `%-10.3f`, respectivamente,"
   ]
  },
  {
   "cell_type": "code",
   "execution_count": 62,
   "metadata": {
    "collapsed": false
   },
   "outputs": [
    {
     "name": "stdout",
     "output_type": "stream",
     "text": [
      "   123.457\n"
     ]
    }
   ],
   "source": [
    "print '%10.3f' % y"
   ]
  },
  {
   "cell_type": "markdown",
   "metadata": {},
   "source": [
    "y utilizar `%010.3f` reemplazará los espacios por ceros"
   ]
  },
  {
   "cell_type": "code",
   "execution_count": 64,
   "metadata": {
    "collapsed": false
   },
   "outputs": [
    {
     "name": "stdout",
     "output_type": "stream",
     "text": [
      "000123.457\n"
     ]
    }
   ],
   "source": [
    "print '%010.3f' % y"
   ]
  },
  {
   "cell_type": "markdown",
   "metadata": {},
   "source": [
    "Los signos `+`, `-` y el ' ' (espacio en blanco) antes del `%` forzaran de igual manera el uso del signo."
   ]
  },
  {
   "cell_type": "code",
   "execution_count": 65,
   "metadata": {
    "collapsed": false
   },
   "outputs": [
    {
     "name": "stdout",
     "output_type": "stream",
     "text": [
      "+123.45679\n",
      "-123.45679\n",
      " 123.45679\n"
     ]
    }
   ],
   "source": [
    "print '%+.5f\\n%-.5f\\n% .5f' % (y,-y,y)"
   ]
  },
  {
   "cell_type": "markdown",
   "metadata": {},
   "source": [
    "y… ¿para qué esto?"
   ]
  },
  {
   "cell_type": "code",
   "execution_count": 87,
   "metadata": {
    "collapsed": false
   },
   "outputs": [
    {
     "name": "stdout",
     "output_type": "stream",
     "text": [
      " ------------------------ \n",
      "|x\t|\t x**2-3.7|\n",
      " ------------------------ \n",
      " 0\t|\t -3.7\n",
      " 1\t|\t -2.7\n",
      " 2\t|\t  0.3\n",
      " 3\t|\t  5.3\n",
      " 4\t|\t  12.3\n",
      " 5\t|\t  21.3\n",
      " 6\t|\t  32.3\n",
      " 7\t|\t  45.3\n",
      " 8\t|\t  60.3\n",
      " 9\t|\t  77.3\n",
      " ------------------------ \n"
     ]
    }
   ],
   "source": [
    "print ' ------------------------ '\n",
    "print '|x\\t|\\t x**2-3.7|'\n",
    "print ' ------------------------ '\n",
    "\n",
    "for i in xrange(0,10):\n",
    "    r = i**2-3.7\n",
    "    print ' %d\\t|\\t % .1f' % (i,r)\n",
    "    \n",
    "print ' ------------------------ '"
   ]
  },
  {
   "cell_type": "markdown",
   "metadata": {},
   "source": [
    "---"
   ]
  },
  {
   "cell_type": "markdown",
   "metadata": {},
   "source": [
    "## Ejercicios"
   ]
  },
  {
   "cell_type": "markdown",
   "metadata": {},
   "source": [
    "1. Cree una tabla en la cual se muestren los primero diez números de Fibonacci. Para esto cree una función que calcule el número Fibonnaci $n$ y retorne el resultado.\n",
    "\n",
    "2. Un polinomio de la forma $a x^2 + bx +c = 0$ tiene dos soluciones (raices) para $x$ tales que\n",
    "$$ x_1 = \\frac{-b + \\sqrt{\\Delta}}{2a} \\quad x_2 = \\frac{-b - \\sqrt{\\Delta}}{2a} $$\n",
    "si y solo si el determinante $\\Delta=b^2-4ac$ es positivo.\n",
    "Escriba un script que determine la existencia y calcule las raices de un polinomio de segundo grado dados los coeficientes $a, b, c$.\n",
    "\n",
    "3. Calcule el resultado de la sumatoria de los $n$ primeros número pares para un $n$ dado por el usuario.\n",
    "\n",
    "4. Haga un programa que determine si un número es primo.\n",
    "\n",
    "5. ¿Cuál será el orden $N$ necesario para calcular el $\\cos(x)$ con una precisión determinada por el usuario si $x=0,10,20,60$? \n",
    "\n",
    "Si la precisión (o el error absoluto) $E = \\cos^{(N+1)}( x)-\\cos^{(N)}( x)$ para un $x$ determinado, una precisión de 15 dígitos decimales implica que $E<1\\times 10^{-15}$.\n",
    "\n",
    "La función $\\cos(x)$ puede ser aproximada a orden $N$ por \n",
    "$$\\cos^{(N)}( x) = \\sum^{N}_{n=0} \\frac{(-1)^n}{(2n)!} x^{2n} = 1 - \\frac{x^2}{2!} + \\frac{x^4}{4!} - \\cdots + \\frac{(-1)^N}{(2N)!} x^{2N} $$"
   ]
  }
 ],
 "metadata": {
  "kernelspec": {
   "display_name": "Python 2",
   "language": "python",
   "name": "python2"
  },
  "language_info": {
   "codemirror_mode": {
    "name": "ipython",
    "version": 2
   },
   "file_extension": ".py",
   "mimetype": "text/x-python",
   "name": "python",
   "nbconvert_exporter": "python",
   "pygments_lexer": "ipython2",
   "version": "2.7.11"
  }
 },
 "nbformat": 4,
 "nbformat_minor": 0
}
