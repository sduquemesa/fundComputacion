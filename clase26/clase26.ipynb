{
 "cells": [
  {
   "cell_type": "markdown",
   "metadata": {},
   "source": [
    "# Clase 26\n",
    "\n",
    "## Matplotlib\n",
    "\n",
    "Matplotlib es un paquete para la producción de gráficos como un add-on de numpy. Usualmente es parte de la instalción de Python. Existe una extensiva [documentación](http://matplotlib documentation) y además una [galería](http://matplotlib.org/gallery.html) en donde una larga collección de figuras de alta calidad gráfica se pueden acceder junto con su código.\n",
    "\n",
    "### Introducción: figuras simples\n",
    "\n",
    "Generas figuras en python implica dos procesos diferentes llamados *front-ends* and *back-ends*\n",
    "\n",
    "#### Front-end\n",
    "\n",
    "El *front-end* es la interface de usuario. Como usuario uno debe decidir si el resultado de su figura debe depender de la ejecución de su intérpretre, en un caso más general, generar figuras sin el uso de ningún intérprete para luego invocarlas a tráves de un archivo de Python. La primera opción, más simple pero (un poquito) restrictiva es utilizar la rama `pyplot` de matplotlib. \n",
    "```python\n",
    "import matplotlib.pyplot as plt\n",
    "```\n",
    "Exploremos el contenido de este módulo con\n",
    "```\n",
    "plt.<TAB>\n",
    "```"
   ]
  },
  {
   "cell_type": "code",
   "execution_count": 1,
   "metadata": {
    "collapsed": true
   },
   "outputs": [],
   "source": [
    "import matplotlib.pyplot as plt\n",
    "import numpy as np"
   ]
  },
  {
   "cell_type": "code",
   "execution_count": null,
   "metadata": {
    "collapsed": true
   },
   "outputs": [],
   "source": [
    "plt."
   ]
  },
  {
   "cell_type": "markdown",
   "metadata": {},
   "source": [
    "#### Back-end\n",
    "\n",
    "El *front-end* tranfiere a Python las peticiones del usuario. Pero, ¿cómo se convierten estas en resultados visibles? La respuesta a esta pregunta depende del hardware y es el trbajo del *back-end* del software responderlas. El paquete `matplotlib` contiene un amplio rango de *back-ends*, ¿cuál debemos usar entonces? Por fortuna el instalador de Python automáticamente realiza esta elección al momento de la instalación para elegir el *back-end* óptimo para su máquina. El *back-end* que utiliza nuestra máquina se puede averiguar con la siguiente secuencia de comandos"
   ]
  },
  {
   "cell_type": "code",
   "execution_count": 2,
   "metadata": {
    "collapsed": false
   },
   "outputs": [
    {
     "data": {
      "text/plain": [
       "'/etc/matplotlibrc'"
      ]
     },
     "execution_count": 2,
     "metadata": {},
     "output_type": "execute_result"
    }
   ],
   "source": [
    "import matplotlib \n",
    "matplotlib.matplotlib_fname()"
   ]
  },
  {
   "cell_type": "markdown",
   "metadata": {},
   "source": [
    "#### Una figura simple"
   ]
  },
  {
   "cell_type": "code",
   "execution_count": 1,
   "metadata": {
    "collapsed": false
   },
   "outputs": [],
   "source": [
    "import numpy as np\n",
    "import matplotlib.pyplot as plt\n",
    "#%matplotlib inline\n",
    "\n",
    "x=np.linspace(-np.pi,np.pi,101)\n",
    "y=np.sin(x)+np.sin(3*x)/3.0\n",
    "\n",
    "plt.plot(x, y)               # construye la figura\n",
    "plt.savefig('foo.pdf')       # guarda la figura en el directorio local\n",
    "plt.show()                   # muestra la figura y bloquea el intérprete"
   ]
  },
  {
   "cell_type": "markdown",
   "metadata": {},
   "source": [
    "¡es muy sencillo! Hagamos ahora un ejercicio\n",
    "\n",
    "---\n",
    "### Ejercicio\n",
    "\n",
    "*Vectorizando una función con una condición if*. Considere la función \n",
    "$$\n",
    "f(x) = \\frac{n}{1+n}\\left\\{\n",
    "  \\begin{array}{lr}\n",
    "    0.5^{1+\\frac{1}{n}}-(0.5-x)^{1+\\frac{1}{n}}, & 0 \\leq x \\leq 0.5\\\\\n",
    "    0.5^{1+\\frac{1}{n}}-(x-0.5)^{1+\\frac{1}{n}}, & 0.5 < x \\leq 1\n",
    "  \\end{array}\n",
    "\\right.\n",
    "$$\n",
    "en donde $n$ es un número real tal que $0<n\\leq 1$. (Esta ecuación describe la velociadad de un fluído en un canal cuando es sometido a presión.) Haga una función vectorizada para evaluar $f(x)$ para un conjunto $x$ de $m$ puntos igualmente espaciados entre 0 y 1 (no debe aparecer nungún loop sobre los valores de $x$), de tal manera que\n",
    "```python\n",
    "r = f(x)\n",
    "```\n",
    "donde `r` es un array con los resultados de aplicar `f(x)` sobre un array `x`.\n",
    "\n",
    "Utilice luego matplotlib para visualizar sus resultados."
   ]
  },
  {
   "cell_type": "code",
   "execution_count": 7,
   "metadata": {
    "collapsed": false
   },
   "outputs": [
    {
     "name": "stderr",
     "output_type": "stream",
     "text": [
      "/usr/local/lib/python2.7/dist-packages/ipykernel/__main__.py:10: RuntimeWarning: invalid value encountered in power\n",
      "/usr/local/lib/python2.7/dist-packages/ipykernel/__main__.py:11: RuntimeWarning: invalid value encountered in power\n"
     ]
    }
   ],
   "source": [
    "m = 100\n",
    "x = np.linspace(0,1,m)\n",
    "\n",
    "def f(x,n):\n",
    "    '''\n",
    "    args: x un array, n un float\n",
    "    return: un array del tamaño de x\n",
    "    '''\n",
    "    \n",
    "    x1 = 0.5**(1+1/n)-(0.5-x)**(1+1/n)\n",
    "    x2 = 0.5**(1+1/n)-(x-0.5)**(1+1/n)\n",
    "    return np.where(x<=0.5,x1,x2)\n",
    "\n",
    "r1 = f(x,0.1)\n",
    "r2 = f(x,0.4)\n",
    "r3 = f(x,0.8)\n",
    "r4 = f(x,0.99)\n",
    "\n",
    "plt.plot(x,r1,'b-')\n",
    "plt.plot(x,r2,'r--')\n",
    "plt.plot(x,r3,'y-.')\n",
    "plt.plot(x,r4,'g:')\n",
    "\n",
    "plt.show()"
   ]
  },
  {
   "cell_type": "markdown",
   "metadata": {},
   "source": [
    "---\n",
    "\n",
    "#### Controles interactivos\n",
    "\n",
    "Los siete botones interactivos en la parte baja de la ventana de matplotlib permiten la manipulación de la figura actual.\n",
    "\n",
    "El boton 4 *pan/zoom tool* permite dos operaciones (primero se debeo oprimir el botón para activar la función y luego mover el puntero sobre la figura):\n",
    "1. Pan: Se presiona el botón izquierdo del mouse mientras este se mueve a una nueva posición y luego se suelta. Presionando simultáneamente la tecla `x` o `y` la  acción el limitada en la dirección selecionada.\n",
    "2. Zoom: Presione el botón derecho del mouse en un punto definifo y sosténganlo allí para ampliar la figura. Movimiento en la dirección horizontal hacia la derecha o izquierda genera un zoom proporcional en el eje x. El movimiento vertical realiza un zoom similar al hecho en el eje x. Las teclas `x` y `y` trabajan de la misma manera que en el caso anterior. Si se presiona la tecla `Ctrl` se preserva el aspecto de la figura."
   ]
  },
  {
   "cell_type": "code",
   "execution_count": 8,
   "metadata": {
    "collapsed": false
   },
   "outputs": [
    {
     "data": {
      "image/jpeg": "[encoded data removed]",
      "text/html": [
       "\n",
       "        <iframe\n",
       "            width=\"400\"\n",
       "            height=\"300\"\n",
       "            src=\"https://www.youtube.com/embed/MIyJ2AiUGfA\"\n",
       "            frameborder=\"0\"\n",
       "            allowfullscreen\n",
       "        ></iframe>\n",
       "        "
      ],
      "text/plain": [
       "<IPython.lib.display.YouTubeVideo at 0x7fc214ce5410>"
      ]
     },
     "execution_count": 8,
     "metadata": {},
     "output_type": "execute_result"
    }
   ],
   "source": [
    "from IPython.display import YouTubeVideo\n",
    "YouTubeVideo('MIyJ2AiUGfA')"
   ]
  },
  {
   "cell_type": "markdown",
   "metadata": {},
   "source": [
    "El botón 5 es un poco más conveniente. Presiónelo para activarlo y, presionando el botón izquierdo del mouse, dibuje en rectángulo en la figura. La porción rectangular seleccionada se ampliará.\n",
    "\n",
    "El botón 1 nos retorna a la figura original y los botones 2 y 3 nos devuelven a las acciones previas sobre la figura. El botón 6 permite controlar las márgenes de la figura. En principio el botón 7 permite guardar la figura pero no siempre es funcional en todas las instalaciones."
   ]
  },
  {
   "cell_type": "markdown",
   "metadata": {},
   "source": [
    "## Figuras en el plano cartesiano\n",
    "\n",
    "### La función `plot` de *matplotlib*\n",
    "\n",
    "Esta es una función poderosa y versatil. Miremos su docstring:"
   ]
  },
  {
   "cell_type": "code",
   "execution_count": 3,
   "metadata": {
    "collapsed": true
   },
   "outputs": [],
   "source": [
    "plt.plot?"
   ]
  },
  {
   "cell_type": "markdown",
   "metadata": {},
   "source": [
    "La forma más simple de llamar esta función es usando `plt.plot(x,y)`, donde `x` y `y` son arrays de numpy de una dimensión con la misma longitud. Esto genera una curva conectando los puntos `(x[0], y[0])`, `(x[1], y[1])`, ..., usando el estilo predeterminado para la figura. En general la función puede ser llamada como `plt.plot(x,y,fmt)` donde el parámetro(s) de formato `fmt` se describe a continuación.\n",
    "\n",
    "#### Estilos de línea\n",
    "\n",
    "Por *estilo de línea* nos referimos a su color, forma y grosor. Matplotlibs permite una gran variedad de descripciones para los colores; las más usadas son \n",
    "\n",
    "\n",
    "| Caracter        | Descripción  |\n",
    "| :-------------: |:-------------:|\n",
    "| b      | azul |\n",
    "| g      | verde      |\n",
    "| r | rojo      |\n",
    "| c   |    cyan      |\n",
    "| m      | magenta |\n",
    "| y      | amarillo      |\n",
    "| k | negro      |\n",
    "| w   |    blanco      |"
   ]
  },
  {
   "cell_type": "markdown",
   "metadata": {},
   "source": [
    "La forma de la curva se describe con\n",
    "\n",
    "| Caracter        | Descripción  |\n",
    "| :-------------: |:-------------:|\n",
    "| -      | curva sólida (predeterminado) |\n",
    "| --      | curva discontínua      |\n",
    "| -. | curva discontínua a puntos      |\n",
    "| :   |    curva punteada      |\n",
    "\n",
    "Uan combinación de las opciones anteriores en el tercer argumento de la función `plt.plot` dará como resultado el estilod e curva deseado. Por ejemplo, para obtener una curva verde discontínua usamos el comando\n",
    "```python\n",
    "plt.plot(x,y,'g--')\n",
    "```\n",
    "o una curva cyan punteada\n",
    "```python\n",
    "plt.plot(x,y,'c:')\n",
    "```"
   ]
  },
  {
   "cell_type": "code",
   "execution_count": 4,
   "metadata": {
    "collapsed": false
   },
   "outputs": [],
   "source": [
    "x=np.linspace(-np.pi,np.pi,101)\n",
    "y=np.sin(x)+np.sin(3*x)/3.0\n",
    "\n",
    "plt.plot(x, y,'r--')               # construye la figura\n",
    "plt.show()"
   ]
  },
  {
   "cell_type": "markdown",
   "metadata": {},
   "source": [
    "El último ajuste al estilo de la línea es el grosor medido por valores `float` en *puntos de impresión*. Podemos usar, por ejemplo, `linewidht=2` o `lw=2`. Entonces, para dibujar una línea amarilla discontínua a puntos con un grosor de dos puntos, usamos\n",
    "```python\n",
    "plt.plot(x,y,'y-.',lw=2)\n",
    "```"
   ]
  },
  {
   "cell_type": "code",
   "execution_count": null,
   "metadata": {
    "collapsed": true
   },
   "outputs": [],
   "source": [
    "x=np.linspace(-np.pi,np.pi,101)\n",
    "y=np.sin(x)+np.sin(3*x)/3.0\n",
    "\n",
    "plt.plot(x, y,'y-.',lw=4)               # construye la figura\n",
    "plt.plot(x, 0.5*y,'r--')               # construye la figura\n",
    "plt.plot(x, 0.25*y)               # construye la figura\n",
    "plt.plot(x, 0.75*y)               # construye la figura\n",
    "plt.show()"
   ]
  },
  {
   "cell_type": "markdown",
   "metadata": {},
   "source": [
    "---\n",
    "### Ejercicio\n",
    "\n",
    "1. Dibuje la función seno y la función coseno en el intervalo $[0,2\\pi]$ en una misma figura usando diferentes colores, estilos de línea y grosores.\n",
    "2. Considere la función $f(x)$ definida entre $(-\\pi,\\pi]$\n",
    "$$\n",
    "f(x) = \\left\\{\n",
    "  \\begin{array}{lr}\n",
    "    -1, & -\\pi < x < 0\\\\\n",
    "    1, & 0 \\leq x \\leq \\pi,\n",
    "  \\end{array}\n",
    "\\right.\n",
    "$$\n",
    "Una aproximación a ella (se serie de Fourier) es\n",
    "$$\n",
    "\\mathcal{F}(x) = \\frac{4}{\\pi}\\sum_{n=0}^N \\frac{\\sin [(2n+1)x]}{(2n+1)}\n",
    "$$\n",
    "\n",
    "Grafique en una misma figura (utilizando diferentes colores y estilos de línea) la función $f(x)$ y la función $\\mathcal{F}(x)$ para $N=1,2,3,10,100$ en el intervalo $(-\\pi,\\pi]$. Observe como $\\mathcal{F}(x)$ se parece más a $f(x)$ a medida que $N$ crece."
   ]
  },
  {
   "cell_type": "code",
   "execution_count": null,
   "metadata": {
    "collapsed": true
   },
   "outputs": [],
   "source": []
  }
 ],
 "metadata": {
  "kernelspec": {
   "display_name": "Python 2",
   "language": "python",
   "name": "python2"
  },
  "language_info": {
   "codemirror_mode": {
    "name": "ipython",
    "version": 2
   },
   "file_extension": ".py",
   "mimetype": "text/x-python",
   "name": "python",
   "nbconvert_exporter": "python",
   "pygments_lexer": "ipython2",
   "version": "2.7.6"
  }
 },
 "nbformat": 4,
 "nbformat_minor": 0
}
