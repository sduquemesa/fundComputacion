{
 "cells": [
  {
   "cell_type": "markdown",
   "metadata": {},
   "source": [
    "# Fundamentos de computación\n",
    "## Parcial 2"
   ]
  },
  {
   "cell_type": "markdown",
   "metadata": {},
   "source": [
    "** Nombre y apellidos: **\n",
    "\n",
    "** Cédula: **"
   ]
  },
  {
   "cell_type": "markdown",
   "metadata": {},
   "source": [
    "*Renombre este archivo para que coincida con el siguientre patrón*: ApellidosNombre.ipynb"
   ]
  },
  {
   "cell_type": "markdown",
   "metadata": {},
   "source": [
    "En este parcial se avulúa su capacidad para escribir código en python que soluciones un problema determinado. Recuerde el uso de los conceptos y herramientas vistas en clase (lo cual a su vez no limita el uso de otras herramientas que usted conozca), la argumentación y motivación de su solución, la legibilidad del código (recuerde usar comentarios cuando lo considere necesario además de agregar las explicaciones pertinentes usando también el markdown del notebook), y la sintaxis.\n",
    "\n",
    "Recuerde hacer pruebas para corroborar el correcto funcionamiento del código.\n",
    "\n",
    "---"
   ]
  },
  {
   "cell_type": "markdown",
   "metadata": {},
   "source": [
    "### El número aureo\n",
    "\n",
    "![Partenon](http://keyreporter.org/Media/Default/Slideshow/parthenon_635139772860101165.gif)\n",
    "\n",
    "El número áureo (también llamado número de oro, razón áurea, razón dorada, proporción áurea y divina proporción) es un número irracional, representado por la letra griega $\\varphi$ ('phi') en honor al escultor griego Fidias, donde\n",
    "$$\\varphi = \\frac{1+\\sqrt{5}}{2}=1.61803398874\\dots$$\n",
    "\n",
    "En general se atribuye un carácter estético a los objetos cuyas medidas guardan la proporción áurea. Algunos incluso creen que posee una importancia mística. A lo largo de la historia, se ha atribuido su inclusión en el diseño de diversas obras de arquitectura y otras artes como en los trabajos de Le Corbusier y Dalí.\n",
    "\n",
    "Existe una especial relación entre el número áureo y los números de Fibonacci. El astrónomo alemán Johannes Kepler demostró que el número áureo se puede aproximar como la proporción de dos número sucesivos de la serie de Fibonacci, es decir, la aproximación $n$-esima del número áureo es\n",
    "$$ \\varphi^{(n)} = \\frac{F_{n+1}}{F_n} $$\n",
    "\n",
    "**1.** (40%) Escriba un código que, usando la secuencia de Fibonacci calcule el número áureo con un error $E<10^{-14}$, es decir, con una precisión de 14 cifras decimales. Recuerde que para este caso puede definir el error como $E=\\varphi^{(n+1)}-\\varphi^{(n)}$."
   ]
  },
  {
   "cell_type": "code",
   "execution_count": null,
   "metadata": {
    "collapsed": true
   },
   "outputs": [],
   "source": []
  },
  {
   "cell_type": "markdown",
   "metadata": {},
   "source": [
    "---\n",
    "\n",
    "En sus origenes Fidias definió el número áureo como la relacion entre dos distancias con lo cual encontró que\n",
    "$$\\varphi = 1 + \\frac{1}{\\varphi},$$\n",
    "\n",
    "es decir, el número áureo está definido en términos de sí mismo y puede ser calculado a partir de la raiz positiva proveniente de la ecuación de segundo orden\n",
    "$$ \\varphi^2 -\\varphi-1=0.$$\n",
    "\n",
    "**2.** (20%) Escriba un código que calcule las raices de un polinomio de segundo grado $ax^2+bx+c=0$. Usando éste código calcule el número áureo a partir de la ecuación cuadratica escrita arriba utilizando los coeficientes $a$, $b$ y $c$ apropiados."
   ]
  },
  {
   "cell_type": "code",
   "execution_count": null,
   "metadata": {
    "collapsed": true
   },
   "outputs": [],
   "source": []
  },
  {
   "cell_type": "markdown",
   "metadata": {},
   "source": [
    "---\n",
    "\n",
    "### Suma de números primos\n",
    "\n",
    "**3.** (40%) Escriba un código en el que se defina una función la cual determina si un número entero que se le da como argumento es primo. Haga el manejo de error para asegurar que el número dado sea entero. Luego, haciendo uso de esta función, calcule la suma de los primeros $n$ números primos donde $n$ es un número determinado por el usuario."
   ]
  },
  {
   "cell_type": "code",
   "execution_count": null,
   "metadata": {
    "collapsed": true
   },
   "outputs": [],
   "source": []
  }
 ],
 "metadata": {
  "kernelspec": {
   "display_name": "Python 2",
   "language": "python",
   "name": "python2"
  },
  "language_info": {
   "codemirror_mode": {
    "name": "ipython",
    "version": 2
   },
   "file_extension": ".py",
   "mimetype": "text/x-python",
   "name": "python",
   "nbconvert_exporter": "python",
   "pygments_lexer": "ipython2",
   "version": "2.7.11"
  }
 },
 "nbformat": 4,
 "nbformat_minor": 0
}
