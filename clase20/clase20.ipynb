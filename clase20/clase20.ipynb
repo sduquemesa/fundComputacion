{
 "cells": [
  {
   "cell_type": "markdown",
   "metadata": {},
   "source": [
    "# Clase 20\n",
    "\n",
    "## Otras operaciones con listas\n",
    "\n",
    "### Ordenación de una lista, de nuevo…\n",
    "\n",
    "Supongamos que deseamos ordenar (de menor a mayor) la lista `[6,5,3,1,8,7,2,4]`. Existen varios métodos para realizar la tarea anterior, entre ellos el más sencillo es el *método de la burbuja* en el cual se comparan dos elementos consecutivos de la lista y se intercambian si el elemento `i+1` es menor que el elemento `i`. Lo anterior se realiza las veces necesarias hasta obtener una lista organizada.\n",
    "\n",
    "<img src=\"BubbleSort.gif\">"
   ]
  },
  {
   "cell_type": "code",
   "execution_count": 2,
   "metadata": {
    "collapsed": true
   },
   "outputs": [],
   "source": [
    "import time\n",
    "from numpy import random\n",
    "\n",
    "import matplotlib.pyplot as plt\n",
    "%matplotlib inline"
   ]
  },
  {
   "cell_type": "code",
   "execution_count": 3,
   "metadata": {
    "collapsed": false
   },
   "outputs": [
    {
     "name": "stdout",
     "output_type": "stream",
     "text": [
      "[1, 2, 3, 4, 5, 6, 7, 8]\n",
      "Tiempo: 0.000426054000854\n"
     ]
    }
   ],
   "source": [
    "L=[6,5,3,1,8,7,2,4]\n",
    "#L=random.random_integers(0,100,(1000))\n",
    "\n",
    "ordenado = False\n",
    "\n",
    "t0 = time.time()\n",
    "\n",
    "while ordenado == False:\n",
    "    ordenado = True\n",
    "    for j in xrange(0,len(L)-1):\n",
    "        if L[j]>L[j+1]:\n",
    "            L[j],L[j+1] = L[j+1],L[j]\n",
    "            ordenado = False\n",
    "            \n",
    "t1 = time.time()\n",
    "            \n",
    "print L\n",
    "print 'Tiempo:', t1-t0"
   ]
  },
  {
   "cell_type": "code",
   "execution_count": 4,
   "metadata": {
    "collapsed": false
   },
   "outputs": [
    {
     "name": "stdout",
     "output_type": "stream",
     "text": [
      "[1, 2, 3, 4, 5, 6, 7, 8]\n",
      "Tiempo: 0.000402927398682\n"
     ]
    }
   ],
   "source": [
    "L=[6,5,3,1,8,7,2,4]\n",
    "#L=random.random_integers(0,100,(1000))\n",
    "\n",
    "t0 = time.time()\n",
    "\n",
    "for i in xrange(1,len(L)):\n",
    "    for j in xrange(0,len(L)-i):\n",
    "        if L[j]>L[j+1]:\n",
    "            L[j],L[j+1] = L[j+1],L[j]\n",
    "            \n",
    "t1 = time.time()\n",
    "    \n",
    "print L\n",
    "print 'Tiempo:', t1-t0"
   ]
  },
  {
   "cell_type": "markdown",
   "metadata": {},
   "source": [
    "## Autómata celular\n",
    "\n",
    "(Tomado de [Wikipedia](https://es.wikipedia.org/wiki/Autómata_celular)) \n",
    "\n",
    "Un autómata celular (A.C.) es un modelo matemático para un sistema dinámico que evoluciona en pasos discretos. Es adecuado para modelar sistemas naturales que puedan ser descritos como una colección masiva de objetos simples que interactúen localmente unos con otros.\n",
    "\n",
    "Son sistemas descubiertos dentro del campo de la física computacional por John von Neumann en la década de 1950. La teoría de los autómatas celulares se inicia con su precursor John von Neumann a finales de la década de 1940 con su libro *Theory of Self-reproducing Automata* (editado y completado por A. W. Burks).\n",
    "\n",
    "Aunque John von Neumann puso en práctica los A.C., estos fueron concebidos en los años 40 por Konrad Zuse y Stanislaw Ulam. Zuse pensó en los “espacios de cómputo” (computing spaces), como modelos discretos de sistemas físicos. Las contribuciones de Ulam vinieron al final de los 40, poco después de haber inventado con Nicholas Metropolis el Método de Montecarlo.\n",
    "\n",
    "Los autómatas celulares pueden ser usados para modelar numerosos sistemas físicos que se caractericen por un gran número de componentes homogéneos y que interactúen localmente entre sí. De hecho, cualquier sistema real al que se le puedan analogar los conceptos de \"vecindad\", \"estados de los componentes\" y \"función de transición\" es candidato para ser modelado por un A.C."
   ]
  },
  {
   "cell_type": "code",
   "execution_count": 5,
   "metadata": {
    "collapsed": false
   },
   "outputs": [
    {
     "data": {
      "text/html": [
       "\n",
       "        <iframe\n",
       "            width=\"400\"\n",
       "            height=\"300\"\n",
       "            src=\"https://www.youtube.com/embed/CgOcEZinQ2I\"\n",
       "            frameborder=\"0\"\n",
       "            allowfullscreen\n",
       "        ></iframe>\n",
       "        "
      ],
      "text/plain": [
       "<IPython.lib.display.YouTubeVideo at 0x10999ec50>"
      ]
     },
     "execution_count": 5,
     "metadata": {},
     "output_type": "execute_result"
    }
   ],
   "source": [
    "from IPython.display import YouTubeVideo\n",
    "YouTubeVideo(\"CgOcEZinQ2I\")"
   ]
  },
  {
   "cell_type": "markdown",
   "metadata": {},
   "source": [
    "Las características de los autómatas celulares harán que dichos modelos sean discretos en tiempo, espacio o ambos (dependiendo de la variante de la definición de A.C. que se use). Algunos ejemplos de áreas en donde se utilizan los autómatas celulares son:\n",
    "- Modelado del flujo de tráfico y de peatones.\n",
    "- Modelado de fluidos (gases o líquidos).\n",
    "- Modelado de la evolución de células o virus como el VIH.\n",
    "- Modelado de procesos de percolación (paso lento de fluidos a través de materiales porosos)."
   ]
  },
  {
   "cell_type": "code",
   "execution_count": 6,
   "metadata": {
    "collapsed": false
   },
   "outputs": [
    {
     "data": {
      "text/html": [
       "\n",
       "        <iframe\n",
       "            width=\"400\"\n",
       "            height=\"300\"\n",
       "            src=\"https://player.vimeo.com/video/87312053\"\n",
       "            frameborder=\"0\"\n",
       "            allowfullscreen\n",
       "        ></iframe>\n",
       "        "
      ],
      "text/plain": [
       "<IPython.lib.display.VimeoVideo at 0x10999ee10>"
      ]
     },
     "execution_count": 6,
     "metadata": {},
     "output_type": "execute_result"
    }
   ],
   "source": [
    "from IPython.display import VimeoVideo\n",
    "VimeoVideo(\"87312053\")"
   ]
  },
  {
   "cell_type": "markdown",
   "metadata": {},
   "source": [
    "El AC no trivial más simple consiste en una retícula unidimensional de células que sólo pueden tener dos estados (`0` o `1`), con un vecindario constituido, para cada célula, de ella misma y de las dos células adyacentes ($2^3=8$ configuraciones posibes). Existen $2^8=256$ modos de definir cuál ha de ser el estado de una célula en la generación siguiente para cada una de estas configuraciones, luego existen 256 AC diferentes de este tipo.\n",
    "\n",
    "Consideremos el AC definido por la tabla siguiente, que nos da la [regla de evolución 150](http://mathworld.wolfram.com/Rule150.html):\n",
    "\n",
    "<img src=\"regla.png\">\n",
    "\n",
    "En la imagen anterior las filas representas cada instante de tiempo y las columnas cada una de las celulas del autómata."
   ]
  },
  {
   "cell_type": "markdown",
   "metadata": {},
   "source": [
    "### ¡Nuestro autómata celular!\n",
    "\n",
    "Creemos nuestro propio autómata celular, para esto debemos crear una lista de listas en la cual guardaremos la condición de las células en cada instante de tiempo. Es decir, en nuestra matriz, al igual que la imagen anterior, nuestras columnas representaran el estado de cada célula y las filas los instantes de tiempo sucesivos.\n",
    "\n",
    "En nuestra primera aproximación haremos un atómata celular de 31 células que evolucionan en 16 instantes de tiempo diferentes. Lo anterior significa que necesitaremos una matriz de dimensión $16\\times 31$ llena de 1 y 0 que representan una célula viva o muerta, respectivamente."
   ]
  },
  {
   "cell_type": "code",
   "execution_count": 11,
   "metadata": {
    "collapsed": false
   },
   "outputs": [
    {
     "data": {
      "text/plain": [
       "<matplotlib.image.AxesImage at 0x10c340f50>"
      ]
     },
     "execution_count": 11,
     "metadata": {},
     "output_type": "execute_result"
    },
    {
     "data": {
      "image/png": "[encoded data removed]",
      "text/plain": [
       "<matplotlib.figure.Figure at 0x10c2736d0>"
      ]
     },
     "metadata": {},
     "output_type": "display_data"
    }
   ],
   "source": [
    "def matriz_ceros(n,m):\n",
    "    '''\n",
    "    argumentos: numero de filas n y de columnas m de una matriz\n",
    "    devuelve una matriz llena de ceros de tamaño n x m\n",
    "    '''\n",
    "    \n",
    "    # Creamos una matriz nula\n",
    "    N = []\n",
    "\n",
    "    # Creamos un bucle para llenar la matriz\n",
    "    for i in xrange(0,n):         # el indice i recorrerá las filas\n",
    "        a = []                    # a es una lista vacía que me sirve de variable auxiliar para guardar las filas\n",
    "        for j in xrange(0,m):     # el indice j recorrerá las columnas\n",
    "            a.append(0)           # lleno las filas con ceros\n",
    "        N.append(a)               # agrego cada fila a la matriz\n",
    "        \n",
    "    return N\n",
    "\n",
    "M = matriz_ceros(16,31)\n",
    "\n",
    "plt.matshow(M,cmap=plt.cm.gray_r)"
   ]
  },
  {
   "cell_type": "markdown",
   "metadata": {},
   "source": [
    "Necisitamos ahora definir nuestra condición inicial, esto es, cuáles células están vivas en el momento inicial. Sea el caso de una única célula viva en la mitad de nuestra cadena de células, entonces"
   ]
  },
  {
   "cell_type": "code",
   "execution_count": 12,
   "metadata": {
    "collapsed": false
   },
   "outputs": [
    {
     "data": {
      "text/plain": [
       "<matplotlib.image.AxesImage at 0x10c580c10>"
      ]
     },
     "execution_count": 12,
     "metadata": {},
     "output_type": "execute_result"
    },
    {
     "data": {
      "image/png": "[encoded data removed]",
      "text/plain": [
       "<matplotlib.figure.Figure at 0x10bfdf6d0>"
      ]
     },
     "metadata": {},
     "output_type": "display_data"
    }
   ],
   "source": [
    "M[0][15]=1\n",
    "\n",
    "plt.matshow(M,cmap=plt.cm.gray_r)"
   ]
  },
  {
   "cell_type": "markdown",
   "metadata": {},
   "source": [
    "Ahora solo nos resta aplicar las reglas de vida para cada una de las generaciones siguientes. La regla especifica cómo las entradas de la matriz `M[i+1][:]` depende de la generación `M[i][:]` para `i>0`. Específicamente, la entrada `M[i+1][j]` dependerá de las entradas `M[i][j-1]`, `M[i][j]` y `M[i][j+1]` así:\n",
    "\n",
    "<img src=\"regla150.png\">\n",
    "\n",
    "Debemos entonces implementar estas reglas y aplicarlas a cada generación. Por ejemplo, la regla 6 para la primera generación se implementaría de la siguiente manera:"
   ]
  },
  {
   "cell_type": "code",
   "execution_count": 13,
   "metadata": {
    "collapsed": false
   },
   "outputs": [
    {
     "data": {
      "text/plain": [
       "<matplotlib.image.AxesImage at 0x10c768550>"
      ]
     },
     "execution_count": 13,
     "metadata": {},
     "output_type": "execute_result"
    },
    {
     "data": {
      "image/png": "[encoded data removed]",
      "text/plain": [
       "<matplotlib.figure.Figure at 0x10c2840d0>"
      ]
     },
     "metadata": {},
     "output_type": "display_data"
    }
   ],
   "source": [
    "for i in xrange(1,len(M[0])-1):\n",
    "    if M[0][i-1] == 0 and M[0][i] == 1 and M[0][i+1] == 0:\n",
    "        M[1][i] = 1\n",
    "\n",
    "plt.matshow(M,cmap=plt.cm.gray_r)"
   ]
  },
  {
   "cell_type": "markdown",
   "metadata": {},
   "source": [
    "¿cómo implementaría las demás reglas únicamente para la primera generación?"
   ]
  },
  {
   "cell_type": "code",
   "execution_count": null,
   "metadata": {
    "collapsed": false
   },
   "outputs": [],
   "source": []
  },
  {
   "cell_type": "markdown",
   "metadata": {},
   "source": [
    "¿cómo lo haría ahora para las subsiguientes generaciones?"
   ]
  },
  {
   "cell_type": "code",
   "execution_count": null,
   "metadata": {
    "collapsed": true
   },
   "outputs": [],
   "source": []
  }
 ],
 "metadata": {
  "kernelspec": {
   "display_name": "Python 2",
   "language": "python",
   "name": "python2"
  },
  "language_info": {
   "codemirror_mode": {
    "name": "ipython",
    "version": 2
   },
   "file_extension": ".py",
   "mimetype": "text/x-python",
   "name": "python",
   "nbconvert_exporter": "python",
   "pygments_lexer": "ipython2",
   "version": "2.7.11"
  }
 },
 "nbformat": 4,
 "nbformat_minor": 0
}
