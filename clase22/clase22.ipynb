{
 "cells": [
  {
   "cell_type": "markdown",
   "metadata": {},
   "source": [
    "# Clase 22"
   ]
  },
  {
   "cell_type": "code",
   "execution_count": 7,
   "metadata": {
    "collapsed": false
   },
   "outputs": [],
   "source": [
    "import numpy as np\n",
    "import time"
   ]
  },
  {
   "cell_type": "markdown",
   "metadata": {},
   "source": [
    "## Loops sobre arrays\n",
    "\n",
    "Iterar sobre un array de numpy también se puede lograr usando el ciclo `for`"
   ]
  },
  {
   "cell_type": "code",
   "execution_count": 45,
   "metadata": {
    "collapsed": false
   },
   "outputs": [
    {
     "name": "stdout",
     "output_type": "stream",
     "text": [
      "a[0,0]=2\n",
      "a[0,1]=6\n",
      "a[0,2]=12\n",
      "a[0,3]=20\n",
      "a[0,4]=30\n",
      "a[0,5]=42\n",
      "a[0,6]=56\n",
      "a[0,7]=72\n",
      "a[0,8]=90\n",
      "a[0,9]=110\n",
      "\n",
      "a[1,0]=4\n",
      "a[1,1]=12\n",
      "a[1,2]=24\n",
      "a[1,3]=40\n",
      "a[1,4]=60\n",
      "a[1,5]=84\n",
      "a[1,6]=112\n",
      "a[1,7]=144\n",
      "a[1,8]=180\n",
      "a[1,9]=220\n",
      "\n",
      "a[2,0]=6\n",
      "a[2,1]=18\n",
      "a[2,2]=36\n",
      "a[2,3]=60\n",
      "a[2,4]=90\n",
      "a[2,5]=126\n",
      "a[2,6]=168\n",
      "a[2,7]=216\n",
      "a[2,8]=270\n",
      "a[2,9]=330\n",
      "\n",
      "a[3,0]=8\n",
      "a[3,1]=24\n",
      "a[3,2]=48\n",
      "a[3,3]=80\n",
      "a[3,4]=120\n",
      "a[3,5]=168\n",
      "a[3,6]=224\n",
      "a[3,7]=288\n",
      "a[3,8]=360\n",
      "a[3,9]=440\n",
      "\n",
      "a[4,0]=10\n",
      "a[4,1]=30\n",
      "a[4,2]=60\n",
      "a[4,3]=100\n",
      "a[4,4]=150\n",
      "a[4,5]=210\n",
      "a[4,6]=280\n",
      "a[4,7]=360\n",
      "a[4,8]=450\n",
      "a[4,9]=550\n",
      "\n",
      "a[5,0]=12\n",
      "a[5,1]=36\n",
      "a[5,2]=72\n",
      "a[5,3]=120\n",
      "a[5,4]=180\n",
      "a[5,5]=252\n",
      "a[5,6]=336\n",
      "a[5,7]=432\n",
      "a[5,8]=540\n",
      "a[5,9]=660\n",
      "\n",
      "a[6,0]=14\n",
      "a[6,1]=42\n",
      "a[6,2]=84\n",
      "a[6,3]=140\n",
      "a[6,4]=210\n",
      "a[6,5]=294\n",
      "a[6,6]=392\n",
      "a[6,7]=504\n",
      "a[6,8]=630\n",
      "a[6,9]=770\n",
      "\n",
      "a[7,0]=16\n",
      "a[7,1]=48\n",
      "a[7,2]=96\n",
      "a[7,3]=160\n",
      "a[7,4]=240\n",
      "a[7,5]=336\n",
      "a[7,6]=448\n",
      "a[7,7]=576\n",
      "a[7,8]=720\n",
      "a[7,9]=880\n",
      "\n",
      "a[8,0]=18\n",
      "a[8,1]=54\n",
      "a[8,2]=108\n",
      "a[8,3]=180\n",
      "a[8,4]=270\n",
      "a[8,5]=378\n",
      "a[8,6]=504\n",
      "a[8,7]=648\n",
      "a[8,8]=810\n",
      "a[8,9]=990\n",
      "\n",
      "a[9,0]=20\n",
      "a[9,1]=60\n",
      "a[9,2]=120\n",
      "a[9,3]=200\n",
      "a[9,4]=300\n",
      "a[9,5]=420\n",
      "a[9,6]=560\n",
      "a[9,7]=720\n",
      "a[9,8]=900\n",
      "a[9,9]=1100\n",
      "\n",
      "0.0018298625946\n"
     ]
    }
   ],
   "source": [
    "a = np.zeros((10,10))   # creo un array de 10x10 lleno de ceros\n",
    "\n",
    "t0 = time.time()\n",
    "for i in xrange(0,a.shape[0]):                 # el índice i recorre las filas\n",
    "    for j in xrange(0,a.shape[1]):             # el índice j recorre las columnas\n",
    "        a[i,j] = (i+1)*(j+1)*(j+2)\n",
    "        #a.itemset((i,j), (i+1)*(j+1)*(j+2) )  # equivalente a a[i,j] = (i+1)*(j+1)*(j+2)\n",
    "        print \"a[%d,%d]=%g\" %(i,j,a[i,j])\n",
    "    print                                      # nueva línea en cada fila\n",
    "    \n",
    "t1 = time.time()\n",
    "\n",
    "print t1-t0"
   ]
  },
  {
   "cell_type": "markdown",
   "metadata": {},
   "source": [
    "0.00186896324158    #  a[i,j] = (i+1)*(j+1)*(j+2)\n",
    "0.00169086456299    #  a.itemset((i,j), (i+1)*(j+1)*(j+2) )\n",
    "0.000164985656738   # fromfunction"
   ]
  },
  {
   "cell_type": "markdown",
   "metadata": {},
   "source": [
    "otra forma de lograr lo anterior es usando el la función `np.fromfunction` como vimos en la sesión anterior"
   ]
  },
  {
   "cell_type": "code",
   "execution_count": null,
   "metadata": {
    "collapsed": false
   },
   "outputs": [],
   "source": [
    "func = lambda i,j: (i+1)*(j+1)*(j+2)   # función que retorna la operación con los índices i,j\n",
    "t0 = time.time()\n",
    "a = np.fromfunction(func,(10,10))\n",
    "t1 = time.time()\n",
    "print a\n",
    "print t1-t0"
   ]
  },
  {
   "cell_type": "markdown",
   "metadata": {},
   "source": [
    "**Pregunta: ** ¿Cuál de los métodos anteriores es más eficiente? Recuerde que con la función `time` del módulo `time`\n",
    "```python\n",
    "from time import time\n",
    "t0 = time.time()\n",
    "  # aquí el código\n",
    "t1 = time.time()\n",
    "print t1-t0\n",
    "```\n",
    "puede averiguar el tiempo de ejecución de una serie de comandos. Hágalo para las tres versiones anteriores del código y encuentre cuál es más eficiente."
   ]
  },
  {
   "cell_type": "markdown",
   "metadata": {},
   "source": [
    "## Cálculos con arrays\n",
    "\n",
    "Consideremos el siguiente problema, queremos multiplicar cada elemento de el array `a` por 3 y luego restarle uno; es decir, construir un array `b` tal que sus elementos sean `b[i,j]=3*a[i,j]-1`\n",
    "\n",
    "---\n",
    "### Ejercicio\n",
    "Escriba una función en python que realize la operación anterior para cualquier array que le sea dado como argumento; lo anterior recorriendo todo el array con ciclos `for`."
   ]
  },
  {
   "cell_type": "code",
   "execution_count": 29,
   "metadata": {
    "collapsed": false
   },
   "outputs": [
    {
     "name": "stdout",
     "output_type": "stream",
     "text": [
      "[[    5.    17.    35.    59.    89.   125.   167.   215.   269.   329.]\n",
      " [   11.    35.    71.   119.   179.   251.   335.   431.   539.   659.]\n",
      " [   17.    53.   107.   179.   269.   377.   503.   647.   809.   989.]\n",
      " [   23.    71.   143.   239.   359.   503.   671.   863.  1079.  1319.]\n",
      " [   29.    89.   179.   299.   449.   629.   839.  1079.  1349.  1649.]\n",
      " [   35.   107.   215.   359.   539.   755.  1007.  1295.  1619.  1979.]\n",
      " [   41.   125.   251.   419.   629.   881.  1175.  1511.  1889.  2309.]\n",
      " [   47.   143.   287.   479.   719.  1007.  1343.  1727.  2159.  2639.]\n",
      " [   53.   161.   323.   539.   809.  1133.  1511.  1943.  2429.  2969.]\n",
      " [   59.   179.   359.   599.   899.  1259.  1679.  2159.  2699.  3299.]]\n",
      "0.000416994094849\n"
     ]
    }
   ],
   "source": [
    "t0 = time.time()\n",
    "b = np.zeros_like(a)\n",
    "\n",
    "for i in xrange(0,a.shape[0]):\n",
    "    for j in xrange(0,a.shape[1]):\n",
    "        b[i,j] = 3*a[i,j]-1\n",
    "    \n",
    "t1 = time.time()\n",
    "print b\n",
    "print t1-t0"
   ]
  },
  {
   "cell_type": "code",
   "execution_count": 35,
   "metadata": {
    "collapsed": false
   },
   "outputs": [
    {
     "name": "stdout",
     "output_type": "stream",
     "text": [
      "[[    5.    17.    35.    59.    89.   125.   167.   215.   269.   329.]\n",
      " [   11.    35.    71.   119.   179.   251.   335.   431.   539.   659.]\n",
      " [   17.    53.   107.   179.   269.   377.   503.   647.   809.   989.]\n",
      " [   23.    71.   143.   239.   359.   503.   671.   863.  1079.  1319.]\n",
      " [   29.    89.   179.   299.   449.   629.   839.  1079.  1349.  1649.]\n",
      " [   35.   107.   215.   359.   539.   755.  1007.  1295.  1619.  1979.]\n",
      " [   41.   125.   251.   419.   629.   881.  1175.  1511.  1889.  2309.]\n",
      " [   47.   143.   287.   479.   719.  1007.  1343.  1727.  2159.  2639.]\n",
      " [   53.   161.   323.   539.   809.  1133.  1511.  1943.  2429.  2969.]\n",
      " [   59.   179.   359.   599.   899.  1259.  1679.  2159.  2699.  3299.]]\n",
      "0.000427007675171\n"
     ]
    }
   ],
   "source": [
    "t0 = time.time()\n",
    "b = a.copy()\n",
    "\n",
    "for i in xrange(0,a.shape[0]):\n",
    "    for j in xrange(0,a.shape[1]):\n",
    "        b[i,j] = 3*b[i,j]-1\n",
    "    \n",
    "t1 = time.time()\n",
    "print b\n",
    "print t1-t0"
   ]
  },
  {
   "cell_type": "markdown",
   "metadata": {},
   "source": [
    "---\n",
    "\n",
    "Numpy ofrece una gran cantidad de funciones eficientes implementadas en C que operan sobre todo el array. La operacion anterior se puede lograr usando el siguiente código:\n",
    "```python\n",
    "b = 3*a-1\n",
    "```\n",
    "En este caso todos los elementos en `a` son multiplicados por 3 y el resultado es guardado en un array temporal. Luego 1 es substraído de cada uno de los elementos de este array temporal y el resultado se guarda en un nuevo array temporal para el cual `b` se vuelve una referencia.\n",
    "\n",
    "---\n",
    "### Ejercicio\n",
    "\n",
    "Investigue el tiempo de ejecución de la operación anterior para el caso implementado con ciclos y el caso en el que se utiliza la sintaxis de numpy."
   ]
  },
  {
   "cell_type": "code",
   "execution_count": 34,
   "metadata": {
    "collapsed": false
   },
   "outputs": [
    {
     "name": "stdout",
     "output_type": "stream",
     "text": [
      "[[    5.    17.    35.    59.    89.   125.   167.   215.   269.   329.]\n",
      " [   11.    35.    71.   119.   179.   251.   335.   431.   539.   659.]\n",
      " [   17.    53.   107.   179.   269.   377.   503.   647.   809.   989.]\n",
      " [   23.    71.   143.   239.   359.   503.   671.   863.  1079.  1319.]\n",
      " [   29.    89.   179.   299.   449.   629.   839.  1079.  1349.  1649.]\n",
      " [   35.   107.   215.   359.   539.   755.  1007.  1295.  1619.  1979.]\n",
      " [   41.   125.   251.   419.   629.   881.  1175.  1511.  1889.  2309.]\n",
      " [   47.   143.   287.   479.   719.  1007.  1343.  1727.  2159.  2639.]\n",
      " [   53.   161.   323.   539.   809.  1133.  1511.  1943.  2429.  2969.]\n",
      " [   59.   179.   359.   599.   899.  1259.  1679.  2159.  2699.  3299.]]\n",
      "0.000100135803223\n"
     ]
    }
   ],
   "source": [
    "t0 = time.time()\n",
    "b=3*a-1\n",
    "t1 = time.time()\n",
    "print b\n",
    "print t1-t0"
   ]
  },
  {
   "cell_type": "markdown",
   "metadata": {},
   "source": [
    "---\n",
    "\n",
    "Existe una forma de realizar la misma operación utilizando modificanciones en sitio (*in-place modifications*) de `b`"
   ]
  },
  {
   "cell_type": "code",
   "execution_count": 36,
   "metadata": {
    "collapsed": false
   },
   "outputs": [
    {
     "data": {
      "text/plain": [
       "array([[    2.,     6.,    12.,    20.,    30.,    42.,    56.,    72.,\n",
       "           90.,   110.],\n",
       "       [    4.,    12.,    24.,    40.,    60.,    84.,   112.,   144.,\n",
       "          180.,   220.],\n",
       "       [    6.,    18.,    36.,    60.,    90.,   126.,   168.,   216.,\n",
       "          270.,   330.],\n",
       "       [    8.,    24.,    48.,    80.,   120.,   168.,   224.,   288.,\n",
       "          360.,   440.],\n",
       "       [   10.,    30.,    60.,   100.,   150.,   210.,   280.,   360.,\n",
       "          450.,   550.],\n",
       "       [   12.,    36.,    72.,   120.,   180.,   252.,   336.,   432.,\n",
       "          540.,   660.],\n",
       "       [   14.,    42.,    84.,   140.,   210.,   294.,   392.,   504.,\n",
       "          630.,   770.],\n",
       "       [   16.,    48.,    96.,   160.,   240.,   336.,   448.,   576.,\n",
       "          720.,   880.],\n",
       "       [   18.,    54.,   108.,   180.,   270.,   378.,   504.,   648.,\n",
       "          810.,   990.],\n",
       "       [   20.,    60.,   120.,   200.,   300.,   420.,   560.,   720.,\n",
       "          900.,  1100.]])"
      ]
     },
     "execution_count": 36,
     "metadata": {},
     "output_type": "execute_result"
    }
   ],
   "source": [
    "a"
   ]
  },
  {
   "cell_type": "code",
   "execution_count": 43,
   "metadata": {
    "collapsed": false
   },
   "outputs": [
    {
     "name": "stdout",
     "output_type": "stream",
     "text": [
      "0.000159978866577\n"
     ]
    }
   ],
   "source": [
    "t0 = time.time()\n",
    "b = a\n",
    "b = np.multiply(b,3,b)\n",
    "b = np.subtract(b,1,b)\n",
    "t1 = time.time()\n",
    "print t1-t0"
   ]
  },
  {
   "cell_type": "code",
   "execution_count": 38,
   "metadata": {
    "collapsed": false
   },
   "outputs": [
    {
     "data": {
      "text/plain": [
       "array([[    5.,    17.,    35.,    59.,    89.,   125.,   167.,   215.,\n",
       "          269.,   329.],\n",
       "       [   11.,    35.,    71.,   119.,   179.,   251.,   335.,   431.,\n",
       "          539.,   659.],\n",
       "       [   17.,    53.,   107.,   179.,   269.,   377.,   503.,   647.,\n",
       "          809.,   989.],\n",
       "       [   23.,    71.,   143.,   239.,   359.,   503.,   671.,   863.,\n",
       "         1079.,  1319.],\n",
       "       [   29.,    89.,   179.,   299.,   449.,   629.,   839.,  1079.,\n",
       "         1349.,  1649.],\n",
       "       [   35.,   107.,   215.,   359.,   539.,   755.,  1007.,  1295.,\n",
       "         1619.,  1979.],\n",
       "       [   41.,   125.,   251.,   419.,   629.,   881.,  1175.,  1511.,\n",
       "         1889.,  2309.],\n",
       "       [   47.,   143.,   287.,   479.,   719.,  1007.,  1343.,  1727.,\n",
       "         2159.,  2639.],\n",
       "       [   53.,   161.,   323.,   539.,   809.,  1133.,  1511.,  1943.,\n",
       "         2429.,  2969.],\n",
       "       [   59.,   179.,   359.,   599.,   899.,  1259.,  1679.,  2159.,\n",
       "         2699.,  3299.]])"
      ]
     },
     "execution_count": 38,
     "metadata": {},
     "output_type": "execute_result"
    }
   ],
   "source": [
    "b"
   ]
  },
  {
   "cell_type": "code",
   "execution_count": 39,
   "metadata": {
    "collapsed": false
   },
   "outputs": [
    {
     "data": {
      "text/plain": [
       "array([[    5.,    17.,    35.,    59.,    89.,   125.,   167.,   215.,\n",
       "          269.,   329.],\n",
       "       [   11.,    35.,    71.,   119.,   179.,   251.,   335.,   431.,\n",
       "          539.,   659.],\n",
       "       [   17.,    53.,   107.,   179.,   269.,   377.,   503.,   647.,\n",
       "          809.,   989.],\n",
       "       [   23.,    71.,   143.,   239.,   359.,   503.,   671.,   863.,\n",
       "         1079.,  1319.],\n",
       "       [   29.,    89.,   179.,   299.,   449.,   629.,   839.,  1079.,\n",
       "         1349.,  1649.],\n",
       "       [   35.,   107.,   215.,   359.,   539.,   755.,  1007.,  1295.,\n",
       "         1619.,  1979.],\n",
       "       [   41.,   125.,   251.,   419.,   629.,   881.,  1175.,  1511.,\n",
       "         1889.,  2309.],\n",
       "       [   47.,   143.,   287.,   479.,   719.,  1007.,  1343.,  1727.,\n",
       "         2159.,  2639.],\n",
       "       [   53.,   161.,   323.,   539.,   809.,  1133.,  1511.,  1943.,\n",
       "         2429.,  2969.],\n",
       "       [   59.,   179.,   359.,   599.,   899.,  1259.,  1679.,  2159.,\n",
       "         2699.,  3299.]])"
      ]
     },
     "execution_count": 39,
     "metadata": {},
     "output_type": "execute_result"
    }
   ],
   "source": [
    "a"
   ]
  },
  {
   "cell_type": "markdown",
   "metadata": {},
   "source": [
    "la cual se puede escribir también como"
   ]
  },
  {
   "cell_type": "code",
   "execution_count": 47,
   "metadata": {
    "collapsed": true
   },
   "outputs": [],
   "source": [
    "a *= 3  # equivalente a np.multiply(b,3,b)\n",
    "a -= 1  # equivalente a np.subtract(b,1,b)"
   ]
  },
  {
   "cell_type": "markdown",
   "metadata": {},
   "source": [
    "note que por el uso del operador `=` el array `b` es una referencia al array `a`, por lo tanto las operaciones anteriores también modifican al array `a`. Para evitar esto se debe asignar a `b` una copia de `a`: `b=a.copy()`  "
   ]
  },
  {
   "cell_type": "code",
   "execution_count": 46,
   "metadata": {
    "collapsed": false
   },
   "outputs": [
    {
     "name": "stdout",
     "output_type": "stream",
     "text": [
      "[[False False False False False False False False False False]\n",
      " [False False False False False False False False False False]\n",
      " [False False False False False False False False False False]\n",
      " [False False False False False False False False False False]\n",
      " [False False False False False False False False False False]\n",
      " [False False False False False False False False False False]\n",
      " [False False False False False False False False False False]\n",
      " [False False False False False False False False False False]\n",
      " [False False False False False False False False False False]\n",
      " [False False False False False False False False False False]] False\n"
     ]
    }
   ],
   "source": [
    "b = a.copy()\n",
    "b *= 3  # equivalente a np.multiply(b,3,b)\n",
    "b -= 1  # equivalente a np.subtract(b,1,b)"
   ]
  },
  {
   "cell_type": "code",
   "execution_count": 48,
   "metadata": {
    "collapsed": false
   },
   "outputs": [
    {
     "name": "stdout",
     "output_type": "stream",
     "text": [
      "[[ True  True  True  True  True  True  True  True  True  True]\n",
      " [ True  True  True  True  True  True  True  True  True  True]\n",
      " [ True  True  True  True  True  True  True  True  True  True]\n",
      " [ True  True  True  True  True  True  True  True  True  True]\n",
      " [ True  True  True  True  True  True  True  True  True  True]\n",
      " [ True  True  True  True  True  True  True  True  True  True]\n",
      " [ True  True  True  True  True  True  True  True  True  True]\n",
      " [ True  True  True  True  True  True  True  True  True  True]\n",
      " [ True  True  True  True  True  True  True  True  True  True]\n",
      " [ True  True  True  True  True  True  True  True  True  True]] False\n"
     ]
    }
   ],
   "source": [
    "\n",
    "print b == a, b is a"
   ]
  },
  {
   "cell_type": "markdown",
   "metadata": {},
   "source": [
    "---\n",
    "### Ejercicio\n",
    "\n",
    "Compare el tiempo de ejecución para las operación `b = 3*a-1` y\n",
    "```python\n",
    "b = a\n",
    "b *= 3  # equivalente a np.multiply(b,3,b)\n",
    "b -= 1  # equivalente a np.subtract(b,1,b)\n",
    "```"
   ]
  },
  {
   "cell_type": "code",
   "execution_count": 3,
   "metadata": {
    "collapsed": false
   },
   "outputs": [
    {
     "name": "stdout",
     "output_type": "stream",
     "text": [
      "ciclos: 1.90904307365\n",
      "numpy: 0.00336098670959\n"
     ]
    }
   ],
   "source": [
    "import numpy as np\n",
    "import time\n",
    "\n",
    "a = np.empty((1000,1000))\n",
    "\n",
    "t0 = time.time()\n",
    "b = a.copy()\n",
    "\n",
    "for i in xrange(0,a.shape[0]):\n",
    "    for j in xrange(0,a.shape[1]):\n",
    "        b[i,j] = 3*b[i,j]-1\n",
    "    \n",
    "t1 = time.time()\n",
    "\n",
    "b = a\n",
    "b *= 3  # equivalente a np.multiply(b,3,b)\n",
    "b -= 1  # equivalente a np.subtract(b,1,b)\n",
    "\n",
    "t2 = time.time()\n",
    "\n",
    "print 'ciclos:',t1-t0\n",
    "print 'numpy:', t2-t1"
   ]
  },
  {
   "cell_type": "markdown",
   "metadata": {},
   "source": [
    "---\n",
    "\n",
    "Los siguientes operadores ofrecen aritmética `in-place` para arrays:\n",
    "```python\n",
    "a *= 3.     # multiplica los elementos de a por 3\n",
    "a += 1.     # suma 1 a los elementos de a\n",
    "a -= 1.     # resta 1 a los elementos de a\n",
    "a /= 3.     # divide cada elemento de a por 2\n",
    "a **= 2.    # eleva al cuadrado cada elemento de a\n",
    "```\n",
    "\n",
    "Existen también funciones trigonométicas que pueden ser o bien aplicadas a escalares o también a arrays de python:\n",
    "```python\n",
    "c = np.sin(b)\n",
    "c = np.arcsin(b)\n",
    "c = np.sinh(b)\n",
    "```\n",
    "similarmente para la familia del coseno y la tangente. Si `b` es un array la función `np.sin(b)` retornará un array de la misma dimensión para el cual sus elementos son los valores de la función `np.sin` evaluados para cada elemento de `b`.\n",
    "\n",
    "Otras operaciones son\n",
    "```python\n",
    "c = b**2.5\n",
    "c = np.log(b)\n",
    "c = np.exp(b)\n",
    "c = np.sqrt(b)\n",
    "```\n",
    "\n",
    "**Pregunta:** ¿Se obtiene el mismo resultado para un array `a` si usamos `a **= 2.5` o `a=a**2.5`?"
   ]
  },
  {
   "cell_type": "code",
   "execution_count": 4,
   "metadata": {
    "collapsed": false
   },
   "outputs": [
    {
     "data": {
      "text/plain": [
       "array([[ True,  True,  True, ...,  True,  True,  True],\n",
       "       [ True,  True,  True, ...,  True,  True,  True],\n",
       "       [ True,  True,  True, ...,  True,  True,  True],\n",
       "       ..., \n",
       "       [ True,  True,  True, ...,  True,  True,  True],\n",
       "       [ True,  True,  True, ...,  True,  True,  True],\n",
       "       [ True,  True,  True, ...,  True,  True,  True]], dtype=bool)"
      ]
     },
     "execution_count": 4,
     "metadata": {},
     "output_type": "execute_result"
    }
   ],
   "source": [
    "func = lambda i,j: (i+1)*(j+1)*(j+2)   # función que retorna la operación con los índices i,j\n",
    "a = np.fromfunction(func,(100,100))\n",
    "\n",
    "b = a.copy()\n",
    "b **= 2.5\n",
    "\n",
    "c = a.copy()\n",
    "c = c**2.5\n",
    "\n",
    "c == b"
   ]
  },
  {
   "cell_type": "markdown",
   "metadata": {},
   "source": [
    "---\n",
    "### Ejercicio\n",
    "\n",
    "Consideremos la matrix `a` de dimensión 5x4 que contiene números enteros de manera aleatoria\n",
    "```python\n",
    "a = np.arange(0,20)\n",
    "np.random.seed(10)   # fija la semilla\n",
    "np.random.shuffle(a) # modificación in-place de a\n",
    "a.shape = (5,4)      # redimensionamos a una matriz 5x4\n",
    "```\n",
    "encuentre el valor máximo guardado en el array `a` y además su ubicación (índices) `i`,`j`."
   ]
  },
  {
   "cell_type": "code",
   "execution_count": 41,
   "metadata": {
    "collapsed": false,
    "slideshow": {
     "slide_type": "slide"
    }
   },
   "outputs": [
    {
     "name": "stdout",
     "output_type": "stream",
     "text": [
      "[[ 0.21418452  0.48377777  0.4664515   0.64147676]\n",
      " [ 0.63884634  0.89204127  0.66773516  0.7320433 ]\n",
      " [ 0.65517064  0.29611062  0.52765692  0.28062458]\n",
      " [ 0.81800681  0.96262976  0.63734574  0.09596636]\n",
      " [ 0.62398468  0.78578178  0.64027498  0.38163384]]\n",
      "0.962629760489\n",
      "(3, 1)\n"
     ]
    }
   ],
   "source": [
    "#a = np.arange(0,20)\n",
    "#np.random.seed(np.random.randint(0,100))   # fija la semilla\n",
    "#np.random.shuffle(a) # modificación in-place de a\n",
    "#a.shape = (5,4)      # redimensionamos a una matriz 5x4\n",
    "\n",
    "a = np.random.rand(5,4)\n",
    "\n",
    "mayor = 0\n",
    "for i in xrange(0,a.shape[0]):\n",
    "    for j in xrange(0,a.shape[1]):\n",
    "        if mayor < a[i,j]:\n",
    "            mayor = a[i,j]\n",
    "            pos = (i,j)\n",
    "\n",
    "print a\n",
    "print mayor\n",
    "print pos"
   ]
  },
  {
   "cell_type": "code",
   "execution_count": 47,
   "metadata": {
    "collapsed": false
   },
   "outputs": [
    {
     "data": {
      "text/plain": [
       "0.96262976048919868"
      ]
     },
     "execution_count": 47,
     "metadata": {},
     "output_type": "execute_result"
    }
   ],
   "source": [
    "a.max()"
   ]
  },
  {
   "cell_type": "markdown",
   "metadata": {},
   "source": [
    "---\n",
    "\n",
    "Numpy ofrece métodos para encontrar máximos y mínimos dentro de arrays. El método `a.argmax()` entrega el índice donde su ubica el elemento más grande de `a`, similarmente para `a.argmin()`; por el contrario `a.max()` y `a.min()` retornan el valor máximo y mínimo respectivamente.\n",
    "\n",
    "Una estadística simple se puede realizar sobre los elementos del array con los métodos `a.mean()`, `a.var()`, `a.std()`, `a.median()`. La suma de todos los elementos de un array se puede encontrar como `np.sum(a)`.\n",
    "\n",
    "---\n",
    "\n",
    "### Ejercicio: Integrales definidas y el método del rectángulo\n",
    "\n",
    "(ver [wikipedia](https://en.wikipedia.org/wiki/Rectangle_method))\n",
    "\n",
    "El método del rectángulo calcula de manera aproximada una integra definida de una funcíon. Una integral en un intervalo definido\n",
    "$$\n",
    "\\int_a^b f(x) \\mathrm{d}x\n",
    "$$\n",
    "puede verse como el área bajo la curva dibujada por la función en el integrando.\n",
    "\n",
    "<img src=\"definite-integral.png\">\n",
    "\n",
    "Una aproximación al valor numérico de la integral se puede lograr dividiendo el área bajo la curva en rectángulos para los cuales su área puede ser calculada.\n",
    "\n",
    "<img src=\"rectangle_rule.gif\">\n",
    "\n",
    "La aproximación a la integral será entonces la suma de estas pequeñas áreas que se encuentran en el intervalo de integración.\n",
    "\n",
    "Especificamente, el método del rectangulo para la integral $\\int_a^b f(x) \\mathrm{d}x$ se formula de la siguiente manera: se divide el intervalo de integración $(a,b)$ en $N$ segmentos iguales de longitud $h=(b-a)/N$, con estos se define un rectangulo de altura $f(x_n)$ y base $h$ y área $A_n = h\\, f(x_n)$ donde $x_n=a+n\\,h$, de manera que la integral se puede aproximar como \n",
    "$$\n",
    "\\int_a^b f(x) \\mathrm{d}x \\approx \\sum_{n=0}^{N-1} h\\, f(x_n) = \\sum_{n=0}^{N-1} A_n\n",
    "$$\n",
    "\n",
    "1. Aproxime la integral\n",
    "$$\n",
    "\\int_0^{\\pi/2} \\sin(x) \\mathrm{d}x \n",
    "$$\n",
    "haciendo uso del método del rectángulo."
   ]
  }
 ],
 "metadata": {
  "kernelspec": {
   "display_name": "Python 2",
   "language": "python",
   "name": "python2"
  },
  "language_info": {
   "codemirror_mode": {
    "name": "ipython",
    "version": 2
   },
   "file_extension": ".py",
   "mimetype": "text/x-python",
   "name": "python",
   "nbconvert_exporter": "python",
   "pygments_lexer": "ipython2",
   "version": "2.7.6"
  }
 },
 "nbformat": 4,
 "nbformat_minor": 0
}
