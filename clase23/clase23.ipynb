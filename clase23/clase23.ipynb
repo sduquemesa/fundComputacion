{
 "cells": [
  {
   "cell_type": "markdown",
   "metadata": {},
   "source": [
    "# Clase 23"
   ]
  },
  {
   "cell_type": "code",
   "execution_count": null,
   "metadata": {
    "collapsed": false
   },
   "outputs": [],
   "source": [
    "import numpy as np\n",
    "import time"
   ]
  },
  {
   "cell_type": "markdown",
   "metadata": {},
   "source": [
    "---\n",
    "\n",
    "### Ejercicio: Integrales definidas y el método del rectángulo\n",
    "\n",
    "(ver [wikipedia](https://en.wikipedia.org/wiki/Rectangle_method))\n",
    "\n",
    "El método del rectángulo calcula de manera aproximada una integra definida de una funcíon. Una integral en un intervalo definido\n",
    "$$\n",
    "\\int_a^b f(x) \\mathrm{d}x\n",
    "$$\n",
    "puede verse como el área bajo la curva dibujada por la función en el integrando.\n",
    "\n",
    "<img src=\"definite-integral.png\">\n",
    "\n",
    "Una aproximación al valor numérico de la integral se puede lograr dividiendo el área bajo la curva en rectángulos para los cuales su área puede ser calculada.\n",
    "\n",
    "<img src=\"rectangle_rule.gif\">\n",
    "\n",
    "La aproximación a la integral será entonces la suma de estas pequeñas áreas que se encuentran en el intervalo de integración.\n",
    "\n",
    "Especificamente, el método del rectangulo para la integral $\\int_a^b f(x) \\mathrm{d}x$ se formula de la siguiente manera: se divide el intervalo de integración $(a,b)$ en $N$ segmentos iguales de longitud $h=(b-a)/N$, con estos se define un rectangulo de altura $f(x_n)$ y base $h$ y área $A_n = h\\, f(x_n)$ donde $x_n=a+n\\,h$, de manera que la integral se puede aproximar como \n",
    "$$\n",
    "\\int_a^b f(x) \\mathrm{d}x \\approx \\sum_{n=0}^{N-1} h\\, f(x_n) = \\sum_{n=0}^{N-1} A_n = \\frac{b-a}{N}\\sum_{n=0}^{N-1} f\\left(a+n\\,\\frac{b-a}{N}\\right)\n",
    "$$\n",
    "\n",
    "1. Aproxime la integral\n",
    "$$\n",
    "\\int_0^{\\pi/2} \\sin(x) \\mathrm{d}x \n",
    "$$\n",
    "haciendo uso del método del rectángulo."
   ]
  },
  {
   "cell_type": "code",
   "execution_count": 10,
   "metadata": {
    "collapsed": false
   },
   "outputs": [
    {
     "name": "stdout",
     "output_type": "stream",
     "text": [
      "0.999999214601\n",
      "tiempo: 2.41429901123\n",
      "\n",
      "0.999999785398\n",
      "tiempo: 0.0307908058167\n"
     ]
    }
   ],
   "source": [
    "import numpy as np\n",
    "import time\n",
    "\n",
    "\n",
    "N = 999999   # numero de rectangulos\n",
    "a = 0       # limite inferior\n",
    "b = np.pi/2 # limite superior\n",
    "\n",
    "f = lambda x: np.sin(x)   # funcion a integrar\n",
    "\n",
    "### Solución usando ciclos ###\n",
    "\n",
    "t0 = time.time()\n",
    "\n",
    "suma = 0.0\n",
    "for i in xrange(0,N):\n",
    "    suma += f(a+i*(b-a)/N)\n",
    "    \n",
    "resultado = (b-a)/N*suma\n",
    "\n",
    "t1 = time.time()\n",
    "\n",
    "print resultado\n",
    "print 'tiempo:',t1-t0\n",
    "print\n",
    "\n",
    "### Solución usando arrays de numpy ###\n",
    "\n",
    "t0 = time.time()\n",
    "\n",
    "x = np.linspace(a,b,N)\n",
    "h = (b-a)/N\n",
    "alturas = np.sin(x)\n",
    "areas = h*alturas\n",
    "\n",
    "resultado = areas.sum()\n",
    "\n",
    "t1 = time.time()\n",
    "\n",
    "print resultado\n",
    "print 'tiempo:', t1-t0"
   ]
  },
  {
   "cell_type": "code",
   "execution_count": 4,
   "metadata": {
    "collapsed": true
   },
   "outputs": [],
   "source": [
    "x = np.linspace?"
   ]
  },
  {
   "cell_type": "code",
   "execution_count": 7,
   "metadata": {
    "collapsed": false
   },
   "outputs": [
    {
     "data": {
      "text/plain": [
       "0.99999785393961049"
      ]
     },
     "execution_count": 7,
     "metadata": {},
     "output_type": "execute_result"
    }
   ],
   "source": [
    "x = np.linspace(a,b,N)\n",
    "h = (b-a)/N\n",
    "alturas = np.sin(x)\n",
    "areas = h*alturas\n",
    "\n",
    "areas.sum()"
   ]
  },
  {
   "cell_type": "markdown",
   "metadata": {},
   "source": [
    "---\n",
    "\n",
    "## Matrices en numpy\n",
    "\n",
    "Los arrays creados hasta ahora han sido del tipo `ndarray`. Numpy también tiene un tipo llamado `matrix` o `mat`, que es similar a las estructuras de datos que forman matrices en Matlab. Es decir, un array uno-dimensional es corresponce a un vector fila o un vector columna cuando es convertido en un objeto del tipo `matrix`."
   ]
  },
  {
   "cell_type": "code",
   "execution_count": 11,
   "metadata": {
    "collapsed": false
   },
   "outputs": [
    {
     "data": {
      "text/plain": [
       "matrix([[ 1.,  2.,  3.]])"
      ]
     },
     "execution_count": 11,
     "metadata": {},
     "output_type": "execute_result"
    }
   ],
   "source": [
    "x1 = np.array([1,2,3],float)\n",
    "x2 = np.matrix(x1)\n",
    "x2"
   ]
  },
  {
   "cell_type": "code",
   "execution_count": 12,
   "metadata": {
    "collapsed": false
   },
   "outputs": [
    {
     "data": {
      "text/plain": [
       "matrix([[ 1.],\n",
       "        [ 2.],\n",
       "        [ 3.]])"
      ]
     },
     "execution_count": 12,
     "metadata": {},
     "output_type": "execute_result"
    }
   ],
   "source": [
    "x3 = x2.transpose()\n",
    "x3"
   ]
  },
  {
   "cell_type": "code",
   "execution_count": 13,
   "metadata": {
    "collapsed": false
   },
   "outputs": [
    {
     "data": {
      "text/plain": [
       "numpy.matrixlib.defmatrix.matrix"
      ]
     },
     "execution_count": 13,
     "metadata": {},
     "output_type": "execute_result"
    }
   ],
   "source": [
    "type(x3)"
   ]
  },
  {
   "cell_type": "markdown",
   "metadata": {},
   "source": [
    "Arrays de dimensión mayor que dos no pueden ser representados como instancias de `matrix`.\n",
    "\n",
    "La ventaja de los objetos `matrix` es que la multiplicación representa el producto matriz-matriz, matriz-vector, vector-matriz como el que conocemos del álgebra lineal:"
   ]
  },
  {
   "cell_type": "code",
   "execution_count": 14,
   "metadata": {
    "collapsed": false
   },
   "outputs": [
    {
     "data": {
      "text/plain": [
       "array([[ 1.,  0.,  0.],\n",
       "       [ 0.,  1.,  0.],\n",
       "       [ 0.,  0.,  1.]])"
      ]
     },
     "execution_count": 14,
     "metadata": {},
     "output_type": "execute_result"
    }
   ],
   "source": [
    "A = np.eye(3)       # matriz identidad\n",
    "A"
   ]
  },
  {
   "cell_type": "code",
   "execution_count": 15,
   "metadata": {
    "collapsed": false
   },
   "outputs": [
    {
     "data": {
      "text/plain": [
       "matrix([[ 1.,  0.,  0.],\n",
       "        [ 0.,  1.,  0.],\n",
       "        [ 0.,  0.,  1.]])"
      ]
     },
     "execution_count": 15,
     "metadata": {},
     "output_type": "execute_result"
    }
   ],
   "source": [
    "A = np.matrix(A)\n",
    "A"
   ]
  },
  {
   "cell_type": "code",
   "execution_count": 16,
   "metadata": {
    "collapsed": false
   },
   "outputs": [
    {
     "data": {
      "text/plain": [
       "matrix([[ 1.,  2.,  3.]])"
      ]
     },
     "execution_count": 16,
     "metadata": {},
     "output_type": "execute_result"
    }
   ],
   "source": [
    "y2 = x2*A\n",
    "y2"
   ]
  },
  {
   "cell_type": "code",
   "execution_count": 17,
   "metadata": {
    "collapsed": false
   },
   "outputs": [
    {
     "data": {
      "text/plain": [
       "matrix([[ 1.],\n",
       "        [ 2.],\n",
       "        [ 3.]])"
      ]
     },
     "execution_count": 17,
     "metadata": {},
     "output_type": "execute_result"
    }
   ],
   "source": [
    "y3 = A*x3\n",
    "y3"
   ]
  },
  {
   "cell_type": "code",
   "execution_count": 18,
   "metadata": {
    "collapsed": false
   },
   "outputs": [
    {
     "ename": "ValueError",
     "evalue": "matrices are not aligned",
     "output_type": "error",
     "traceback": [
      "\u001b[1;31m---------------------------------------------------------------------------\u001b[0m",
      "\u001b[1;31mValueError\u001b[0m                                Traceback (most recent call last)",
      "\u001b[1;32m<ipython-input-18-5280de29ef8b>\u001b[0m in \u001b[0;36m<module>\u001b[1;34m()\u001b[0m\n\u001b[1;32m----> 1\u001b[1;33m \u001b[0mA\u001b[0m\u001b[1;33m*\u001b[0m\u001b[0mx2\u001b[0m\u001b[1;33m\u001b[0m\u001b[0m\n\u001b[0m",
      "\u001b[1;32m/usr/lib/python2.7/dist-packages/numpy/matrixlib/defmatrix.pyc\u001b[0m in \u001b[0;36m__mul__\u001b[1;34m(self, other)\u001b[0m\n\u001b[0;32m    339\u001b[0m         \u001b[1;32mif\u001b[0m \u001b[0misinstance\u001b[0m\u001b[1;33m(\u001b[0m\u001b[0mother\u001b[0m\u001b[1;33m,\u001b[0m \u001b[1;33m(\u001b[0m\u001b[0mN\u001b[0m\u001b[1;33m.\u001b[0m\u001b[0mndarray\u001b[0m\u001b[1;33m,\u001b[0m \u001b[0mlist\u001b[0m\u001b[1;33m,\u001b[0m \u001b[0mtuple\u001b[0m\u001b[1;33m)\u001b[0m\u001b[1;33m)\u001b[0m \u001b[1;33m:\u001b[0m\u001b[1;33m\u001b[0m\u001b[0m\n\u001b[0;32m    340\u001b[0m             \u001b[1;31m# This promotes 1-D vectors to row vectors\u001b[0m\u001b[1;33m\u001b[0m\u001b[1;33m\u001b[0m\u001b[0m\n\u001b[1;32m--> 341\u001b[1;33m             \u001b[1;32mreturn\u001b[0m \u001b[0mN\u001b[0m\u001b[1;33m.\u001b[0m\u001b[0mdot\u001b[0m\u001b[1;33m(\u001b[0m\u001b[0mself\u001b[0m\u001b[1;33m,\u001b[0m \u001b[0masmatrix\u001b[0m\u001b[1;33m(\u001b[0m\u001b[0mother\u001b[0m\u001b[1;33m)\u001b[0m\u001b[1;33m)\u001b[0m\u001b[1;33m\u001b[0m\u001b[0m\n\u001b[0m\u001b[0;32m    342\u001b[0m         \u001b[1;32mif\u001b[0m \u001b[0misscalar\u001b[0m\u001b[1;33m(\u001b[0m\u001b[0mother\u001b[0m\u001b[1;33m)\u001b[0m \u001b[1;32mor\u001b[0m \u001b[1;32mnot\u001b[0m \u001b[0mhasattr\u001b[0m\u001b[1;33m(\u001b[0m\u001b[0mother\u001b[0m\u001b[1;33m,\u001b[0m \u001b[1;34m'__rmul__'\u001b[0m\u001b[1;33m)\u001b[0m \u001b[1;33m:\u001b[0m\u001b[1;33m\u001b[0m\u001b[0m\n\u001b[0;32m    343\u001b[0m             \u001b[1;32mreturn\u001b[0m \u001b[0mN\u001b[0m\u001b[1;33m.\u001b[0m\u001b[0mdot\u001b[0m\u001b[1;33m(\u001b[0m\u001b[0mself\u001b[0m\u001b[1;33m,\u001b[0m \u001b[0mother\u001b[0m\u001b[1;33m)\u001b[0m\u001b[1;33m\u001b[0m\u001b[0m\n",
      "\u001b[1;31mValueError\u001b[0m: matrices are not aligned"
     ]
    }
   ],
   "source": [
    "A*x2"
   ]
  },
  {
   "cell_type": "markdown",
   "metadata": {},
   "source": [
    "Comparemos el profucto de arrays con el producto de matrices"
   ]
  },
  {
   "cell_type": "code",
   "execution_count": 19,
   "metadata": {
    "collapsed": false
   },
   "outputs": [
    {
     "data": {
      "text/plain": [
       "array([[ 1.,  1.,  1.],\n",
       "       [ 1.,  1.,  1.],\n",
       "       [ 1.,  1.,  1.]])"
      ]
     },
     "execution_count": 19,
     "metadata": {},
     "output_type": "execute_result"
    }
   ],
   "source": [
    "A = (np.zeros(9)+1).reshape(3,3)     # Array 3x3 lleno de 1's\n",
    "A"
   ]
  },
  {
   "cell_type": "code",
   "execution_count": 20,
   "metadata": {
    "collapsed": false
   },
   "outputs": [
    {
     "data": {
      "text/plain": [
       "array([ 1.,  2.,  3.])"
      ]
     },
     "execution_count": 20,
     "metadata": {},
     "output_type": "execute_result"
    }
   ],
   "source": [
    "x1"
   ]
  },
  {
   "cell_type": "code",
   "execution_count": 21,
   "metadata": {
    "collapsed": false
   },
   "outputs": [
    {
     "data": {
      "text/plain": [
       "array([[ 1.,  2.,  3.],\n",
       "       [ 1.,  2.,  3.],\n",
       "       [ 1.,  2.,  3.]])"
      ]
     },
     "execution_count": 21,
     "metadata": {},
     "output_type": "execute_result"
    }
   ],
   "source": [
    "A*x1         # [A[0,:]*x1, A[1,:]*x1, A[2,:]*x1]"
   ]
  },
  {
   "cell_type": "code",
   "execution_count": 22,
   "metadata": {
    "collapsed": false
   },
   "outputs": [
    {
     "data": {
      "text/plain": [
       "array([[ 2.,  2.,  2.],\n",
       "       [ 2.,  2.,  2.],\n",
       "       [ 2.,  2.,  2.]])"
      ]
     },
     "execution_count": 22,
     "metadata": {},
     "output_type": "execute_result"
    }
   ],
   "source": [
    "B = A+1      # Suma elemento a elemento\n",
    "B"
   ]
  },
  {
   "cell_type": "code",
   "execution_count": 23,
   "metadata": {
    "collapsed": false
   },
   "outputs": [
    {
     "data": {
      "text/plain": [
       "array([[ 2.,  2.,  2.],\n",
       "       [ 2.,  2.,  2.],\n",
       "       [ 2.,  2.,  2.]])"
      ]
     },
     "execution_count": 23,
     "metadata": {},
     "output_type": "execute_result"
    }
   ],
   "source": [
    "A*B          # Producto elemento a elemento"
   ]
  },
  {
   "cell_type": "code",
   "execution_count": 24,
   "metadata": {
    "collapsed": false
   },
   "outputs": [
    {
     "data": {
      "text/plain": [
       "matrix([[ 6.,  6.,  6.],\n",
       "        [ 6.,  6.,  6.],\n",
       "        [ 6.,  6.,  6.]])"
      ]
     },
     "execution_count": 24,
     "metadata": {},
     "output_type": "execute_result"
    }
   ],
   "source": [
    "A = np.matrix(A)\n",
    "B = np.matrix(B)\n",
    "\n",
    "A*B          # Producto de matrices"
   ]
  },
  {
   "cell_type": "code",
   "execution_count": 25,
   "metadata": {
    "collapsed": false
   },
   "outputs": [
    {
     "ename": "ValueError",
     "evalue": "matrices are not aligned",
     "output_type": "error",
     "traceback": [
      "\u001b[1;31m---------------------------------------------------------------------------\u001b[0m",
      "\u001b[1;31mValueError\u001b[0m                                Traceback (most recent call last)",
      "\u001b[1;32m<ipython-input-25-c8f2c398e598>\u001b[0m in \u001b[0;36m<module>\u001b[1;34m()\u001b[0m\n\u001b[1;32m----> 1\u001b[1;33m \u001b[0mA\u001b[0m\u001b[1;33m*\u001b[0m\u001b[0mx1\u001b[0m         \u001b[1;31m# Producto de matriz y vector\u001b[0m\u001b[1;33m\u001b[0m\u001b[0m\n\u001b[0m",
      "\u001b[1;32m/usr/lib/python2.7/dist-packages/numpy/matrixlib/defmatrix.pyc\u001b[0m in \u001b[0;36m__mul__\u001b[1;34m(self, other)\u001b[0m\n\u001b[0;32m    339\u001b[0m         \u001b[1;32mif\u001b[0m \u001b[0misinstance\u001b[0m\u001b[1;33m(\u001b[0m\u001b[0mother\u001b[0m\u001b[1;33m,\u001b[0m \u001b[1;33m(\u001b[0m\u001b[0mN\u001b[0m\u001b[1;33m.\u001b[0m\u001b[0mndarray\u001b[0m\u001b[1;33m,\u001b[0m \u001b[0mlist\u001b[0m\u001b[1;33m,\u001b[0m \u001b[0mtuple\u001b[0m\u001b[1;33m)\u001b[0m\u001b[1;33m)\u001b[0m \u001b[1;33m:\u001b[0m\u001b[1;33m\u001b[0m\u001b[0m\n\u001b[0;32m    340\u001b[0m             \u001b[1;31m# This promotes 1-D vectors to row vectors\u001b[0m\u001b[1;33m\u001b[0m\u001b[1;33m\u001b[0m\u001b[0m\n\u001b[1;32m--> 341\u001b[1;33m             \u001b[1;32mreturn\u001b[0m \u001b[0mN\u001b[0m\u001b[1;33m.\u001b[0m\u001b[0mdot\u001b[0m\u001b[1;33m(\u001b[0m\u001b[0mself\u001b[0m\u001b[1;33m,\u001b[0m \u001b[0masmatrix\u001b[0m\u001b[1;33m(\u001b[0m\u001b[0mother\u001b[0m\u001b[1;33m)\u001b[0m\u001b[1;33m)\u001b[0m\u001b[1;33m\u001b[0m\u001b[0m\n\u001b[0m\u001b[0;32m    342\u001b[0m         \u001b[1;32mif\u001b[0m \u001b[0misscalar\u001b[0m\u001b[1;33m(\u001b[0m\u001b[0mother\u001b[0m\u001b[1;33m)\u001b[0m \u001b[1;32mor\u001b[0m \u001b[1;32mnot\u001b[0m \u001b[0mhasattr\u001b[0m\u001b[1;33m(\u001b[0m\u001b[0mother\u001b[0m\u001b[1;33m,\u001b[0m \u001b[1;34m'__rmul__'\u001b[0m\u001b[1;33m)\u001b[0m \u001b[1;33m:\u001b[0m\u001b[1;33m\u001b[0m\u001b[0m\n\u001b[0;32m    343\u001b[0m             \u001b[1;32mreturn\u001b[0m \u001b[0mN\u001b[0m\u001b[1;33m.\u001b[0m\u001b[0mdot\u001b[0m\u001b[1;33m(\u001b[0m\u001b[0mself\u001b[0m\u001b[1;33m,\u001b[0m \u001b[0mother\u001b[0m\u001b[1;33m)\u001b[0m\u001b[1;33m\u001b[0m\u001b[0m\n",
      "\u001b[1;31mValueError\u001b[0m: matrices are not aligned"
     ]
    }
   ],
   "source": [
    "A*x1         # Producto de matriz y vector"
   ]
  },
  {
   "cell_type": "markdown",
   "metadata": {},
   "source": [
    "---\n",
    "\n",
    "### Ejercicio\n",
    "\n",
    "**1. Multiplicación de matrix-vector con arrays de numpy:** Sea $\\mathbf{A}$ una matriz cuadrada de dimensión $3\\times3$ y $\\mathbf{b}$ un vector columna de dimensión $3\\times 1$\n",
    "$$\n",
    "\\mathbf{A} = \\begin{pmatrix}\n",
    "a & b & c \\\\\n",
    "p & q & r \\\\\n",
    "u & v & w\n",
    "\\end{pmatrix}, \\quad \\mathbf{b} = \\begin{pmatrix}\n",
    "x \\\\\n",
    "y \\\\\n",
    "z\n",
    "\\end{pmatrix}\\,,\n",
    "$$\n",
    "\n",
    "el producto entre ellos estará definido por:\n",
    "\n",
    "$$\\mathbf{Ab} = \\begin{pmatrix}\n",
    "a & b & c \\\\\n",
    "p & q & r \\\\\n",
    "u & v & w\n",
    "\\end{pmatrix} \\begin{pmatrix}\n",
    "x \\\\\n",
    "y \\\\\n",
    "z\n",
    "\\end{pmatrix} =\\begin{pmatrix}\n",
    "ax + by + cz \\\\\n",
    "px + qy + rz \\\\\n",
    "ux + vy + wz\n",
    "\\end{pmatrix}\\,.\n",
    "$$\n",
    "\n",
    "En general la multiplicación de una matriz $\\mathbf{A}$ de dimensión $p\\times q$ por un vector columna $\\mathbf{b}$ de dimensión $q\\times 1$, está definida como \n",
    "$$\n",
    "\\mathbf{c}_{i} = \\sum_{k=1}^q \\mathbf{A}_{i,k}\\, \\mathbf{b}_k\\, ;\n",
    "$$\n",
    "\n",
    "escriba un programa en python que, usando numpy y dados una matrix y un vector de la forma\n",
    "```python\n",
    "A = array([[1,2,3],[4,5,6],[7,8,9]])\n",
    "b = array([-3,-2,-1])\n",
    "```\n",
    "calcule su multiplicación (i.e., el vector $\\mathbf{c}$ para el cual sus componentes son `c[i]`=$\\sum_{j=0}^2$`A[i,j]*b[j]`). Luego, usando el módulo `np.matrix` busque la función que calcule el producto estándar entre matriz-vector. Agregue a su código una evaluación del tiempo de ejecucuón y comparelo con el tiempo de ejecución de la operación en el módulo `np.matrix`.\n",
    "\n",
    "**2. Slicing y multiplicación de matrices:** Extraiga como un slice la matriz $2\\times 2$ en la esquina inferior derecha de la matriz $\\mathbf{A}$ definida en el problema anterior. Sume este slice con la matriz $2\\times 2$ obtenida de la esquina superior izquierda de $\\mathbf{A}$, multiplique el resultado por la matriz de la esquina superior derecha e inserte el resultado en la esquina inferior izquierda de la matriz $\\mathbf{A}$. Controle los resultados haciendo las cálculos a mano."
   ]
  },
  {
   "cell_type": "code",
   "execution_count": null,
   "metadata": {
    "collapsed": true
   },
   "outputs": [],
   "source": []
  }
 ],
 "metadata": {
  "kernelspec": {
   "display_name": "Python 2",
   "language": "python",
   "name": "python2"
  },
  "language_info": {
   "codemirror_mode": {
    "name": "ipython",
    "version": 2
   },
   "file_extension": ".py",
   "mimetype": "text/x-python",
   "name": "python",
   "nbconvert_exporter": "python",
   "pygments_lexer": "ipython2",
   "version": "2.7.6"
  }
 },
 "nbformat": 4,
 "nbformat_minor": 0
}
