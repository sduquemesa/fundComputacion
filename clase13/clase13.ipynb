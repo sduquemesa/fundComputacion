{
 "cells": [
  {
   "cell_type": "markdown",
   "metadata": {},
   "source": [
    "# Clase 13"
   ]
  },
  {
   "cell_type": "markdown",
   "metadata": {},
   "source": [
    "## Loops"
   ]
  },
  {
   "cell_type": "markdown",
   "metadata": {},
   "source": [
    "### `for` loop"
   ]
  },
  {
   "cell_type": "markdown",
   "metadata": {},
   "source": [
    "La estructura de los loop `for` en Python es la siguiente\n",
    "```python\n",
    "for <iterador> in <iterable>:\n",
    "    repita lo que esta aqui hasta que se agote el iterable\n",
    "```\n",
    "donde un **iterable** es un contenedor (e.g. lista, tupla, string) que se asigna un elemento de él en cada repetición al iterador"
   ]
  },
  {
   "cell_type": "code",
   "execution_count": 1,
   "metadata": {
    "collapsed": false
   },
   "outputs": [
    {
     "name": "stdout",
     "output_type": "stream",
     "text": [
      "H\n",
      "o\n",
      "l\n",
      "a\n",
      " \n",
      "M\n",
      "u\n",
      "n\n",
      "d\n",
      "o\n"
     ]
    }
   ],
   "source": [
    "for s in 'Hola Mundo':\n",
    "    print s"
   ]
  },
  {
   "cell_type": "code",
   "execution_count": 5,
   "metadata": {
    "collapsed": false
   },
   "outputs": [
    {
     "name": "stdout",
     "output_type": "stream",
     "text": [
      "1\n",
      "9\n",
      "25\n",
      "49\n",
      "ya acabé\n"
     ]
    }
   ],
   "source": [
    "for i in [1,3,5,7]:\n",
    "    cuadrado = i**2\n",
    "    print cuadrado\n",
    "\n",
    "print 'ya acabé'"
   ]
  },
  {
   "cell_type": "code",
   "execution_count": 18,
   "metadata": {
    "collapsed": false
   },
   "outputs": [
    {
     "name": "stdout",
     "output_type": "stream",
     "text": [
      "3628800\n"
     ]
    }
   ],
   "source": [
    "contador = 1\n",
    "for i in [1,2,3,4,5,6,7,8,9,10]:\n",
    "    contador *= i\n",
    "\n",
    "print contador"
   ]
  },
  {
   "cell_type": "code",
   "execution_count": 11,
   "metadata": {
    "collapsed": false
   },
   "outputs": [
    {
     "name": "stdout",
     "output_type": "stream",
     "text": [
      " \n",
      "d\n",
      "i\n",
      "c\n",
      "e\n",
      "n\n",
      " \n",
      "l\n",
      "o\n",
      "s\n",
      " \n",
      "p\n",
      "o\n",
      "l\n",
      "l\n",
      "i\n",
      "t\n",
      "o\n",
      "s\n",
      "?\n",
      "pio pio\n",
      "?\n"
     ]
    }
   ],
   "source": [
    "c=4\n",
    "contador=0\n",
    "for c in 'que dicen los pollitos?':\n",
    "    contador += 1\n",
    "    if contador > 3:\n",
    "        print c\n",
    "    if c == '?':\n",
    "        print 'pio pio'\n",
    "        \n",
    "print c"
   ]
  },
  {
   "cell_type": "markdown",
   "metadata": {},
   "source": [
    "El iterable puede ser también una lista de listas. Se asignará entonces el valor de la lista interna al iterador quedando asignado como una lista. Por ejemplo"
   ]
  },
  {
   "cell_type": "code",
   "execution_count": 19,
   "metadata": {
    "collapsed": false
   },
   "outputs": [
    {
     "name": "stdout",
     "output_type": "stream",
     "text": [
      "Julio Cortazar\n",
      "Julio Garcia\n",
      "Julio Mutis\n",
      "Gabriel Cortazar\n",
      "Gabriel Garcia\n",
      "Gabriel Mutis\n",
      "Alvaro Cortazar\n",
      "Alvaro Garcia\n",
      "Alvaro Mutis\n"
     ]
    }
   ],
   "source": [
    "for iterador1 in ['Julio','Gabriel','Alvaro']:\n",
    "    for iterador2 in ['Cortazar','Garcia','Mutis']:\n",
    "        print iterador1, iterador2"
   ]
  },
  {
   "cell_type": "markdown",
   "metadata": {},
   "source": [
    "Puedo entonces acceder a los elemntos de la lista asignada al iterador"
   ]
  },
  {
   "cell_type": "code",
   "execution_count": 23,
   "metadata": {
    "collapsed": false
   },
   "outputs": [
    {
     "name": "stdout",
     "output_type": "stream",
     "text": [
      "u\n",
      "l\n",
      "i\n",
      "a\n",
      "b\n",
      "r\n",
      "l\n",
      "v\n",
      "a\n"
     ]
    }
   ],
   "source": [
    "for iterador1 in ['Julio','Gabriel','Alvaro']:\n",
    "    for i in [1,2,3]:\n",
    "        print iterador1[i]"
   ]
  },
  {
   "cell_type": "markdown",
   "metadata": {},
   "source": [
    "Si quiero que me imprima los elementos de manera organizada"
   ]
  },
  {
   "cell_type": "code",
   "execution_count": 33,
   "metadata": {
    "collapsed": false
   },
   "outputs": [
    {
     "name": "stdout",
     "output_type": "stream",
     "text": [
      "Julio Cortazar\n",
      "Gabriel Garcia\n",
      "Alvaro Mutis\n"
     ]
    }
   ],
   "source": [
    "cont1 = 0\n",
    "cont2 = 0\n",
    "\n",
    "for iterador1 in ['Julio','Gabriel','Alvaro']:\n",
    "    \n",
    "    cont1 += 1\n",
    "    cont2 = 0\n",
    "    for iterador2 in ['Cortazar','Garcia','Mutis']:\n",
    "        cont2 += 1\n",
    "        \n",
    "        if cont1 == cont2:\n",
    "            print iterador1, iterador2"
   ]
  },
  {
   "cell_type": "markdown",
   "metadata": {},
   "source": [
    "El orden es exigido entonces por la condición interna\n",
    "```python\n",
    "if cont1 == cont2:\n",
    "    print iterador1, iterador2\n",
    "```\n",
    "en la cual se evalúa la igualdad de los contadores. Es fundamental reasignar `cont2=0` cada vez que se finalice el ciclo `for` interno."
   ]
  },
  {
   "cell_type": "markdown",
   "metadata": {},
   "source": [
    "La función `range(start,end,step)` genera la lista `[start, start+step , start+2*step , ... , end-step]`"
   ]
  },
  {
   "cell_type": "code",
   "execution_count": 27,
   "metadata": {
    "collapsed": true
   },
   "outputs": [],
   "source": [
    "range?"
   ]
  },
  {
   "cell_type": "code",
   "execution_count": 28,
   "metadata": {
    "collapsed": false
   },
   "outputs": [
    {
     "name": "stdout",
     "output_type": "stream",
     "text": [
      "[0, 1, 2, 3, 4, 5, 6, 7, 8, 9]\n"
     ]
    }
   ],
   "source": [
    "x=range(0,10,1)\n",
    "print x"
   ]
  },
  {
   "cell_type": "code",
   "execution_count": 29,
   "metadata": {
    "collapsed": false
   },
   "outputs": [
    {
     "name": "stdout",
     "output_type": "stream",
     "text": [
      "[0, 1, 2, 3, 4, 5, 6, 7, 8, 9]\n"
     ]
    }
   ],
   "source": [
    "x=range(0,10)\n",
    "print x"
   ]
  },
  {
   "cell_type": "code",
   "execution_count": 30,
   "metadata": {
    "collapsed": false
   },
   "outputs": [
    {
     "name": "stdout",
     "output_type": "stream",
     "text": [
      "[0, 100, 200, 300, 400, 500, 600, 700, 800, 900]\n"
     ]
    }
   ],
   "source": [
    "x=range(0,1000,100)\n",
    "print x"
   ]
  },
  {
   "cell_type": "code",
   "execution_count": 32,
   "metadata": {
    "collapsed": false
   },
   "outputs": [
    {
     "name": "stdout",
     "output_type": "stream",
     "text": [
      "[0, 1, 2, 3]\n"
     ]
    }
   ],
   "source": [
    "x=range(4)\n",
    "print x"
   ]
  },
  {
   "cell_type": "markdown",
   "metadata": {},
   "source": [
    "Similarmente, la función `xrange(start,end,step)` genera un iterable pero hace un uso más eficiente de la memoria"
   ]
  },
  {
   "cell_type": "code",
   "execution_count": 34,
   "metadata": {
    "collapsed": true
   },
   "outputs": [],
   "source": [
    "xrange?"
   ]
  },
  {
   "cell_type": "code",
   "execution_count": 40,
   "metadata": {
    "collapsed": false
   },
   "outputs": [
    {
     "name": "stdout",
     "output_type": "stream",
     "text": [
      "xrange(0, 21, 3)\n"
     ]
    }
   ],
   "source": [
    "y=xrange(0,20,3)\n",
    "print y"
   ]
  },
  {
   "cell_type": "code",
   "execution_count": 42,
   "metadata": {
    "collapsed": false
   },
   "outputs": [
    {
     "data": {
      "text/plain": [
       "18"
      ]
     },
     "execution_count": 42,
     "metadata": {},
     "output_type": "execute_result"
    }
   ],
   "source": [
    "y[-1]"
   ]
  },
  {
   "cell_type": "markdown",
   "metadata": {},
   "source": [
    "Es entonces muy útil para construit el iterable de un ciclo, por ejemplo,"
   ]
  },
  {
   "cell_type": "code",
   "execution_count": 44,
   "metadata": {
    "collapsed": false
   },
   "outputs": [
    {
     "name": "stdout",
     "output_type": "stream",
     "text": [
      "1 es impar\n",
      "2 es par\n",
      "3 es impar\n",
      "4 es par\n",
      "5 es impar\n",
      "6 es par\n",
      "7 es impar\n",
      "8 es par\n",
      "9 es impar\n",
      "10 es par\n"
     ]
    }
   ],
   "source": [
    "for i in xrange(1,11):\n",
    "    if i%2==0:\n",
    "        print i, 'es par'\n",
    "    else:\n",
    "        print i, 'es impar'"
   ]
  },
  {
   "cell_type": "code",
   "execution_count": 46,
   "metadata": {
    "collapsed": false
   },
   "outputs": [
    {
     "name": "stdout",
     "output_type": "stream",
     "text": [
      "i es 1 j es 1\n",
      "i es 1 j es 2\n",
      "i es 1 j es 3\n",
      "i es 2 j es 1\n",
      "i es 2 j es 2\n",
      "i es 2 j es 3\n",
      "y yo soy yo\n"
     ]
    }
   ],
   "source": [
    "for i in xrange(1,3):\n",
    "    for j in xrange(1,4):\n",
    "        print 'i es', i, 'j es', j\n",
    "print 'y yo soy yo'"
   ]
  },
  {
   "cell_type": "markdown",
   "metadata": {},
   "source": [
    "La función `range` se utiliza principalmente para acceder listas"
   ]
  },
  {
   "cell_type": "code",
   "execution_count": 48,
   "metadata": {
    "collapsed": false
   },
   "outputs": [
    {
     "name": "stdout",
     "output_type": "stream",
     "text": [
      "0 J\n",
      "1 u\n",
      "2 l\n",
      "3 i\n",
      "4 o\n",
      "0 G\n",
      "1 a\n",
      "2 b\n",
      "3 r\n",
      "4 i\n",
      "5 e\n",
      "6 l\n",
      "0 A\n",
      "1 l\n",
      "2 v\n",
      "3 a\n",
      "4 r\n",
      "5 o\n"
     ]
    }
   ],
   "source": [
    "for iterador1 in ['Julio','Gabriel','Alvaro']:\n",
    "    for i in range( len(iterador1) ):\n",
    "        print i, iterador1[i]"
   ]
  },
  {
   "cell_type": "markdown",
   "metadata": {},
   "source": [
    "---\n",
    "### Ejercicio\n",
    "1. Escriba una secuencia de códigos que calcule e imprima la tabla de multiplicación del 1 al 10 de un número `x` introducido por el usuario. Es decir, $x* 1,x* 2,x* 3,\\dots$\n",
    "2. Escriba un secuancia de códigos que calcule e imprima las tablas de multiplicar del 1 al 5: $(1\\times 1,1\\times 2,\\dots,1\\times 5,2  \\times 1, 2\\times 2,\\dots, 5\\times 1, 5\\times 2, \\dots, 5\\times 5)$\n"
   ]
  },
  {
   "cell_type": "code",
   "execution_count": 52,
   "metadata": {
    "collapsed": false
   },
   "outputs": [
    {
     "name": "stdout",
     "output_type": "stream",
     "text": [
      "Dime tu número4\n",
      "4.0 * 1 = 4.0\n",
      "4.0 * 2 = 8.0\n",
      "4.0 * 3 = 12.0\n",
      "4.0 * 4 = 16.0\n",
      "4.0 * 5 = 20.0\n",
      "4.0 * 6 = 24.0\n",
      "4.0 * 7 = 28.0\n",
      "4.0 * 8 = 32.0\n",
      "4.0 * 9 = 36.0\n",
      "4.0 * 10 = 40.0\n"
     ]
    }
   ],
   "source": [
    "x=float(raw_input('Dime tu número'))\n",
    "\n",
    "for i in xrange(1,11):\n",
    "    print x,'*',i,'=',x*i"
   ]
  },
  {
   "cell_type": "code",
   "execution_count": 57,
   "metadata": {
    "collapsed": false
   },
   "outputs": [
    {
     "name": "stdout",
     "output_type": "stream",
     "text": [
      "\n",
      "La tabla del 1\n",
      "1 * 1 = 1\n",
      "1 * 2 = 2\n",
      "1 * 3 = 3\n",
      "1 * 4 = 4\n",
      "1 * 5 = 5\n",
      "\n",
      "La tabla del 2\n",
      "2 * 1 = 2\n",
      "2 * 2 = 4\n",
      "2 * 3 = 6\n",
      "2 * 4 = 8\n",
      "2 * 5 = 10\n",
      "\n",
      "La tabla del 3\n",
      "3 * 1 = 3\n",
      "3 * 2 = 6\n",
      "3 * 3 = 9\n",
      "3 * 4 = 12\n",
      "3 * 5 = 15\n",
      "\n",
      "La tabla del 4\n",
      "4 * 1 = 4\n",
      "4 * 2 = 8\n",
      "4 * 3 = 12\n",
      "4 * 4 = 16\n",
      "4 * 5 = 20\n",
      "\n",
      "La tabla del 5\n",
      "5 * 1 = 5\n",
      "5 * 2 = 10\n",
      "5 * 3 = 15\n",
      "5 * 4 = 20\n",
      "5 * 5 = 25\n"
     ]
    }
   ],
   "source": [
    "for i in xrange(1,6):\n",
    "    print '\\nLa tabla del', i\n",
    "    for j in xrange(1,6):\n",
    "        print i,'*',j,'=',i*j"
   ]
  },
  {
   "cell_type": "markdown",
   "metadata": {},
   "source": [
    "---"
   ]
  },
  {
   "cell_type": "markdown",
   "metadata": {},
   "source": [
    "Los números de Fibonacci están definidos usando la siguiente secuencia\n",
    "$$F_n=F_{n-1}+F_{n-2} $$\n",
    "donde $F_0=0$ y $F_1=1$.\n",
    "\n",
    "Escribamos de nuevo el código que calcula los número de Fibonacci:"
   ]
  },
  {
   "cell_type": "code",
   "execution_count": null,
   "metadata": {
    "collapsed": false
   },
   "outputs": [],
   "source": [
    "n=int(raw_input('¿Cuál número de Fibonacci quieres conocer? '))   # numero Fibonacci limite\n",
    "\n",
    "a,b=0,1\n",
    "for i in xrange(n):\n",
    "    fi = a+b\n",
    "    a = b\n",
    "    b = fi\n",
    "\n",
    "print 'a =', a, ', b =', b"
   ]
  }
 ],
 "metadata": {
  "kernelspec": {
   "display_name": "Python 2",
   "language": "python",
   "name": "python2"
  },
  "language_info": {
   "codemirror_mode": {
    "name": "ipython",
    "version": 2
   },
   "file_extension": ".py",
   "mimetype": "text/x-python",
   "name": "python",
   "nbconvert_exporter": "python",
   "pygments_lexer": "ipython2",
   "version": "2.7.11"
  }
 },
 "nbformat": 4,
 "nbformat_minor": 0
}
