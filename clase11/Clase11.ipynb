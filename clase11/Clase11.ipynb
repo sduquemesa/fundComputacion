{
 "cells": [
  {
   "cell_type": "markdown",
   "metadata": {},
   "source": [
    "Clase 11\n",
    "========="
   ]
  },
  {
   "cell_type": "markdown",
   "metadata": {},
   "source": [
    "<img src=\"rana.jpg\">"
   ]
  },
  {
   "cell_type": "markdown",
   "metadata": {},
   "source": [
    "## IPython Notebooks Markdown"
   ]
  },
  {
   "cell_type": "markdown",
   "metadata": {},
   "source": [
    "Jupyter implementa el lenguaje *markdown* para crear celdas con texto, imagenes, etc., en un notebook.\n",
    "\n",
    "LaTeX también está implementado."
   ]
  },
  {
   "cell_type": "markdown",
   "metadata": {},
   "source": [
    "### Encabezados"
   ]
  },
  {
   "cell_type": "markdown",
   "metadata": {},
   "source": [
    "# E1\n",
    "## E2\n",
    "### E3\n",
    "#### E4\n",
    "##### E5\n",
    "###### E6"
   ]
  },
  {
   "cell_type": "markdown",
   "metadata": {},
   "source": [
    "**Código:**\n",
    "\n",
    "(Entre los signos # y las letras se debe dejar un espacio omitido aquí para que el notebook reconozca el código)\n",
    "\n",
    "```markdown\n",
    "#E1\n",
    "##E2\n",
    "###E3\n",
    "####E4\n",
    "#####E5\n",
    "######E6\n",
    "```"
   ]
  },
  {
   "cell_type": "markdown",
   "metadata": {},
   "source": [
    "## Estilos de fuente"
   ]
  },
  {
   "cell_type": "markdown",
   "metadata": {},
   "source": [
    "**Bold Font** or __Bold Font__\n",
    "\n",
    "*Italic* or _Italic Font_\n",
    "\n",
    "~~Scratched Text~~\n",
    "\n",
    "<u>Underline HTML</u>"
   ]
  },
  {
   "cell_type": "markdown",
   "metadata": {},
   "source": [
    "**Código:**\n",
    "```markdown\n",
    "**Bold Font** or __Bold Font__\n",
    "\n",
    "*Italic* or _Italic Font_\n",
    "\n",
    "~~Scratched Text~~\n",
    "\n",
    "Markdown no soporta underline pero lo puedes lograr usando HTML <u>Text</u>\n",
    "```"
   ]
  },
  {
   "cell_type": "markdown",
   "metadata": {},
   "source": [
    "Un ejemplo: __Hola__ *mundo* ~~cruel~~ y **sa**_lv_~~aje~~"
   ]
  },
  {
   "cell_type": "markdown",
   "metadata": {},
   "source": [
    "## Listas"
   ]
  },
  {
   "cell_type": "markdown",
   "metadata": {},
   "source": [
    "- item\n",
    "- item\n",
    " - subitem\n",
    " - subitem\n",
    "- item\n",
    "\n",
    "\n",
    "1. item\n",
    "2. item\n",
    " 1. sub item\n",
    " 2. sub item\n",
    "3. item"
   ]
  },
  {
   "cell_type": "markdown",
   "metadata": {},
   "source": [
    "**Código:**\n",
    "```markdown\n",
    "- item\n",
    "- item\n",
    " - subitem\n",
    " - subitem\n",
    "- item\n",
    "\n",
    "\n",
    "1. item\n",
    "2. item\n",
    " 1. sub item\n",
    " 2. sub item\n",
    "3. item\n",
    "```"
   ]
  },
  {
   "cell_type": "markdown",
   "metadata": {},
   "source": [
    "**Ejemplo:**\n",
    "Lista de compras\n",
    "- Lácteos\n",
    "    - Leche\n",
    "    - Queso\n",
    "- Desayuno\n",
    "    - Pan\n",
    "    - Arepas\n",
    "    \n",
    "    \n",
    "    \n",
    "1. Lácteos\n",
    "    1. Leche\n",
    "    2. Queso\n",
    "2. Desayuno\n",
    "    1. Pan\n",
    "    2. Arepas"
   ]
  },
  {
   "cell_type": "markdown",
   "metadata": {},
   "source": [
    "## Links"
   ]
  },
  {
   "cell_type": "markdown",
   "metadata": {},
   "source": [
    "http://www.github.com/\n",
    "\n",
    "[Github](http://www.github.com/)"
   ]
  },
  {
   "cell_type": "markdown",
   "metadata": {},
   "source": [
    "**Código:**\n",
    "```\n",
    "http://www.github.com/\n",
    "\n",
    "[Github](http://www.github.com/)\n",
    "```"
   ]
  },
  {
   "cell_type": "markdown",
   "metadata": {},
   "source": [
    "## Imágenes"
   ]
  },
  {
   "cell_type": "markdown",
   "metadata": {},
   "source": [
    "![Turing's Device](http://www.google.com/logos/2012/turing-doodle-static.jpg \"Alan Turing's 100th Birthday\")"
   ]
  },
  {
   "cell_type": "markdown",
   "metadata": {},
   "source": [
    "**Código:**\n",
    "```markdown\n",
    "![Turing's Device](http://www.google.com/logos/2012/turing-doodle-static.jpg \"Alan Turing's 100th Birthday\")\n",
    "```"
   ]
  },
  {
   "cell_type": "markdown",
   "metadata": {},
   "source": [
    "O con HTML es posible usar una imagen local (debe estar en la misma carpeta del notebook)"
   ]
  },
  {
   "cell_type": "markdown",
   "metadata": {},
   "source": [
    "<img src=\"ident.jpg\">"
   ]
  },
  {
   "cell_type": "markdown",
   "metadata": {},
   "source": [
    "**Ejemplo:**\n",
    "```markdown\n",
    "<img src=\"ident.jpg\">\n",
    "```"
   ]
  },
  {
   "cell_type": "markdown",
   "metadata": {},
   "source": [
    "## Citas"
   ]
  },
  {
   "cell_type": "markdown",
   "metadata": {},
   "source": [
    "> Why, oh why, Javascript??? Wars, famine, planetary destruction... I guess as a species, we deserve this abomination...\n",
    ">\n",
    "> [Fernando Perez](https://twitter.com/fperez_org)"
   ]
  },
  {
   "cell_type": "markdown",
   "metadata": {},
   "source": [
    "**Código:**\n",
    "```\n",
    "> Why, oh why, Javascript??? Wars, famine, planetary destruction... I guess as a species, we deserve this abomination...\n",
    ">\n",
    "> [Fernando Perez](https://twitter.com/fperez_org)\n",
    "```"
   ]
  },
  {
   "cell_type": "markdown",
   "metadata": {},
   "source": [
    "## Línea Horizontal"
   ]
  },
  {
   "cell_type": "markdown",
   "metadata": {},
   "source": [
    "---"
   ]
  },
  {
   "cell_type": "markdown",
   "metadata": {},
   "source": [
    "**Código:**\n",
    "```markdown\n",
    "---\n",
    "```"
   ]
  },
  {
   "cell_type": "markdown",
   "metadata": {},
   "source": [
    "## Tablas"
   ]
  },
  {
   "cell_type": "markdown",
   "metadata": {},
   "source": [
    "| Tables        | Are           | Cool  |\n",
    "| ------------- |:-------------:| -----:|\n",
    "| col 3 is      | right-aligned |  1600 |\n",
    "| col 2 is      | centered      |    12 |\n",
    "| zebra stripes | are neat      |     1 |"
   ]
  },
  {
   "cell_type": "markdown",
   "metadata": {},
   "source": [
    "**Código:**\n",
    "\n",
    "```\n",
    "| Tables        | Are           | Cool  |\n",
    "| ------------- |:-------------:| -----:|\n",
    "| col 3 is      | right-aligned |  1600 |\n",
    "| col 2 is      | centered      |    12 |\n",
    "| zebra stripes | are neat      |     1 |\n",
    "```"
   ]
  },
  {
   "cell_type": "markdown",
   "metadata": {},
   "source": [
    "## HTML"
   ]
  },
  {
   "cell_type": "markdown",
   "metadata": {},
   "source": [
    "<b>You</b> can <i>render</i> almost any <span style=\"color:red;\">HTML</span> code you <u>like</u>."
   ]
  },
  {
   "cell_type": "markdown",
   "metadata": {},
   "source": [
    "**Código:**\n",
    "\n",
    "```\n",
    "<b>You</b> can <i>render</i> almost any <span style=\"color:red;\">HTML</span> code you <u>like</u>.\n",
    "```"
   ]
  },
  {
   "cell_type": "markdown",
   "metadata": {},
   "source": [
    "<u>Esto está subrayado</u>"
   ]
  },
  {
   "cell_type": "markdown",
   "metadata": {},
   "source": [
    "## Código"
   ]
  },
  {
   "cell_type": "markdown",
   "metadata": {},
   "source": [
    "You can add in line code like this `import numpy as np`\n",
    "\n",
    "Or block code:\n",
    "\n",
    "Python Code:\n",
    "```python\n",
    "x = 5\n",
    "print \"%.2f\" % x\n",
    "```\n",
    "\n",
    "Java Script Code:\n",
    "```javascript\n",
    "x = 5\n",
    "alert(x);\n",
    "```\n",
    "\n",
    "Markdown code:\n",
    "```markdown\n",
    "Para subrayar uso <u> texto aquí </u>\n",
    "```"
   ]
  },
  {
   "cell_type": "markdown",
   "metadata": {},
   "source": [
    "**Código:**\n",
    "\n",
    "```markdown\n",
    "You can add in line code like this `import numpy as np`\n",
    "```\n",
    "<pre>\n",
    "Python Code:\n",
    "```python\n",
    "x = 5\n",
    "print \"%.2f\" % x\n",
    "```\n",
    "\n",
    "Java Script Code:\n",
    "```javascript\n",
    "x = 5\n",
    "alert(x);\n",
    "```\n",
    "</pre>"
   ]
  },
  {
   "cell_type": "markdown",
   "metadata": {},
   "source": [
    "---"
   ]
  },
  {
   "cell_type": "markdown",
   "metadata": {},
   "source": [
    "# LaTeX\n",
    "\n",
    "**References:**\n",
    "\n",
    "- [LaTeX Wiki](http://en.wikibooks.org/wiki/LaTeX/Mathematics)\n",
    "- [Duke University, Department of  Statistical Science](https://stat.duke.edu/resources/computing/latex)\n",
    "- [Equation Sheet](http://www.equationsheet.com/)\n",
    "\n",
    "LaTeX is a large typeset system for scientific documentation which symbols for mathematics, statistics, physics, quantum mechanics, and computer science. It is beyond the scope of this tutorial to cover everything, but we will go over the basics of writing high quality mathematical equations using LaTeX.\n",
    "\n",
    "You can use LaTeX in line by like this $y = x^2$ or in block like this $$y = x^2$$\n",
    "\n",
    "**Code:**\n",
    "```markdown\n",
    "You can use LaTeX in line by like this $y = x^2$ or in block like this $$y = x^2$$\n",
    "```"
   ]
  },
  {
   "cell_type": "markdown",
   "metadata": {},
   "source": [
    "Lo siguente es código en latex: $y=\\frac{ax^2+b}{3}$\n",
    "\n",
    "Ahora una ecuación que ocupa una sola línea:\n",
    "$$ E = mc^2 $$"
   ]
  },
  {
   "cell_type": "markdown",
   "metadata": {},
   "source": [
    "## Operators:\n",
    "\n",
    "- Add:\n",
    " - $x + y$\n",
    "- Subtract:\n",
    " - $x - y$\n",
    "- Multiply\n",
    " - $x * y$\n",
    " - $x \\times y$ \n",
    " - $x . y$ \n",
    "- Divide\n",
    " - $x / y$\n",
    " - $x \\div y$\n",
    " - $\\frac{x}{y}$\n",
    "\n",
    "**Code:**\n",
    "```markdown\n",
    "- Add:\n",
    " - $x + y$\n",
    "- Subtract:\n",
    " - $x - y$\n",
    "- Multiply\n",
    " - $x * y$\n",
    " - $x \\times y$ \n",
    " - $x . y$ \n",
    "- Divide\n",
    " - $x / y$\n",
    " - $x \\div y$\n",
    " - $\\frac{x}{y}$\n",
    "```\n",
    "\n"
   ]
  },
  {
   "cell_type": "markdown",
   "metadata": {},
   "source": [
    "$5/4$"
   ]
  },
  {
   "cell_type": "markdown",
   "metadata": {},
   "source": [
    "$$ 5 \\div 4 $$"
   ]
  },
  {
   "cell_type": "markdown",
   "metadata": {},
   "source": [
    "$\\frac{5}{4}$"
   ]
  },
  {
   "cell_type": "markdown",
   "metadata": {},
   "source": [
    "## Relations\n",
    "\n",
    "- $\\pi \\approx 3.14159$\n",
    "- ${1 \\over 0} \\neq \\inf$\n",
    "- $0 < x > 1$\n",
    "- $0 \\leq x \\geq 1$\n",
    "\n",
    "**Code:**\n",
    "```\n",
    "- $\\pi \\approx 3.14159$\n",
    "- ${1 \\over 0} \\neq \\inf$\n",
    "- $0 < x > 1$\n",
    "- $0 \\leq x \\geq 1$\n",
    "```"
   ]
  },
  {
   "cell_type": "markdown",
   "metadata": {},
   "source": [
    "\n",
    "\n",
    "## Fractions\n",
    "\n",
    "- $^1/_2$\n",
    "- $\\frac{1}{2x}$\n",
    "- ${3 \\over 4}$\n",
    "\n",
    "\n",
    "**Code:**\n",
    "```\n",
    "- $^1/_2$\n",
    "- $\\frac{1}{2x}$\n",
    "- ${3 \\over 4}$\n",
    "```\n",
    "\n",
    "## Greek Alphabet\n",
    "\n",
    "| Small Letter          | Capical Letter       | Alervative                  |\n",
    "| --------------------- | -------------------- | --------------------------- |\n",
    "| $\\alpha$   `\\alpha`   | $A$ `A`              |                             |\n",
    "| $\\beta$   `\\beta`     | $B$ `B`              |                             |\n",
    "| $\\gamma$   `\\gamma`   | $\\Gamma$ `\\Gamma`    |                             |\n",
    "| $\\delta$   `\\delta`   | $\\Delta$ `\\Delta`    |                             |\n",
    "| $\\epsilon$ `\\epsilon` | $E$ `E`              | $\\varepsilon$ `\\varepsilon` |\n",
    "| $\\zeta$   `\\zeta`     | $Z$ `Z`              |                             |\n",
    "| $\\eta$   `\\eta`       | $H$ `H`              |                             |\n",
    "| $\\theta$ `\\theta`     | $\\Theta$ `\\Theta`    | $\\vartheta$ `\\vartheta`     |\n",
    "| $\\iota$   `\\zeta`     | $I$ `I`              |                             |\n",
    "| $\\kappa$ `\\kappa`     | $K$ `K`              | $\\varkappa$ `\\varkappa`     |\n",
    "| $\\lambda$   `\\lambda` | $\\Lambda$ `\\Lambda`  |                             |\n",
    "| $\\mu$   `\\mu`         | $M$ `M`              |                             |\n",
    "| $\\nu$   `\\nu`         | $N$ `N`              |                             |\n",
    "| $\\xi$   `\\xi`         | $Xi$ `\\Xi`           |                             |\n",
    "| $\\omicron$ `\\omicron` | $O$ `O`              |                             |\n",
    "| $\\pi$ `\\pi`           | $\\Pi$ `\\Pi`          | $\\varpi$ `\\varpi`           |\n",
    "| $\\rho$ `\\rho`         | $P$ `P`              | $\\varrho$ `\\varrho`         |\n",
    "| $\\sigma$ `\\sigma`     | $\\Sigma$ `\\Sigma`    | $\\varsigma$ `\\varsigma`     |\n",
    "| $\\tau$   `\\tau`       | $T$ `T`              |                             |\n",
    "| $\\upsilon$ `\\upsilon` | $\\Upsilon$ `\\Upsilon`|                             |\n",
    "| $\\phi$ `\\phi`         | $\\Phi$ `\\Phi`        | $\\varphi$ `\\varphi`         |\n",
    "| $\\chi$   `\\chi`       | $X$ `X`              |                             |\n",
    "| $\\psi$ `\\psi`         | $\\Psi$ `\\Psi`        |                             |\n",
    "| $\\omega$   `\\omega`   | $\\Omega$ `\\Omega`    |                             |\n",
    "\n",
    "## Power & Index\n",
    "\n",
    "You can add power using the carrot `^` symbol. If you have more than one character you have to enclose them in a curly brackets.\n",
    "\n",
    " $$f(x) = x^2 - x^{1 \\over \\pi}$$\n",
    "\n",
    "For index you can use the underscore symbol:\n",
    "\n",
    "$$f(X,n) = X_n + X_{n-1}$$\n",
    "\n",
    "**Code:**\n",
    "```markdown\n",
    "$$f(x) = x^2 - x^{1 \\over \\pi}$$\n",
    "$$f(X,n) = X_n + X_{n-1}$$\n",
    "\n",
    "```\n",
    "\n",
    "## Roots & Log\n",
    "\n",
    "You can express a square root in LaTeX using the `\\sqrt` and to change the level of the root you can use `\\sqrt[n]` where `n` is the level of the root.\n",
    "\n",
    "$$f(x) = \\sqrt[3]{2x} + \\sqrt{x-2}$$\n",
    "\n",
    "To represent a log use `\\log[base]` where `base` is the base of the logarithmic term.\n",
    "\n",
    "$$\\log[x] x = 1$$\n",
    "\n",
    "**Code:**\n",
    "```markdown\n",
    "$$f(x) = \\sqrt[3]{2x} + \\sqrt{x-2}$$\n",
    "```\n",
    "\n",
    "## Sums & Products\n",
    "\n",
    "You can represent a sum with a sigma using `\\sum\\limits_{a}^{b}` where a and b are the lower and higher limits of the sum.\n",
    "\n",
    "$$\\sum\\limits_{x=1}^{\\infty} {1 \\over x} = 2$$\n",
    "\n",
    "Also you can represent a product with `\\prod\\limits_{a}^{a}` where a and b are the lower and higher limits.\n",
    "\n",
    "$$\\prod\\limits_{i=1}^{n} x_i - 1$$\n",
    "\n",
    "**Code:**\n",
    "```\n",
    "$$\\sum\\limits_{x=1}^{\\infty} {1 \\over x} = 2$$\n",
    "$$\\prod\\limits_{i=1}^{n} x_i - 1$$\n",
    "```\n",
    "\n",
    "## Statistics\n",
    "\n",
    "To represent basic concepts in statistics about sample space `S`, you can represent a maximum:\n",
    "\n",
    "$$max(S) = \\max\\limits_{i: S_i \\in S} S_i$$\n",
    "\n",
    "In the same way you can get the minimum:\n",
    "\n",
    "$$min(S) = \\min\\limits_{i: S_i \\in S} S_i$$\n",
    "\n",
    "To represent a [binomial coefficient](http://en.wikipedia.org/wiki/Binomial_coefficient) with n choose k, use the following:\n",
    "\n",
    "$$\\frac{n!}{k!(n-k)!} = {n \\choose k}$$\n",
    "\n",
    "for :\n",
    "\n",
    "**Code:**\n",
    "```\n",
    "$$max(S) = \\max\\limits_{i: x_i \\in \\{S\\}} x_i$$\n",
    "$$min (S) = \\min\\limits_{i: x_i \\in \\{S\\}} x_i$$\n",
    "$$\\frac{n!}{k!(n-k)!} = {n \\choose k}$$\n",
    "```\n",
    "\n",
    "## Calculus\n",
    "\n",
    "Limits are represented using `\\lim\\limits_{x \\to a}` as `x` approaches `a`.\n",
    "\n",
    "$$\\lim\\limits_{x \\to 0^+} {1 \\over 0} = \\infty$$\n",
    "\n",
    "For integral equations use `\\int\\limits_{a}^{b}` where `a` and `b` are the lower and higher limits.\n",
    "\n",
    "$$\\int\\limits_a^b 2x \\, dx$$\n",
    "\n",
    "\n",
    "**Code:**\n",
    "```markdown\n",
    "$$\\lim\\limits_{x \\to 0^+} {1 \\over 0} = \\inf$$\n",
    "$$\\int\\limits_a^b 2x \\, dx$$\n",
    "```\n",
    "\n",
    "## Function definition over periods\n",
    "\n",
    "Defining a function that is calculated differently over a number of period can done using LaTeX. There are a few tricks that we will use to do that:\n",
    "\n",
    "- The large curly bracket `\\left\\{ ... \\right.` Notice it you want to use `(` or `[` you don't have to add a back slash(`\\`). You can also place a right side matching bracket by replacing the `.` after `\\right` like this `.right}`\n",
    "- Array to hold the definitions in place. it has two columns with left alignment. `\\begin{array}{ll} ... \\end{array}`\n",
    "- Line Breaker `\\\\`\n",
    "- Text alignment box ` \\mbox{Text}`\n",
    "\n",
    "$f(x) =\\left\\{\\begin{array}{ll}0  & \\mbox{if } x = 0 \\\\{1 \\over x} & \\mbox{if } x \\neq 0\\end{array}\\right.$\n",
    "\n",
    "**Code:**\n",
    "```\n",
    "$f(x) =\n",
    "\\left\\{\n",
    "\t\\begin{array}{ll}\n",
    "\t\t0  & \\mbox{if } x = 0 \\\\\n",
    "\t\t{1 \\over x} & \\mbox{if } x \\neq 0\n",
    "\t\\end{array}\n",
    "\\right.$\n",
    "```\n",
    "\n",
    "**Note:** If you are planning to show your notebook in NBViewer write your latex code in one line. For example you can write the code above like this:\n",
    "\n",
    "```\n",
    "$f(x) =\\left\\{\\begin{array}{ll}0  & \\mbox{if } x = 0 \\\\{1 \\over x} & \\mbox{if } x \\neq 0\\end{array}\\right.$\n",
    "```\n",
    "\n"
   ]
  },
  {
   "cell_type": "markdown",
   "metadata": {},
   "source": [
    "---"
   ]
  },
  {
   "cell_type": "markdown",
   "metadata": {},
   "source": [
    "# ¡Tarea!\n",
    "\n",
    "Replique la fórmula de la [Distribución Normal](http://en.wikipedia.org/wiki/Normal_distribution) usando LaTeX.\n",
    "\n",
    "<img src=\"normal.png\">\n",
    "\n",
    "Ayuda:\n",
    "\n",
    "- $\\mu$ is `\\mu`\n",
    "- $\\sigma$ is `\\sigma`\n",
    "- $e$ is `e`"
   ]
  },
  {
   "cell_type": "markdown",
   "metadata": {},
   "source": [
    "---"
   ]
  },
  {
   "cell_type": "markdown",
   "metadata": {},
   "source": [
    "# Python"
   ]
  },
  {
   "cell_type": "markdown",
   "metadata": {},
   "source": [
    "### Namespaces and Modules"
   ]
  },
  {
   "cell_type": "markdown",
   "metadata": {},
   "source": [
    "An __object__ may be thought of as a region of computer memory containing both some data and information associated with those data. For a simple object, this information consists of its _type_, and its _identity_, i.e., the location in memory, which is of course machine-dependent. The identity is therefore of no interest for most users. They need a machine-independent method for accessing objects. This is provided by an _identifier_, a label which can be attached to objects."
   ]
  },
  {
   "cell_type": "markdown",
   "metadata": {},
   "source": [
    "<img src=\"ident.jpg\">"
   ]
  },
  {
   "cell_type": "markdown",
   "metadata": {},
   "source": [
    "Mientras Python corre, el mantiene una lista de los identificadores que han sido asignados a los objetos. Esta lista se llama un *namespace*, y como un objeto de Python también tiene un identificador. Por ejemplo, cuando se trabaja en el interprete, el *namespace* se llama `__main__`."
   ]
  },
  {
   "cell_type": "code",
   "execution_count": 7,
   "metadata": {
    "collapsed": false
   },
   "outputs": [
    {
     "name": "stdout",
     "output_type": "stream",
     "text": [
      "__main__\n"
     ]
    }
   ],
   "source": [
    "print __name__"
   ]
  },
  {
   "cell_type": "markdown",
   "metadata": {},
   "source": [
    "Podemos importar el **módulo** `fibonacci`"
   ]
  },
  {
   "cell_type": "code",
   "execution_count": 8,
   "metadata": {
    "collapsed": true
   },
   "outputs": [],
   "source": [
    "import fibonacci"
   ]
  },
  {
   "cell_type": "markdown",
   "metadata": {},
   "source": [
    "El comando `import` hace el *namespace* del módulo disponible como `fibonacci`. Los comandos en este quedan ahora disponibles con los identificadores `fibonacci.fib`, etc."
   ]
  },
  {
   "cell_type": "code",
   "execution_count": 2,
   "metadata": {
    "collapsed": false
   },
   "outputs": [
    {
     "data": {
      "text/plain": [
       "55"
      ]
     },
     "execution_count": 2,
     "metadata": {},
     "output_type": "execute_result"
    }
   ],
   "source": [
    "fibonacci.fib(10)"
   ]
  },
  {
   "cell_type": "code",
   "execution_count": 3,
   "metadata": {
    "collapsed": false
   },
   "outputs": [
    {
     "data": {
      "text/plain": [
       "5"
      ]
     },
     "execution_count": 3,
     "metadata": {},
     "output_type": "execute_result"
    }
   ],
   "source": [
    "fibonacci.const1"
   ]
  },
  {
   "cell_type": "code",
   "execution_count": 4,
   "metadata": {
    "collapsed": false
   },
   "outputs": [
    {
     "data": {
      "text/plain": [
       "24"
      ]
     },
     "execution_count": 4,
     "metadata": {},
     "output_type": "execute_result"
    }
   ],
   "source": [
    "fibonacci.const2"
   ]
  },
  {
   "cell_type": "code",
   "execution_count": 9,
   "metadata": {
    "collapsed": false
   },
   "outputs": [],
   "source": [
    "fibonacci.namespace?"
   ]
  },
  {
   "cell_type": "code",
   "execution_count": 10,
   "metadata": {
    "collapsed": false
   },
   "outputs": [
    {
     "name": "stdout",
     "output_type": "stream",
     "text": [
      "fibonacci\n"
     ]
    }
   ],
   "source": [
    "fibonacci.namespace()"
   ]
  },
  {
   "cell_type": "markdown",
   "metadata": {},
   "source": [
    "Si los identificadores de los objetos en un módulo no se sobreponen con los del actual namespace entonces se pueden importar como"
   ]
  },
  {
   "cell_type": "code",
   "execution_count": 11,
   "metadata": {
    "collapsed": false
   },
   "outputs": [],
   "source": [
    "from fibonacci import const1, fib"
   ]
  },
  {
   "cell_type": "code",
   "execution_count": 11,
   "metadata": {
    "collapsed": false
   },
   "outputs": [
    {
     "data": {
      "text/plain": [
       "5"
      ]
     },
     "execution_count": 11,
     "metadata": {},
     "output_type": "execute_result"
    }
   ],
   "source": [
    "const1"
   ]
  },
  {
   "cell_type": "code",
   "execution_count": 12,
   "metadata": {
    "collapsed": false
   },
   "outputs": [],
   "source": [
    "fib?"
   ]
  },
  {
   "cell_type": "code",
   "execution_count": 14,
   "metadata": {
    "collapsed": false
   },
   "outputs": [
    {
     "data": {
      "text/plain": [
       "55"
      ]
     },
     "execution_count": 14,
     "metadata": {},
     "output_type": "execute_result"
    }
   ],
   "source": [
    "fib(10)"
   ]
  },
  {
   "cell_type": "code",
   "execution_count": 13,
   "metadata": {
    "collapsed": false
   },
   "outputs": [
    {
     "ename": "NameError",
     "evalue": "name 'const2' is not defined",
     "output_type": "error",
     "traceback": [
      "\u001b[0;31m---------------------------------------------------------------------------\u001b[0m",
      "\u001b[0;31mNameError\u001b[0m                                 Traceback (most recent call last)",
      "\u001b[0;32m<ipython-input-13-b6cd8fdccf3f>\u001b[0m in \u001b[0;36m<module>\u001b[0;34m()\u001b[0m\n\u001b[0;32m----> 1\u001b[0;31m \u001b[0mconst2\u001b[0m\u001b[0;34m\u001b[0m\u001b[0m\n\u001b[0m",
      "\u001b[0;31mNameError\u001b[0m: name 'const2' is not defined"
     ]
    }
   ],
   "source": [
    "const2"
   ]
  },
  {
   "cell_type": "markdown",
   "metadata": {},
   "source": [
    "Para importar todos los objetos en un módulo:"
   ]
  },
  {
   "cell_type": "code",
   "execution_count": 14,
   "metadata": {
    "collapsed": true
   },
   "outputs": [],
   "source": [
    "from fibonacci import *"
   ]
  },
  {
   "cell_type": "code",
   "execution_count": 15,
   "metadata": {
    "collapsed": false
   },
   "outputs": [
    {
     "data": {
      "text/plain": [
       "24"
      ]
     },
     "execution_count": 15,
     "metadata": {},
     "output_type": "execute_result"
    }
   ],
   "source": [
    "const2"
   ]
  },
  {
   "cell_type": "code",
   "execution_count": 16,
   "metadata": {
    "collapsed": false
   },
   "outputs": [
    {
     "name": "stdout",
     "output_type": "stream",
     "text": [
      "fibonacci\n"
     ]
    }
   ],
   "source": [
    "namespace()"
   ]
  },
  {
   "cell_type": "markdown",
   "metadata": {},
   "source": [
    "##### Un pequeño ejemplo"
   ]
  },
  {
   "cell_type": "code",
   "execution_count": 17,
   "metadata": {
    "collapsed": true
   },
   "outputs": [],
   "source": [
    "from math import sin"
   ]
  },
  {
   "cell_type": "code",
   "execution_count": 18,
   "metadata": {
    "collapsed": false
   },
   "outputs": [
    {
     "data": {
      "text/plain": [
       "0.0"
      ]
     },
     "execution_count": 18,
     "metadata": {},
     "output_type": "execute_result"
    }
   ],
   "source": [
    "sin(0)"
   ]
  },
  {
   "cell_type": "code",
   "execution_count": 19,
   "metadata": {
    "collapsed": false
   },
   "outputs": [],
   "source": [
    "sin?"
   ]
  },
  {
   "cell_type": "code",
   "execution_count": 20,
   "metadata": {
    "collapsed": false
   },
   "outputs": [],
   "source": [
    "from numpy import sin"
   ]
  },
  {
   "cell_type": "code",
   "execution_count": 21,
   "metadata": {
    "collapsed": false
   },
   "outputs": [
    {
     "data": {
      "text/plain": [
       "0.0"
      ]
     },
     "execution_count": 21,
     "metadata": {},
     "output_type": "execute_result"
    }
   ],
   "source": [
    "sin(0)"
   ]
  },
  {
   "cell_type": "code",
   "execution_count": 22,
   "metadata": {
    "collapsed": false
   },
   "outputs": [],
   "source": [
    "sin?"
   ]
  },
  {
   "cell_type": "markdown",
   "metadata": {},
   "source": [
    "##### ¿Qué hace entonces la sentencia `if __name__ == \"__main__\":`?"
   ]
  },
  {
   "cell_type": "markdown",
   "metadata": {},
   "source": [
    "Podemos asegurarnos de estar en el namespace correcto haciendo uso de una sententicia `if`. Dentro de se encuentran los comandos principales a ejecutar por el script cuando es ejecutado desde el intérprete."
   ]
  },
  {
   "cell_type": "markdown",
   "metadata": {},
   "source": [
    "Por ejemplo, en el script `Fibonancci.py`:\n",
    "\n",
    "```python\n",
    "# File: fib.py Fibonacci numbers\n",
    "\"\"\" Module fib: Fibonacci numbers.\n",
    "   Contains one function fib(n).\n",
    "\"\"\"\n",
    "def fib(n):\n",
    "    \"\"\" Returns n'th Fibonacci number. \"\"\" \n",
    "    a,b=0,1\n",
    "    for i in range(n):\n",
    "        a,b=b,a+b \n",
    "    return a\n",
    "#################################################### \n",
    "if __name__ == \"__main__\":\n",
    "    for i in range(10):\n",
    "        print \"fib(\",i,\") = \",fib(i)\n",
    "```"
   ]
  },
  {
   "cell_type": "markdown",
   "metadata": {},
   "source": [
    "---"
   ]
  },
  {
   "cell_type": "markdown",
   "metadata": {},
   "source": [
    "## Contenedores o arrays"
   ]
  },
  {
   "cell_type": "markdown",
   "metadata": {},
   "source": [
    "Python define los contenedores:\n",
    "    - Lista\n",
    "    - Tuplas\n",
    "    - Strings\n",
    "    - Diccionarios"
   ]
  },
  {
   "cell_type": "markdown",
   "metadata": {},
   "source": [
    "### Listas"
   ]
  },
  {
   "cell_type": "markdown",
   "metadata": {},
   "source": [
    "Ejecute y observe los resultados del siguiente código\n",
    "```python\n",
    "u=[1,4.0,'a']\n",
    "v=[3.14,2.78,u,3]\n",
    "v\n",
    "len(v)\n",
    "len?\n",
    "v*2\n",
    "v+u\n",
    "v.append('hola')\n",
    "type(v)\n",
    "```"
   ]
  },
  {
   "cell_type": "code",
   "execution_count": 56,
   "metadata": {
    "collapsed": false
   },
   "outputs": [],
   "source": [
    "u=[1,4.0,'a']"
   ]
  },
  {
   "cell_type": "code",
   "execution_count": 58,
   "metadata": {
    "collapsed": true
   },
   "outputs": [],
   "source": [
    "v=[3.14,2.78,u,3]"
   ]
  },
  {
   "cell_type": "code",
   "execution_count": 59,
   "metadata": {
    "collapsed": false
   },
   "outputs": [
    {
     "data": {
      "text/plain": [
       "[3.14, 2.78, [1, 4.0, 'a'], 3]"
      ]
     },
     "execution_count": 59,
     "metadata": {},
     "output_type": "execute_result"
    }
   ],
   "source": [
    "v"
   ]
  },
  {
   "cell_type": "code",
   "execution_count": 60,
   "metadata": {
    "collapsed": false
   },
   "outputs": [
    {
     "data": {
      "text/plain": [
       "4"
      ]
     },
     "execution_count": 60,
     "metadata": {},
     "output_type": "execute_result"
    }
   ],
   "source": [
    "len(v)"
   ]
  },
  {
   "cell_type": "code",
   "execution_count": 61,
   "metadata": {
    "collapsed": true
   },
   "outputs": [],
   "source": [
    "len?"
   ]
  },
  {
   "cell_type": "code",
   "execution_count": 62,
   "metadata": {
    "collapsed": false
   },
   "outputs": [
    {
     "data": {
      "text/plain": [
       "[3.14, 2.78, [1, 4.0, 'a'], 3, 3.14, 2.78, [1, 4.0, 'a'], 3]"
      ]
     },
     "execution_count": 62,
     "metadata": {},
     "output_type": "execute_result"
    }
   ],
   "source": [
    "v*2"
   ]
  },
  {
   "cell_type": "code",
   "execution_count": 63,
   "metadata": {
    "collapsed": false
   },
   "outputs": [
    {
     "data": {
      "text/plain": [
       "[3.14, 2.78, [1, 4.0, 'a'], 3, 1, 4.0, 'a']"
      ]
     },
     "execution_count": 63,
     "metadata": {},
     "output_type": "execute_result"
    }
   ],
   "source": [
    "v+u"
   ]
  },
  {
   "cell_type": "code",
   "execution_count": 64,
   "metadata": {
    "collapsed": true
   },
   "outputs": [],
   "source": [
    "v.append('hola')"
   ]
  },
  {
   "cell_type": "code",
   "execution_count": 65,
   "metadata": {
    "collapsed": false
   },
   "outputs": [
    {
     "data": {
      "text/plain": [
       "[3.14, 2.78, [1, 4.0, 'a'], 3, 'hola']"
      ]
     },
     "execution_count": 65,
     "metadata": {},
     "output_type": "execute_result"
    }
   ],
   "source": [
    "v"
   ]
  },
  {
   "cell_type": "code",
   "execution_count": 66,
   "metadata": {
    "collapsed": false
   },
   "outputs": [
    {
     "data": {
      "text/plain": [
       "list"
      ]
     },
     "execution_count": 66,
     "metadata": {},
     "output_type": "execute_result"
    }
   ],
   "source": [
    "type(v)"
   ]
  },
  {
   "cell_type": "markdown",
   "metadata": {},
   "source": [
    "Y ahora qué tal si usamos `v.<TAB>`\n",
    "\n",
    "Utilice `?` y explore qué hace cada una de las funciones disponibles para una lista."
   ]
  }
 ],
 "metadata": {
  "kernelspec": {
   "display_name": "Python 2",
   "language": "python",
   "name": "python2"
  },
  "language_info": {
   "codemirror_mode": {
    "name": "ipython",
    "version": 2
   },
   "file_extension": ".py",
   "mimetype": "text/x-python",
   "name": "python",
   "nbconvert_exporter": "python",
   "pygments_lexer": "ipython2",
   "version": "2.7.11"
  }
 },
 "nbformat": 4,
 "nbformat_minor": 0
}
