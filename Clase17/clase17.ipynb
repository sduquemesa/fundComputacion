{
 "cells": [
  {
   "cell_type": "markdown",
   "metadata": {},
   "source": [
    "# Clase 17\n",
    "\n",
    "<img src=\"giphy.gif\">\n",
    "\n",
    "## ¿Funciones que se llaman a sí mismas?: Recusividad\n",
    "\n",
    "### El factorial de un número\n",
    "\n",
    "Sabemos que el factorial de un número $n$ es $n!=n(n-1)(n-2)\\dots3\\,2\\,1$. Sin embargo, podemos definir también el factorial de un número como\n",
    "\n",
    "$$ n!= \\begin{cases} \n",
    "      1 & \\mathrm{si}\\; n=0\\; \\mathrm{ o }\\; n=1 \\\\\n",
    "      n\\cdot(n-1)! & \\mathrm{si}\\; n>1\n",
    "   \\end{cases}$$\n",
    "   \n",
    "en la cual definimos el factorial de un número en términos de sí mismo."
   ]
  },
  {
   "cell_type": "code",
   "execution_count": 2,
   "metadata": {
    "collapsed": false
   },
   "outputs": [
    {
     "name": "stdout",
     "output_type": "stream",
     "text": [
      "120\n"
     ]
    }
   ],
   "source": [
    "def factorial(n):\n",
    "    if n == 0 or n == 1:\n",
    "        resultado = 1\n",
    "    elif n>1:\n",
    "        resultado = n*factorial(n-1)      # ¡en esta linea se implementa la recursividad!\n",
    "    \n",
    "    return resultado\n",
    "\n",
    "print factorial(5)"
   ]
  },
  {
   "cell_type": "markdown",
   "metadata": {},
   "source": [
    "¿Cómo funciona?\n",
    "\n",
    "<img src=\"comic.png\"  style=\"float: left; margin-right: 5px;width:700px;height:700px;\">\n",
    "<img src=\"arbolFactorial.png\"  style=\"float: left; margin-right: 5px;width:200px;height:400px;\">"
   ]
  },
  {
   "cell_type": "markdown",
   "metadata": {},
   "source": [
    "Cualquier algoritmo recursivo se puede escribir como uno iterativo"
   ]
  },
  {
   "cell_type": "code",
   "execution_count": 3,
   "metadata": {
    "collapsed": false
   },
   "outputs": [
    {
     "name": "stdout",
     "output_type": "stream",
     "text": [
      "120\n"
     ]
    }
   ],
   "source": [
    "def factorial_iterativo(n):\n",
    "    resultado = 1\n",
    "    while n>0:\n",
    "        resultado *= n\n",
    "        n -= 1\n",
    "        \n",
    "    return resultado\n",
    "\n",
    "print factorial(5)"
   ]
  },
  {
   "cell_type": "markdown",
   "metadata": {},
   "source": [
    "o de igual manera"
   ]
  },
  {
   "cell_type": "code",
   "execution_count": 4,
   "metadata": {
    "collapsed": false
   },
   "outputs": [
    {
     "name": "stdout",
     "output_type": "stream",
     "text": [
      "120\n"
     ]
    }
   ],
   "source": [
    "def factorial_iterativo(n):\n",
    "    resultado = 1\n",
    "    for i in xrange(1,n+1):\n",
    "        resultado *= i\n",
    "        \n",
    "    return resultado\n",
    "\n",
    "print factorial(5)"
   ]
  },
  {
   "cell_type": "markdown",
   "metadata": {},
   "source": [
    "Lo anterior muestra que, en caso de no cumplirse las condiciones, puede llegarse a un bucle infinitos en las llamadas iterativas causando un fallo llamado *desbordamiento de pila (stack overflow)*."
   ]
  },
  {
   "cell_type": "markdown",
   "metadata": {},
   "source": [
    "---\n",
    "### Ejercicio\n",
    "Se puede definir la suma de los primeros $n$ números naturales como\n",
    "\n",
    "$$ \\sum_{i=1}^n i= \\begin{cases} \n",
    "      1 & \\mathrm{si}\\; n=1,\\\\\n",
    "      n+\\sum_{i=1}^{n-1}i & \\mathrm{si}\\; n>1.\n",
    "   \\end{cases}$$\n",
    "   \n",
    "Diseñe una función recursiva que calcular el sumatorio de los $n$ primeros números."
   ]
  },
  {
   "cell_type": "code",
   "execution_count": 5,
   "metadata": {
    "collapsed": false,
    "slideshow": {
     "slide_type": "slide"
    }
   },
   "outputs": [
    {
     "name": "stdout",
     "output_type": "stream",
     "text": [
      "55\n"
     ]
    }
   ],
   "source": [
    "def suma(n):\n",
    "    if n == 1:\n",
    "        resultado = 1\n",
    "    elif n>1:\n",
    "        resultado = n + suma(n-1)\n",
    "    \n",
    "    return resultado\n",
    "\n",
    "print suma(10)"
   ]
  },
  {
   "cell_type": "markdown",
   "metadata": {},
   "source": [
    "---"
   ]
  },
  {
   "cell_type": "markdown",
   "metadata": {},
   "source": [
    "### Fibonacci otra vez\n",
    "\n",
    "La ya conocida secuencia de Fibonacci también puede escribirse como una función recursiva. Ella se encuentra definida, de manera recursiva, como\n",
    "\n",
    "$$ n!= \\begin{cases} \n",
    "      1 & \\mathrm{si}\\; n=1\\; \\mathrm{ o }\\; n=2 \\\\\n",
    "      F_{n-1}+F_{n-2} & \\mathrm{si}\\; n>2\n",
    "   \\end{cases}$$"
   ]
  },
  {
   "cell_type": "code",
   "execution_count": 6,
   "metadata": {
    "collapsed": false
   },
   "outputs": [
    {
     "name": "stdout",
     "output_type": "stream",
     "text": [
      "3\n"
     ]
    }
   ],
   "source": [
    "def fibonacci(n):\n",
    "    if n==1 or n==2:\n",
    "        resultado = 1\n",
    "    elif n>2:\n",
    "        resultado = fibonacci(n-1)+fibonacci(n-2)\n",
    "    \n",
    "    return resultado\n",
    "\n",
    "print fibonacci(4)"
   ]
  },
  {
   "cell_type": "markdown",
   "metadata": {},
   "source": [
    "El arbol de recusión será"
   ]
  },
  {
   "cell_type": "code",
   "execution_count": 20,
   "metadata": {
    "collapsed": false
   },
   "outputs": [
    {
     "name": "stdout",
     "output_type": "stream",
     "text": [
      "Empieza el cálculo de Fib(4)\t\n",
      "Empieza el cálculo de Fib(3)\t\n",
      "Empieza el cálculo de Fib(2)\t\n",
      "Finaliza el cálculo de Fib(2)\t que retona 1\n",
      "Empieza el cálculo de Fib(1)\t\n",
      "Finaliza el cálculo de Fib(1)\t que retona 1\n",
      "Finaliza el cálculo de Fib(3)\t que retona 2\n",
      "Empieza el cálculo de Fib(2)\t\n",
      "Finaliza el cálculo de Fib(2)\t que retona 1\n",
      "Finaliza el cálculo de Fib(4)\t que retona 3\n",
      "3\n"
     ]
    }
   ],
   "source": [
    "def fibonacci(n):\n",
    "    print 'Empieza el cálculo de Fib(%d)\\t' %n\n",
    "    if n==1 or n==2:\n",
    "        resultado = 1\n",
    "    elif n>2:\n",
    "        resultado = fibonacci(n-1)+fibonacci(n-2)\n",
    "    \n",
    "    print 'Finaliza el cálculo de Fib(%d)\\t que retona %d' %(n,resultado)\n",
    "    return resultado\n",
    "\n",
    "print fibonacci(4)"
   ]
  },
  {
   "cell_type": "markdown",
   "metadata": {},
   "source": [
    "<img src=\"arbolFibonacci.png\"  style=\"width:500px;height:304px;\">"
   ]
  },
  {
   "cell_type": "markdown",
   "metadata": {},
   "source": [
    "De igual manera los números de Fibonacci se pueden calcular iterativamente"
   ]
  },
  {
   "cell_type": "code",
   "execution_count": 8,
   "metadata": {
    "collapsed": false
   },
   "outputs": [
    {
     "data": {
      "text/plain": [
       "3"
      ]
     },
     "execution_count": 8,
     "metadata": {},
     "output_type": "execute_result"
    }
   ],
   "source": [
    "def fibonacci_iterativo(n):\n",
    "    a,b=0,1\n",
    "    for i in xrange(n):\n",
    "        a,b = b,a+b\n",
    " \n",
    "    return a\n",
    "\n",
    "fibonacci_iterativo(4)"
   ]
  },
  {
   "cell_type": "markdown",
   "metadata": {},
   "source": [
    "---\n",
    "### Ejercicio\n",
    "\n",
    "Existen 10 formas de escoger 3 elementos de un conjunto de 5\n",
    "\n",
    "<img src=\"5C3.png\">\n",
    "\n",
    "En general, al número de formas de escoger $m$ elementos de un conjunto de $n$ se le llama *coeficiente binomial* o *combinaciones de $m$ en $n$*.\n",
    "Pascal descubrió que estos coeficientes binomiales se pueden calcular de forma recusiva sabiendo que, para $n \\geq m$\n",
    "\n",
    "$$C(n,m)=C(n-1,m)+C(n-1,m-1)$$\n",
    "\n",
    "dado que $C(n,n)=C(n,0)=1$.\n",
    "\n",
    "Diseñe un programa que, a partir de un valor $n$ leído de teclado, muestre $C(n,m)$ para $m$ entre $0$ y $n$. Compare si $C(5,3)=10$."
   ]
  },
  {
   "cell_type": "markdown",
   "metadata": {},
   "source": [
    "### ¿Programas eficientes o algoritmos eficientes?\n",
    "\n",
    "Si todo algoritmo recursivo se puede escribir como uno iterativo, ¿para qué hacer recursión?.\n",
    "\n",
    "Para responder a la pregunta anterior miremos los tiempos de ejecución de los algoritmos antes creados:"
   ]
  },
  {
   "cell_type": "code",
   "execution_count": 13,
   "metadata": {
    "collapsed": false
   },
   "outputs": [
    {
     "name": "stdout",
     "output_type": "stream",
     "text": [
      "El tiempo que tardó fibonacci recursivo fue:\t0.000113964080811 segs\n",
      "El tiempo que tardó fibonacci iterativo fue:\t0.000113964080811 segs\n"
     ]
    }
   ],
   "source": [
    "from time import time #importamos la función time para capturar tiempos\n",
    "\n",
    "n=5\n",
    "\n",
    "def fibonacci(n):\n",
    "    if n==1 or n==2:\n",
    "        resultado = 1\n",
    "    elif n>2:\n",
    "        resultado = fibonacci(n-1)+fibonacci(n-2)\n",
    "    \n",
    "    return resultado\n",
    "\n",
    "def fibonacci_iterativo(n):\n",
    "    a,b=0,1\n",
    "    for i in xrange(n):\n",
    "        a,b = b,a+b\n",
    " \n",
    "    return a\n",
    "\n",
    "t0 = time()\n",
    "fibonacci(n)\n",
    "tf = time()\n",
    "print 'El tiempo que tardó fibonacci recursivo fue:\\t', tf-t0, 'segs'\n",
    "\n",
    "t0 = time()\n",
    "fibonacci_iterativo(n)\n",
    "tf = time()\n",
    "print 'El tiempo que tardó fibonacci iterativo fue:\\t', tf-t0, 'segs'"
   ]
  },
  {
   "cell_type": "markdown",
   "metadata": {},
   "source": [
    "## Funciones anónimas\n",
    "\n",
    "Una función anónima es aquella para la cual el nombre de la función es completamente irrelevante. Para estos casos definimos las funciones anónimas, llamadas en python funciones `lambda`."
   ]
  },
  {
   "cell_type": "code",
   "execution_count": 37,
   "metadata": {
    "collapsed": false
   },
   "outputs": [
    {
     "name": "stdout",
     "output_type": "stream",
     "text": [
      "11\n"
     ]
    }
   ],
   "source": [
    "f = lambda x,y: x+y\n",
    "\n",
    "print f(5,6)"
   ]
  },
  {
   "cell_type": "code",
   "execution_count": 19,
   "metadata": {
    "collapsed": false
   },
   "outputs": [
    {
     "name": "stdout",
     "output_type": "stream",
     "text": [
      "12\n"
     ]
    }
   ],
   "source": [
    "g = lambda a,b,c,x: a*x**2+b*x+c\n",
    "\n",
    "print g(5,3,4,1)"
   ]
  }
 ],
 "metadata": {
  "kernelspec": {
   "display_name": "Python 2",
   "language": "python",
   "name": "python2"
  },
  "language_info": {
   "codemirror_mode": {
    "name": "ipython",
    "version": 2
   },
   "file_extension": ".py",
   "mimetype": "text/x-python",
   "name": "python",
   "nbconvert_exporter": "python",
   "pygments_lexer": "ipython2",
   "version": "2.7.11"
  }
 },
 "nbformat": 4,
 "nbformat_minor": 0
}
