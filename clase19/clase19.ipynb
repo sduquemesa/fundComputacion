{
 "cells": [
  {
   "cell_type": "markdown",
   "metadata": {},
   "source": [
    "# Clase 19\n",
    "\n",
    "## Listas de listas: Matrices\n",
    "\n",
    "Las matrices son disposiciones bidimensionales de valores. En notación matemática, una matriz se denota encerrando entre paréntesis los valores, que se disponen en filas y columnas.\n",
    "\n",
    "$$\n",
    "M = \n",
    " \\begin{pmatrix}\n",
    "  1 & 2 & 3 \\\\\n",
    "  2 & 12 & 6 \\\\\n",
    "  1 & 0 & -3 \\\\\n",
    "  0 & -1 & 0 \n",
    " \\end{pmatrix}.\n",
    "$$\n",
    "\n",
    "Esta matriz tiene 4 filas y 3 columnas, lo cual abreviamos diciendo que es una matriz de dimensión $4\\times 3$. En general una matriz $A$ de $n\\times m$ ($n$ filas y $m$ columnas) tendrá la forma:\n",
    "\n",
    "$$\n",
    "A_{n,m} = \n",
    " \\begin{pmatrix}\n",
    "  a_{1,1} & a_{1,2} & \\cdots & a_{1,m} \\\\\n",
    "  a_{2,1} & a_{2,2} & \\cdots & a_{2,m} \\\\\n",
    "  \\vdots  & \\vdots  & \\ddots & \\vdots  \\\\\n",
    "  a_{n,1} & a_{n,2} & \\cdots & a_{n,m} \n",
    " \\end{pmatrix}\n",
    "$$\n",
    "\n",
    "Nótese cómo el índice $n$ cuenta las columnas y el $m$ las filas. El elemento que ocupa la fila $n$-ésima y la columna $m$-ésima $A_{n,m}$ está entonces univocamente determinado por su posición en la matriz.\n",
    "\n",
    "**Pregunta rápida:** ¿Cuál es entonces el elemento $M_{1,3}, M_{4,2}, M_{2,2}$?\n",
    "\n",
    "Las listas en Python permiten representar series de datos en una sola dimensión. Con una lista de números no se puede representar directamente una matriz, pero sí con una lista de listas. La matriz a quedará bien representada si escribimos "
   ]
  },
  {
   "cell_type": "code",
   "execution_count": 13,
   "metadata": {
    "collapsed": true
   },
   "outputs": [],
   "source": [
    "M = [[1, 2, 3],\n",
    "     [2, 12, 6],\n",
    "     [1, 0,-3],\n",
    "     [0,-1, 0]]"
   ]
  },
  {
   "cell_type": "code",
   "execution_count": 2,
   "metadata": {
    "collapsed": false
   },
   "outputs": [
    {
     "name": "stdout",
     "output_type": "stream",
     "text": [
      "[[1, 2, 3], [2, 12, 6], [1, 0, -3], [0, -1, 0]]\n"
     ]
    }
   ],
   "source": [
    "print M"
   ]
  },
  {
   "cell_type": "markdown",
   "metadata": {},
   "source": [
    "<img src=\"matriz.png\" style=\"width: 40%; height: 40%\"/>"
   ]
  },
  {
   "cell_type": "code",
   "execution_count": 3,
   "metadata": {
    "collapsed": false
   },
   "outputs": [
    {
     "data": {
      "text/plain": [
       "6"
      ]
     },
     "execution_count": 3,
     "metadata": {},
     "output_type": "execute_result"
    }
   ],
   "source": [
    "M[1][2]"
   ]
  },
  {
   "cell_type": "markdown",
   "metadata": {},
   "source": [
    "Si deseamos acceder al elemento $M_{2,3}$ en la matriz, tenemos que tener en cuenta que Python siempre cuenta desde cero, así que la fila tendrá índice 1 y la columna tendrá índice 2:"
   ]
  },
  {
   "cell_type": "code",
   "execution_count": 4,
   "metadata": {
    "collapsed": false
   },
   "outputs": [
    {
     "data": {
      "text/plain": [
       "6"
      ]
     },
     "execution_count": 4,
     "metadata": {},
     "output_type": "execute_result"
    }
   ],
   "source": [
    "M[1][2]"
   ]
  },
  {
   "cell_type": "markdown",
   "metadata": {},
   "source": [
    "**Pregunta rápida:** ¿Cómo se accedería a los elementos $M_{1,3}, M_{4,2}, M_{2,2}$?"
   ]
  },
  {
   "cell_type": "code",
   "execution_count": 5,
   "metadata": {
    "collapsed": false
   },
   "outputs": [
    {
     "data": {
      "text/plain": [
       "3"
      ]
     },
     "execution_count": 5,
     "metadata": {},
     "output_type": "execute_result"
    }
   ],
   "source": [
    "M[0][2]"
   ]
  },
  {
   "cell_type": "code",
   "execution_count": 8,
   "metadata": {
    "collapsed": false
   },
   "outputs": [
    {
     "data": {
      "text/plain": [
       "-1"
      ]
     },
     "execution_count": 8,
     "metadata": {},
     "output_type": "execute_result"
    }
   ],
   "source": [
    "M[3][1]"
   ]
  },
  {
   "cell_type": "code",
   "execution_count": 9,
   "metadata": {
    "collapsed": false
   },
   "outputs": [
    {
     "data": {
      "text/plain": [
       "12"
      ]
     },
     "execution_count": 9,
     "metadata": {},
     "output_type": "execute_result"
    }
   ],
   "source": [
    "M[1][1]"
   ]
  },
  {
   "cell_type": "markdown",
   "metadata": {},
   "source": [
    "Observe el uso de la doble indexación para acceder a los componentes de la matriz. El primer índice aplicado sobre M devuelve un componente de M, que es una lista"
   ]
  },
  {
   "cell_type": "code",
   "execution_count": 10,
   "metadata": {
    "collapsed": false
   },
   "outputs": [
    {
     "data": {
      "text/plain": [
       "[2, 12, 6]"
      ]
     },
     "execution_count": 10,
     "metadata": {},
     "output_type": "execute_result"
    }
   ],
   "source": [
    "M[1]"
   ]
  },
  {
   "cell_type": "markdown",
   "metadata": {},
   "source": [
    "Y el segundo índice accede a un elemento de esa lista, que es un entero:"
   ]
  },
  {
   "cell_type": "code",
   "execution_count": 8,
   "metadata": {
    "collapsed": false
   },
   "outputs": [
    {
     "data": {
      "text/plain": [
       "6"
      ]
     },
     "execution_count": 8,
     "metadata": {},
     "output_type": "execute_result"
    }
   ],
   "source": [
    "M[1][2]"
   ]
  },
  {
   "cell_type": "markdown",
   "metadata": {},
   "source": [
    "---\n",
    "\n",
    "### Ejercicio\n",
    "\n",
    "Cree en python la matriz\n",
    "\n",
    "$$\n",
    "I = \n",
    " \\begin{pmatrix}\n",
    "  1 & 0 & 0 & 0 \\\\\n",
    "  0 & 1 & 0 & 0 \\\\\n",
    "  0 & 0 & 1 & 0 \\\\\n",
    "  0 & 0 & 0 & 1 \n",
    " \\end{pmatrix}.\n",
    "$$\n",
    "\n",
    "Esta matriz es llamada la matriz identidad, la cual tiene 1 en los elementos de la diagonal y 0 en los demás. Note que para los elementos de la diagonal los índices son iguales.\n",
    "\n",
    "¿Qué dimensión tiene?."
   ]
  },
  {
   "cell_type": "code",
   "execution_count": 14,
   "metadata": {
    "collapsed": false
   },
   "outputs": [
    {
     "name": "stdout",
     "output_type": "stream",
     "text": [
      "[[1, 0, 0, 0], [0, 1, 0, 0], [0, 0, 1, 0], [0, 0, 0, 1]]\n"
     ]
    }
   ],
   "source": [
    "I=[[1,0,0,0],\n",
    "   [0,1,0,0],\n",
    "   [0,0,1,0],\n",
    "   [0,0,0,1]]\n",
    "\n",
    "print I"
   ]
  },
  {
   "cell_type": "markdown",
   "metadata": {},
   "source": [
    "---\n",
    "\n",
    "### Construcción de una matriz\n",
    "\n",
    "Para construir una matriz nula de tamaño $2 \\times 2$ basta con escribir"
   ]
  },
  {
   "cell_type": "code",
   "execution_count": 15,
   "metadata": {
    "collapsed": true
   },
   "outputs": [],
   "source": [
    "m = [[0,0],\n",
    "     [0,0]]"
   ]
  },
  {
   "cell_type": "markdown",
   "metadata": {},
   "source": [
    "sin embargo, ¿qué haríamos si necesitamos construir una matriz nula de dimensión $100 \\times 100$?. La idea será entonces llenar una lista de listas del tamaño correcto que contengan los valores que deseamos.\n",
    "\n",
    "Consideremos el siguiente ejemplo. Crearemos una matrix nula de tamaño $n\\times m$ determinado por el usuario:"
   ]
  },
  {
   "cell_type": "code",
   "execution_count": 25,
   "metadata": {
    "collapsed": false
   },
   "outputs": [
    {
     "name": "stdout",
     "output_type": "stream",
     "text": [
      "numero de filas 3\n",
      "numero de columnas 4\n",
      "[[0, 0, 0, 0], [0, 0, 0, 0], [0, 0, 0, 0]]\n"
     ]
    }
   ],
   "source": [
    "# Pedimos la dimensión de la matriz,\n",
    "n=int(raw_input('numero de filas ')) \n",
    "m=int(raw_input('numero de columnas '))\n",
    "\n",
    "# Creamos una matriz nula\n",
    "N = []\n",
    "\n",
    "# Creamos un bucle para llenar la matriz\n",
    "for i in xrange(0,n):         # el indice i recorrerá las filas\n",
    "    a = []                    # a es una lista vacía que me sirve de variable auxiliar para guardar las filas\n",
    "    for j in xrange(0,m):     # el indice j recorrerá las columnas\n",
    "        a.append(0)           # lleno las filas con ceros\n",
    "    N.append(a)               # agrego cada fila a la matriz\n",
    "    \n",
    "print N"
   ]
  },
  {
   "cell_type": "code",
   "execution_count": 24,
   "metadata": {
    "collapsed": false
   },
   "outputs": [
    {
     "name": "stdout",
     "output_type": "stream",
     "text": [
      "numero de filas 3\n",
      "numero de columnas 4\n",
      "[[0, 0, 0, 0], [0, 0, 0, 0], [0, 0, 0, 0]]\n"
     ]
    }
   ],
   "source": [
    "# Pedimos la dimensión de la matriz,\n",
    "n=int(raw_input('numero de filas ')) \n",
    "m=int(raw_input('numero de columnas '))\n",
    "\n",
    "# Creamos una matriz nula\n",
    "N = []\n",
    "\n",
    "# Creamos un bucle para llenar la matriz\n",
    "for i in xrange(0,n):         # el indice i recorrerá las filas\n",
    "    a = [0] * m                    # a es una lista vacía que me sirve de variable auxiliar para guardar las filas\n",
    "    N.append(a)               # agrego cada fila a la matriz\n",
    "    \n",
    "print N"
   ]
  },
  {
   "cell_type": "markdown",
   "metadata": {},
   "source": [
    "Podemos definir entonces una función que cree una matriz nula $n\\times m$ para nuestro uso futuro"
   ]
  },
  {
   "cell_type": "code",
   "execution_count": 18,
   "metadata": {
    "collapsed": true
   },
   "outputs": [],
   "source": [
    "def matriz_ceros(n,m):\n",
    "    '''\n",
    "    argumentos: numero de filas n y de columnas m de una matriz\n",
    "    devuelve una matriz llena de ceros de tamaño n x m\n",
    "    '''\n",
    "    \n",
    "    # Creamos una matriz nula\n",
    "    N = []\n",
    "\n",
    "    # Creamos un bucle para llenar la matriz\n",
    "    for i in xrange(0,n):         # el indice i recorrerá las filas\n",
    "        a = []                    # a es una lista vacía que me sirve de variable auxiliar para guardar las filas\n",
    "        for j in xrange(0,m):     # el indice j recorrerá las columnas\n",
    "            a.append(0)           # lleno las filas con ceros\n",
    "        N.append(a)               # agrego cada fila a la matriz\n",
    "        \n",
    "    return N"
   ]
  },
  {
   "cell_type": "code",
   "execution_count": 19,
   "metadata": {
    "collapsed": false
   },
   "outputs": [
    {
     "name": "stdout",
     "output_type": "stream",
     "text": [
      "[[0, 0, 0, 0, 0], [0, 0, 0, 0, 0], [0, 0, 0, 0, 0]]\n"
     ]
    }
   ],
   "source": [
    "C = matriz_ceros(3,5)\n",
    "print C"
   ]
  },
  {
   "cell_type": "markdown",
   "metadata": {},
   "source": [
    "---\n",
    "\n",
    "### Ejercicio\n",
    "\n",
    "Haga un programa en python que pida un entero $n$ y cree la matriz identidad de tamaño $n \\times n$ (tiene 1 en la diagonal y 0 en las demás posiciones)."
   ]
  },
  {
   "cell_type": "code",
   "execution_count": 32,
   "metadata": {
    "collapsed": false
   },
   "outputs": [
    {
     "name": "stdout",
     "output_type": "stream",
     "text": [
      "Ingrese un entero 4\n",
      "[1, 0, 0, 0]\n",
      "[0, 1, 0, 0]\n",
      "[0, 0, 1, 0]\n",
      "[0, 0, 0, 1]\n"
     ]
    }
   ],
   "source": [
    "n = input('Ingrese un entero ')\n",
    "while type(n) != int:\n",
    "    n = input('No es un entero, ingresa un entero')\n",
    "    \n",
    "I = []\n",
    "for i in xrange(0,n):       # i recorre filas\n",
    "    a = []\n",
    "    for j in xrange(0,n):   # j recorre columnas\n",
    "        if i == j:\n",
    "            a.append(1)\n",
    "        else:\n",
    "            a.append(0)\n",
    "    I.append(a)\n",
    "    \n",
    "\n",
    "for n in I: print n       "
   ]
  },
  {
   "cell_type": "code",
   "execution_count": 38,
   "metadata": {
    "collapsed": false
   },
   "outputs": [
    {
     "name": "stdout",
     "output_type": "stream",
     "text": [
      "Ingrese un entero 4\n",
      "[1, 0, 0, 0]\n",
      "[0, 1, 0, 0]\n",
      "[0, 0, 1, 0]\n",
      "[0, 0, 0, 1]\n"
     ]
    }
   ],
   "source": [
    "n = input('Ingrese un entero ')\n",
    "while type(n) != int:\n",
    "    n = input('No es un entero, ingresa un entero')\n",
    "    \n",
    "I = []\n",
    "for i in xrange(0,n):       # i recorre filas\n",
    "    a = [0]*n\n",
    "    a[i] = 1\n",
    "    I.append(a)\n",
    "    \n",
    "\n",
    "for n in I: print n "
   ]
  },
  {
   "cell_type": "markdown",
   "metadata": {},
   "source": [
    "---"
   ]
  },
  {
   "cell_type": "markdown",
   "metadata": {},
   "source": [
    "### Dimensión de una matriz\n",
    "\n",
    "Consideremos la matriz"
   ]
  },
  {
   "cell_type": "code",
   "execution_count": 13,
   "metadata": {
    "collapsed": true
   },
   "outputs": [],
   "source": [
    "A = [[1,2],[4,5],[7,8]]"
   ]
  },
  {
   "cell_type": "markdown",
   "metadata": {},
   "source": [
    "si usamos la función `len(A)`, ¿qué obtendremos?"
   ]
  },
  {
   "cell_type": "code",
   "execution_count": 16,
   "metadata": {
    "collapsed": false
   },
   "outputs": [
    {
     "name": "stdout",
     "output_type": "stream",
     "text": [
      "3\n"
     ]
    }
   ],
   "source": [
    "print len(A)"
   ]
  },
  {
   "cell_type": "markdown",
   "metadata": {},
   "source": [
    "La función `len(A)` solo nos devuelve el número de filas (que es el número de componentes de la lista de listas que es la matriz). Para averiguar el número de columnas usamos"
   ]
  },
  {
   "cell_type": "code",
   "execution_count": 17,
   "metadata": {
    "collapsed": false
   },
   "outputs": [
    {
     "name": "stdout",
     "output_type": "stream",
     "text": [
      "[1, 2]\n",
      "2\n"
     ]
    }
   ],
   "source": [
    "print A[0]\n",
    "print len(A[0])"
   ]
  },
  {
   "cell_type": "markdown",
   "metadata": {},
   "source": [
    "La dimensión de la matriz sera entonces `len(A)` $\\times$ `len(A[0])`\n",
    "\n",
    "### Operaciones con matrices"
   ]
  },
  {
   "cell_type": "markdown",
   "metadata": {},
   "source": [
    "Al igual que los números reales, las matrices tiene operaciones definidas entre ellas. Una de estas es la suma.\n",
    "\n",
    "Consideremos dos matrices $A$ y $B$. Si las dos matrices tiene la misma dimensión $n \\times m$ entonces la suma entre ellas es una matriz $C$ de la misma dimensión y está definida como\n",
    "\n",
    "$$\n",
    "C_{i,j} = A_{i,j} + B_{i,j}\n",
    "$$\n",
    "\n",
    "para $1\\leq i \\leq n$ y $1\\leq j \\leq m$. Es decir, la suma de matrices es la suma de cada una de sus componentes. Es decir,\n",
    "\n",
    "$$ \n",
    " \\begin{pmatrix}\n",
    "  1 & 2 & 3 \\\\\n",
    "  2 & 12 & 6 \\\\\n",
    "  1 & 0 & -3 \\\\\n",
    "  0 & -1 & 0 \n",
    " \\end{pmatrix}\n",
    " +\n",
    " \\begin{pmatrix}\n",
    "  1 & 5 & 8 \\\\\n",
    "  -2 & 7 & 3 \\\\\n",
    "  0 & 0 & 4 \\\\\n",
    "  -1 & 2 & 1 \n",
    " \\end{pmatrix}\n",
    " =\n",
    "  \\begin{pmatrix}\n",
    "  1+1 & 2+5 & 3+8 \\\\\n",
    "  2-2 & 12+7 & 6+3 \\\\\n",
    "  1+0 & 0+0 & -3+4 \\\\\n",
    "  0-1 & -1+2 & 0+1 \n",
    " \\end{pmatrix}\n",
    "$$"
   ]
  },
  {
   "cell_type": "code",
   "execution_count": 45,
   "metadata": {
    "collapsed": false
   },
   "outputs": [
    {
     "name": "stdout",
     "output_type": "stream",
     "text": [
      "[2, 7, 11]\n",
      "[0, 19, 9]\n",
      "[1, 0, 1]\n",
      "[-1, 1, 1]\n"
     ]
    }
   ],
   "source": [
    "A = [[1, 2, 3],[2, 12, 6],[1, 0,-3],[0,-1, 0]]\n",
    "B = [[1, 5, 8],[-2, 7, 3],[0, 0,4],[-1,2, 1]]\n",
    "\n",
    "C = A[:]      # La matriz resultado C va a tener las mismas dimensiones de A y B\n",
    "              # Note que C es una copia de A (debido al slicing) y no una referencia\n",
    "\n",
    "# Comienzo a calcular la suma elemento a elemento\n",
    "for i in xrange(0,len(A)):               # el indice i recorre las filas\n",
    "    for j in xrange(0,len(A[0])):        # el indice j recorre las columnas\n",
    "        C[i][j] = A[i][j] + B[i][j]      # la suma de cada una de las componentes de las matrices\n",
    "        \n",
    "for L in C: print L"
   ]
  },
  {
   "cell_type": "markdown",
   "metadata": {},
   "source": [
    "---\n",
    "\n",
    "### Ejercicio\n",
    "\n",
    "**1.** Haga un programa que lea dos matrices con el comando `input` y calcule la diferencia entre la primera y la segunda. Recuerde que, al igual que la suma, dos matrices se puden restar si la dimensión de ambas es igual. El programa debe entonces determinar si es posible realizar la operación antes de proceder al calculo."
   ]
  },
  {
   "cell_type": "code",
   "execution_count": null,
   "metadata": {
    "collapsed": true
   },
   "outputs": [],
   "source": [
    "M1 = input('Ingrese la primera matriz ')\n",
    "M2 = input('Ingrese la segunda matriz ')\n",
    "\n",
    "if len(M1) == len(M2) and len(M1[0]) == len(M2[0]):       # comparando las filas\n",
    "        # haga la resta\n",
    "    else\n",
    "        print 'no tienen la misma dimensión'"
   ]
  },
  {
   "cell_type": "code",
   "execution_count": null,
   "metadata": {
    "collapsed": true
   },
   "outputs": [],
   "source": [
    "if len(M1) != len(M2) or len(M1[0]) != len(M2[0]):       # comparando las filas\n",
    "        print 'no tienen la misma dimensión'\n",
    "    else\n",
    "        # se hace la resta"
   ]
  },
  {
   "cell_type": "markdown",
   "metadata": {},
   "source": [
    "**2.** Diseñe un programa que lea una matriz y un número y devuelva una nueva matriz: la\n",
    "que resulta de multiplicar la matriz por el número. El producto de un número por una matriz\n",
    "es la matriz que resulta de multiplicar cada elemento por dicho número, por ejemplo\n",
    "\n",
    "$$ \n",
    "5 \\times\n",
    " \\begin{pmatrix}\n",
    "  1 & 2 & 3 \\\\\n",
    "  2 & 12 & 6 \\\\\n",
    "  1 & 0 & -3 \\\\\n",
    "  0 & -1 & 0 \n",
    " \\end{pmatrix}\n",
    "=\n",
    " \\begin{pmatrix}\n",
    "  5 \\times 1 & 5 \\times 2 & 5 \\times 3 \\\\\n",
    "  5 \\times 2 & 5 \\times 12 & 5 \\times 6 \\\\\n",
    "  5 \\times 1 & 5 \\times 0 & 5 \\times -3 \\\\\n",
    "  5 \\times 0 & 5 \\times -1 & 5 \\times 0 \n",
    " \\end{pmatrix}.\n",
    "$$"
   ]
  },
  {
   "cell_type": "code",
   "execution_count": null,
   "metadata": {
    "collapsed": true
   },
   "outputs": [],
   "source": []
  },
  {
   "cell_type": "markdown",
   "metadata": {},
   "source": [
    "---\n",
    "\n",
    "### ¡Tarea!\n",
    "\n",
    "**1.** La transpuesta de una matriz $A$ de dimensión $n \\times m$ es una matriz $A^T$ de dimensión $m \\times n$ tal que $A^T_{i,j}=A_{j,i}$ para $1\\leq i \\leq n$ y $1\\leq j \\leq m$\n",
    "\n",
    "Por ejemplo, si\n",
    "\n",
    "$$\n",
    "A =\n",
    " \\begin{pmatrix}\n",
    "  1 & 2 & 3 \\\\\n",
    "  2 & 12 & 6 \\\\\n",
    "  1 & 0 & -3 \\\\\n",
    "  0 & -1 & 0 \n",
    " \\end{pmatrix}\n",
    "$$\n",
    "entonces\n",
    "$$\n",
    "A^T =\n",
    " \\begin{pmatrix}\n",
    "  1 & 2 & 1 & 0\\\\\n",
    "  2 & 12 & 0 & -1\\\\\n",
    "  3 & 6 & -3 & 0\\\\\n",
    " \\end{pmatrix} .\n",
    "$$\n",
    "\n",
    "Diseñe un programa que lea una matriz y muestre su transpuesta."
   ]
  },
  {
   "cell_type": "code",
   "execution_count": null,
   "metadata": {
    "collapsed": true
   },
   "outputs": [],
   "source": []
  },
  {
   "cell_type": "markdown",
   "metadata": {},
   "source": [
    "**2.** Diseñe un programa tal que lea una matriz A de dimensión $n\\times m$ y muestre un vector $v$ (una lista)\n",
    "de tamaño $n$ tal que\n",
    "$$\n",
    "v_i = \\sum_{j=1}^m A_{i,j},\n",
    "$$\n",
    "para $i$ entre $1$ y $n$. Es decir, aplicar la operación anterior a la matriz\n",
    "$$\n",
    " \\begin{pmatrix}\n",
    "  1 & 2 & 3 \\\\\n",
    "  2 & 12 & 6 \\\\\n",
    "  1 & 0 & -3 \\\\\n",
    "  0 & -1 & 0 \n",
    " \\end{pmatrix}\n",
    "$$\n",
    "dará como resultado un vector en el cual sus componentes serán la suma de las filas de la matriz\n",
    "$$\n",
    " \\begin{pmatrix}\n",
    "  1 + 2 + 3 \\\\\n",
    "  2 + 12 + 6 \\\\\n",
    "  1 + 0  -3 \\\\\n",
    "  0  -1 + 0 \n",
    " \\end{pmatrix},\n",
    "$$\n",
    "es decir,\n",
    "$$\n",
    " \\begin{pmatrix}\n",
    "  6 \\\\\n",
    "  20 \\\\\n",
    "  -2 \\\\\n",
    "  -1 \n",
    " \\end{pmatrix}.\n",
    "$$"
   ]
  }
 ],
 "metadata": {
  "kernelspec": {
   "display_name": "Python 2",
   "language": "python",
   "name": "python2"
  },
  "language_info": {
   "codemirror_mode": {
    "name": "ipython",
    "version": 2
   },
   "file_extension": ".py",
   "mimetype": "text/x-python",
   "name": "python",
   "nbconvert_exporter": "python",
   "pygments_lexer": "ipython2",
   "version": "2.7.11"
  }
 },
 "nbformat": 4,
 "nbformat_minor": 0
}
