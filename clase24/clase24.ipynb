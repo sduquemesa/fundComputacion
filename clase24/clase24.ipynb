{
 "cells": [
  {
   "cell_type": "markdown",
   "metadata": {},
   "source": [
    "# Clase 24\n",
    "\n",
    "## Algoritmos vectorizados\n",
    "\n",
    "Consideremos el caso en el que tenemos una función en la cual se condiciona el resultado según el valor del argumento"
   ]
  },
  {
   "cell_type": "code",
   "execution_count": 1,
   "metadata": {
    "collapsed": false
   },
   "outputs": [
    {
     "name": "stdout",
     "output_type": "stream",
     "text": [
      "func_condicionada(-3) = 0\n",
      "func_condicionada(5) = 2.2360679775\n"
     ]
    }
   ],
   "source": [
    "import numpy as np\n",
    "\n",
    "def func_condicionada(n):\n",
    "    '''\n",
    "    Función que determina la raiz cuadrada de un número\n",
    "    Args: n un número\n",
    "    Res: Raiz del número n si n>=0\n",
    "    '''\n",
    "    if n<0:\n",
    "        resultado = 0\n",
    "    elif n>=0:\n",
    "        resultado = np.sqrt(n)\n",
    "        \n",
    "    return resultado\n",
    "\n",
    "print 'func_condicionada(-3) =', func_condicionada(-3)\n",
    "print 'func_condicionada(5) =', func_condicionada(5)"
   ]
  },
  {
   "cell_type": "markdown",
   "metadata": {},
   "source": [
    "Sin embargo las funciones de Python con tests `if` no tiene la capacidad de manejar arrays de numpy correctamente"
   ]
  },
  {
   "cell_type": "code",
   "execution_count": 5,
   "metadata": {
    "collapsed": false
   },
   "outputs": [
    {
     "ename": "ValueError",
     "evalue": "The truth value of an array with more than one element is ambiguous. Use a.any() or a.all()",
     "output_type": "error",
     "traceback": [
      "\u001b[0;31m---------------------------------------------------------------------------\u001b[0m",
      "\u001b[0;31mValueError\u001b[0m                                Traceback (most recent call last)",
      "\u001b[0;32m<ipython-input-5-8445d9efe86e>\u001b[0m in \u001b[0;36m<module>\u001b[0;34m()\u001b[0m\n\u001b[1;32m      1\u001b[0m \u001b[0mx\u001b[0m \u001b[0;34m=\u001b[0m \u001b[0mnp\u001b[0m\u001b[0;34m.\u001b[0m\u001b[0marray\u001b[0m\u001b[0;34m(\u001b[0m\u001b[0;34m[\u001b[0m\u001b[0;34m-\u001b[0m\u001b[0;36m1\u001b[0m\u001b[0;34m,\u001b[0m\u001b[0;34m-\u001b[0m\u001b[0;36m2\u001b[0m\u001b[0;34m,\u001b[0m\u001b[0;34m-\u001b[0m\u001b[0;36m3\u001b[0m\u001b[0;34m,\u001b[0m\u001b[0;36m0\u001b[0m\u001b[0;34m,\u001b[0m\u001b[0;36m1\u001b[0m\u001b[0;34m,\u001b[0m\u001b[0;36m2\u001b[0m\u001b[0;34m,\u001b[0m\u001b[0;36m3\u001b[0m\u001b[0;34m]\u001b[0m\u001b[0;34m,\u001b[0m\u001b[0mfloat\u001b[0m\u001b[0;34m)\u001b[0m\u001b[0;34m\u001b[0m\u001b[0m\n\u001b[1;32m      2\u001b[0m \u001b[0;34m\u001b[0m\u001b[0m\n\u001b[0;32m----> 3\u001b[0;31m \u001b[0mfunc_condicionada\u001b[0m\u001b[0;34m(\u001b[0m\u001b[0mx\u001b[0m\u001b[0;34m)\u001b[0m\u001b[0;34m\u001b[0m\u001b[0m\n\u001b[0m",
      "\u001b[0;32m<ipython-input-3-f864755a4d03>\u001b[0m in \u001b[0;36mfunc_condicionada\u001b[0;34m(n)\u001b[0m\n\u001b[1;32m      7\u001b[0m     \u001b[0mRes\u001b[0m\u001b[0;34m:\u001b[0m \u001b[0mRaiz\u001b[0m \u001b[0;32mdel\u001b[0m \u001b[0mn\u001b[0m\u001b[0;31mú\u001b[0m\u001b[0mmero\u001b[0m \u001b[0mn\u001b[0m \u001b[0msi\u001b[0m \u001b[0mn\u001b[0m\u001b[0;34m>=\u001b[0m\u001b[0;36m0\u001b[0m\u001b[0;34m\u001b[0m\u001b[0m\n\u001b[1;32m      8\u001b[0m     '''\n\u001b[0;32m----> 9\u001b[0;31m     \u001b[0;32mif\u001b[0m \u001b[0mn\u001b[0m\u001b[0;34m<\u001b[0m\u001b[0;36m0\u001b[0m\u001b[0;34m:\u001b[0m\u001b[0;34m\u001b[0m\u001b[0m\n\u001b[0m\u001b[1;32m     10\u001b[0m         \u001b[0mresultado\u001b[0m \u001b[0;34m=\u001b[0m \u001b[0;36m0\u001b[0m\u001b[0;34m\u001b[0m\u001b[0m\n\u001b[1;32m     11\u001b[0m     \u001b[0;32melif\u001b[0m \u001b[0mn\u001b[0m\u001b[0;34m>=\u001b[0m\u001b[0;36m0\u001b[0m\u001b[0;34m:\u001b[0m\u001b[0;34m\u001b[0m\u001b[0m\n",
      "\u001b[0;31mValueError\u001b[0m: The truth value of an array with more than one element is ambiguous. Use a.any() or a.all()"
     ]
    }
   ],
   "source": [
    "x = np.array([-1,-2,-3,0,1,2,3],float)\n",
    "\n",
    "func_condicionada(x)"
   ]
  },
  {
   "cell_type": "markdown",
   "metadata": {},
   "source": [
    "La operación n < 0 resulta en un array de booleanos en el cual un elemento es `True` si el elemento en el array `x` es menor que cero, y `False` en el otro caso."
   ]
  },
  {
   "cell_type": "code",
   "execution_count": 6,
   "metadata": {
    "collapsed": false
   },
   "outputs": [
    {
     "data": {
      "text/plain": [
       "array([ True,  True,  True, False, False, False, False], dtype=bool)"
      ]
     },
     "execution_count": 6,
     "metadata": {},
     "output_type": "execute_result"
    }
   ],
   "source": [
    "x<0"
   ]
  },
  {
   "cell_type": "markdown",
   "metadata": {},
   "source": [
    "Sin embargo, el array no puede ser evaluado por la condición `if` como un booleano por lo cual se obtiene una excepción `ValueError`.\n",
    "\n",
    "**Pregunta:** ¿Cómo podríamos extender la función `func_condicionada` arriba para que funciones para argumentos que sean arrays de Numpy?"
   ]
  },
  {
   "cell_type": "code",
   "execution_count": null,
   "metadata": {
    "collapsed": true
   },
   "outputs": [],
   "source": []
  },
  {
   "cell_type": "markdown",
   "metadata": {},
   "source": [
    "Otra posible solución es usar la clase ´vectorize´ del paquete Numpy. Esta clase auntomáticamente vectoriza cualquier función de argumentos escalares de manera que funcione con arrays. Por ejemplo"
   ]
  },
  {
   "cell_type": "code",
   "execution_count": 8,
   "metadata": {
    "collapsed": true
   },
   "outputs": [],
   "source": [
    "np.vectorize?"
   ]
  },
  {
   "cell_type": "code",
   "execution_count": 12,
   "metadata": {
    "collapsed": false
   },
   "outputs": [
    {
     "name": "stdout",
     "output_type": "stream",
     "text": [
      "[-1. -2. -3.  0.  1.  2.  3.]\n",
      "[ 0.          0.          0.          0.          1.          1.41421356\n",
      "  1.73205081]\n"
     ]
    }
   ],
   "source": [
    "func_condicionada_vec = np.vectorize(func_condicionada,otypes='d')     # vectorización de la función func_condicionada\n",
    "                                                                      # que retorna valores float\n",
    "print x\n",
    "print func_condicionada_vec(x)"
   ]
  },
  {
   "cell_type": "markdown",
   "metadata": {},
   "source": [
    "Desafortunadamente la velocidad de `func_condicionada_vec` es mucho más baja que una versión explícitamente vectorial.\n",
    "\n",
    "En general no existen guías para vectorizar una función que no funciona con argumentos en forma de array porque la reescritura de esta depende de las funcionalidades presentes en la librería de numpy. Sin embargo, una función del tipo\n",
    "```python\n",
    " def f(x):\n",
    "        if condition:\n",
    "            x = <expression1>\n",
    "        else:\n",
    "            x = <expression2>\n",
    "        return x\n",
    "```\n",
    "se puede vectorizar como \n",
    "```python\n",
    "def f_vectorized(x):\n",
    "    x1 = <expression1>\n",
    "    x2 = <expression2>\n",
    "    return np.where(condition, x1, x2)\n",
    "```\n",
    "en donde la función `np.where` retorna un array del mismo tamaño que el de la condición y elemento `i`-esimo es igual a `x1[i]` si `condicion[i]` es verdadera, y `x2[i]` en otro caso."
   ]
  },
  {
   "cell_type": "code",
   "execution_count": 13,
   "metadata": {
    "collapsed": true
   },
   "outputs": [],
   "source": [
    "np.where?"
   ]
  },
  {
   "cell_type": "code",
   "execution_count": 18,
   "metadata": {
    "collapsed": false
   },
   "outputs": [
    {
     "name": "stdout",
     "output_type": "stream",
     "text": [
      "[ 0.          0.          0.          0.          0.84147098  0.90929743\n",
      "  0.14112001]\n"
     ]
    }
   ],
   "source": [
    "x = np.array([-1,-2,-3,0,1,2,3],float)\n",
    "x1 = np.zeros_like(x)\n",
    "x2 = np.sin(x)\n",
    "print np.where(x<0,x1,x2)"
   ]
  },
  {
   "cell_type": "markdown",
   "metadata": {},
   "source": [
    "---\n",
    "### Ejercicio\n",
    "¿Cómo se podría escribir una versión vectorizada de la siguiente función?\n",
    "```python\n",
    "    def func_sin(x):\n",
    "        if x < 0:\n",
    "            return 0\n",
    "        else:\n",
    "            return sin(x)\n",
    "```\n",
    "\n",
    "Compare el tiempo de ejecución con la función vectorizada usando `np.vectorize`."
   ]
  },
  {
   "cell_type": "code",
   "execution_count": null,
   "metadata": {
    "collapsed": true
   },
   "outputs": [],
   "source": []
  },
  {
   "cell_type": "markdown",
   "metadata": {},
   "source": [
    "---\n",
    "\n",
    "Algunas veces el cálculo no se puede hacer para todos los valores del array de entrada. Por ejemplo, Si `x<0` la función $\\log x$ no está definida y por lo tanto `np.log(x)` producirá un error:"
   ]
  },
  {
   "cell_type": "code",
   "execution_count": 20,
   "metadata": {
    "collapsed": false
   },
   "outputs": [
    {
     "name": "stderr",
     "output_type": "stream",
     "text": [
      "/usr/local/lib/python2.7/site-packages/ipykernel/__main__.py:1: RuntimeWarning: invalid value encountered in log\n",
      "  if __name__ == '__main__':\n"
     ]
    },
    {
     "data": {
      "text/plain": [
       "nan"
      ]
     },
     "execution_count": 20,
     "metadata": {},
     "output_type": "execute_result"
    }
   ],
   "source": [
    "np.log(-3)"
   ]
  },
  {
   "cell_type": "markdown",
   "metadata": {},
   "source": [
    "Una función escalar que evita este problema es la siguiente:"
   ]
  },
  {
   "cell_type": "code",
   "execution_count": 21,
   "metadata": {
    "collapsed": true
   },
   "outputs": [],
   "source": [
    "def logpos(x):\n",
    "    if x <= 0:\n",
    "        return 0.0\n",
    "    else:\n",
    "        return np.log(x)"
   ]
  },
  {
   "cell_type": "code",
   "execution_count": 22,
   "metadata": {
    "collapsed": false
   },
   "outputs": [
    {
     "data": {
      "text/plain": [
       "0.0"
      ]
     },
     "execution_count": 22,
     "metadata": {},
     "output_type": "execute_result"
    }
   ],
   "source": [
    "logpos(-1)"
   ]
  },
  {
   "cell_type": "markdown",
   "metadata": {},
   "source": [
    "Ahora, un simple `np.log(x)` cuando `x` es un array con elementos negativos no funcionará. Una forma de evitarlo es reemplazando las entradas ilegales en `x` por entradas legales, y luego calcular `np.log(x)`. Esto no es problematico porque las entradas reemplazadas no iban a formar parte del array resultante:"
   ]
  },
  {
   "cell_type": "code",
   "execution_count": 30,
   "metadata": {
    "collapsed": false
   },
   "outputs": [],
   "source": [
    "def logposv(x):\n",
    "    x_pos = np.where(x > 0, x, 1) # subst. negative values by 1 r1 = log(x_pos)\n",
    "    r1 = np.log(x_pos)\n",
    "    r = np.where(x < 0, 0.0, r1)\n",
    "    return r"
   ]
  },
  {
   "cell_type": "code",
   "execution_count": 31,
   "metadata": {
    "collapsed": false
   },
   "outputs": [
    {
     "data": {
      "text/plain": [
       "array([ 0.        ,  0.        ,  0.        ,  0.        ,  0.        ,\n",
       "        0.69314718,  1.09861229])"
      ]
     },
     "execution_count": 31,
     "metadata": {},
     "output_type": "execute_result"
    }
   ],
   "source": [
    "logposv(x)"
   ]
  },
  {
   "cell_type": "markdown",
   "metadata": {},
   "source": [
    "---\n",
    "### Ejercicio\n",
    "Vectorize la función `func_condicionada` de manera que los valores problemáticos sean reemplazados por cero."
   ]
  },
  {
   "cell_type": "code",
   "execution_count": null,
   "metadata": {
    "collapsed": true
   },
   "outputs": [],
   "source": []
  },
  {
   "cell_type": "markdown",
   "metadata": {},
   "source": [
    "---"
   ]
  },
  {
   "cell_type": "markdown",
   "metadata": {
    "collapsed": true
   },
   "source": [
    "### Slicing\n",
    "\n",
    "El slicing puede ser una técnica importante para vectorizar expresiones, especialmente en aplicaciones relacionadas con diferencias finitas, procesamiento de imágenes, o operaciones de compresión y suavisado. Consideremos el siguiente esquema de recursión (para $0<\\beta\\leq 1/2$)\n",
    "\n",
    "$$\n",
    "u_i^{l+1} = \\beta u_{i-1}^l+(1-2\\beta) u_{i}^l+\\beta u_{i+1}^l,\\quad i=1,\\dots, n-1 \\; \\mathrm{y} \\; l\\geq 0\n",
    "$$\n",
    "\n",
    "---\n",
    "**(Lectura opcional)**\n",
    "\n",
    "que se obtiene a partir de la solución de la [ecuación de difusión](https://es.wikipedia.org/wiki/Ecuación_de_difusión) \n",
    "$$\\frac{\\partial u(x,t)}{\\partial t}=\\frac{\\partial^2 u(x,t)}{\\partial x^2}$$\n",
    "\n",
    "usando [diferencias finitas](https://es.wikipedia.org/wiki/Diferencia_finita): el método de diferencias finitas reemplaza los cocientes diferenciales por cantidades finitas; la exactitud de la aproximación va a depender del tamaño de estas cantidades, *recuperando* la solución exacta cuando ellas son infinitamente pequeñas (para detalles muchísimo más específicos y técnicos vea [Introducción al Método de Diferencias Finitas y su Implementación Computacional](http://www.mmc.geofisica.unam.mx/femp/Ejemplitos/F_M/FDM/Introducción%20al%20Método%20de%20Diferencias%20Finitas%20y%20su%20Implementación%20Computacional.pdf)). \n",
    "\n",
    "En el esquema de recursión anterior la constante $\\beta$ determina la relación entre la discretización del tiempo $\\Delta t$ y la del espacio $\\Delta x$ de manera que $\\beta = \\Delta t/ \\Delta x^2$. Para asegurar la convergencia de la solución $0<\\beta\\leq 1/2$; la solución *exacta* se recupera cuando $\\Delta t\\rightarrow 0$ y $\\Delta x\\rightarrow 0$.\n",
    "\n",
    "En esta aproximación el índice $l\\geq 0$ cuenta niveles discretos de tiempo, de tal manera que el tiempo es $t_l = l\\, \\Delta t$. Similarmente el índice $i$ es el contador de puntos en el espacio con lo cual $x_i= i\\, \\Delta x$ para $i=0,\\dots,n$ (donde $n$ es el número de divisiones en el espacio).\n",
    "\n",
    "---\n",
    "\n",
    "que computacionalmente se puede escribir representar como\n",
    "```python\n",
    "u[l+1,i] = beta*u[l,i-1]+(1-2*beta)*u[l,i]+beta*u[l,i+1]\n",
    "```\n",
    "donde el array `u` de dimensión $m\\times n$ tiene elementos `u[l,i]` (para $l = 0,\\dots, m$ y $i=1,\\dots, n-1$) determinados por la recusión anterior y para el cual `u[:,0] = u[:,-1] = 1` y `u[0,1:-1] = 0`."
   ]
  },
  {
   "cell_type": "code",
   "execution_count": 133,
   "metadata": {
    "collapsed": true
   },
   "outputs": [],
   "source": [
    "m = 100    # número de filas\n",
    "n = 50     # número de columas\n",
    "\n",
    "u = np.zeros((m,n),float)    # matriz llena de ceros\n",
    "\n",
    "# Condiciones sobre la matriz\n",
    "u[:,0] = 1\n",
    "u[:,-1] = 1\n",
    "u[0,1:-1] = 0"
   ]
  },
  {
   "cell_type": "code",
   "execution_count": 134,
   "metadata": {
    "collapsed": false
   },
   "outputs": [
    {
     "data": {
      "text/plain": [
       "<matplotlib.image.AxesImage at 0x113356990>"
      ]
     },
     "execution_count": 134,
     "metadata": {},
     "output_type": "execute_result"
    },
    {
     "data": {
      "image/png": "[encoded data removed]",
      "text/plain": [
       "<matplotlib.figure.Figure at 0x1131a5610>"
      ]
     },
     "metadata": {},
     "output_type": "display_data"
    }
   ],
   "source": [
    "import matplotlib.pyplot as plt\n",
    "%matplotlib inline\n",
    "\n",
    "plt.matshow(u)"
   ]
  },
  {
   "cell_type": "markdown",
   "metadata": {},
   "source": [
    "---\n",
    "### Ejercicio\n",
    "Escriba el código necesario usando loops de python para aplicar la recursión definida antes sobre el array `u` dado un coeficiente `beta = 0.5`. Utilice el comando `plt.matshow(u)` para ver el resultado."
   ]
  },
  {
   "cell_type": "code",
   "execution_count": null,
   "metadata": {
    "collapsed": true
   },
   "outputs": [],
   "source": []
  },
  {
   "cell_type": "markdown",
   "metadata": {},
   "source": [
    "---\n",
    "\n",
    "Una versión vectorizada del problema anterior\n",
    "```python\n",
    "u[l+1,i] = beta*u[l,i-1]+(1-2*beta)*u[l,i]+beta*u[l,i-1]\n",
    "```\n",
    "consiste en adicionar tres arrays de una dimension: `u[j,0:n-2]`, `u[j,1:n-1]`, `u[j,2:n+1]` para un `j` determinado, con los coeficientes escalares correspondientes; es decir, el doble loop de python puede ser reemplazado por uno simple"
   ]
  },
  {
   "cell_type": "code",
   "execution_count": 141,
   "metadata": {
    "collapsed": false
   },
   "outputs": [],
   "source": [
    "beta = 0.5\n",
    "\n",
    "for j in xrange(0,m-1):\n",
    "    u[j+1,1:n-1] = beta*u[j,0:n-2]+(1-2*beta)*u[j,1:n-1]+beta*u[j,2:n+1]"
   ]
  },
  {
   "cell_type": "code",
   "execution_count": 142,
   "metadata": {
    "collapsed": false
   },
   "outputs": [
    {
     "data": {
      "text/plain": [
       "<matplotlib.image.AxesImage at 0x113a63b10>"
      ]
     },
     "execution_count": 142,
     "metadata": {},
     "output_type": "execute_result"
    },
    {
     "data": {
      "image/png": "[encoded data removed]",
      "text/plain": [
       "<matplotlib.figure.Figure at 0x1138e13d0>"
      ]
     },
     "metadata": {},
     "output_type": "display_data"
    }
   ],
   "source": [
    "plt.matshow(u)"
   ]
  },
  {
   "cell_type": "markdown",
   "metadata": {},
   "source": [
    "---\n",
    "### Ejercicio\n",
    "\n",
    "**1.** *Vectorizando una función constante*. La función\n",
    "```python\n",
    "def initial_condition(x):\n",
    "    return 3.0\n",
    "```\n",
    "no funciona de manera correcta cuando `x` es un array de Numpy. En ese caso la función debería retornar un array del mismo tamaño que `x` y con todas sus entradas iguales a `3.0`. Haga las modificaciones necesarias para que la función dé el reultado esperado tanto para `x` escalares como arrays.\n",
    "\n",
    "**2.** *Vectorizando una integración numérica*. La integral de una función $f(x)$ desde $x=a$ hasta $x=b$ puede ser calculada numericamente por la regla del trapezoide:\n",
    "$$\n",
    "\\int_a^b f(x)\\, \\mathrm{d}x \\approx \\frac{h}{2} f(a) + \\frac{h}{2} f(b) + h \\sum_{i_1}^{n-1} f(a+ih) \\quad h=\\frac{b-a}{n}.\n",
    "$$\n",
    "Implemente esta aproximación en python usando `loops`. Este funcionará más lento que una versión vectorizada. Haga los ajustes necesarios para obtener una versión vectorizada y compare el tiempo de ejecución con la versión usando `loops`. Para lo anterior use las funciones\n",
    "$$\n",
    "f(x)=1+2x\\quad \\mathrm{y}\\quad f(x)=\\sin(x)\n",
    "$$\n",
    "para $a=0$ y $b=\\pi/2$. Compare la precisión del resultado con la obtenida usando el método del rectángulo.\n",
    "\n",
    "**3.** *Vectorizando una función con una condición if*. Considere la función \n",
    "$$\n",
    "f(x) = \\frac{n}{1+n}\\left\\{\n",
    "  \\begin{array}{lr}\n",
    "    0.5^{1+\\frac{1}{n}}-(0.5-x)^{1+\\frac{1}{n}}, & 0 \\leq x \\leq 0.5\\\\\n",
    "    0.5^{1+\\frac{1}{n}}-(x-0.5)^{1+\\frac{1}{n}}, & 0.5 < x \\leq 1\n",
    "  \\end{array}\n",
    "\\right.\n",
    "$$\n",
    "en donde $n$ es un número real tal que $0<n\\leq 1$. (Esta ecuación describe la velociadad de un fluído en un canal cuando es sometido a presión.) Haga una función vectorizada para evaluar $f(x)$ para un conjunto $x$ de $m$ puntos igualmente espaciados entre 0 y 1 (no debe aparecer nungún loop sobre los valores de $x$), de tal maera que\n",
    "```python\n",
    "r = f(x)\n",
    "```\n",
    "donde `r` es un array con los resultados de aplicar `f(x)` sobre un array `x`.\n",
    "\n",
    "Utilice luego la siguiente secuencia de comandos para visualizar sus resultados:\n",
    "```python\n",
    "import matplotlib.pyplot as plt\n",
    "%matplotlib inline\n",
    "\n",
    "plt.plot(x,r)\n",
    "```"
   ]
  },
  {
   "cell_type": "code",
   "execution_count": null,
   "metadata": {
    "collapsed": true
   },
   "outputs": [],
   "source": []
  },
  {
   "cell_type": "markdown",
   "metadata": {},
   "source": [
    "---"
   ]
  }
 ],
 "metadata": {
  "kernelspec": {
   "display_name": "Python 2",
   "language": "python",
   "name": "python2"
  },
  "language_info": {
   "codemirror_mode": {
    "name": "ipython",
    "version": 2
   },
   "file_extension": ".py",
   "mimetype": "text/x-python",
   "name": "python",
   "nbconvert_exporter": "python",
   "pygments_lexer": "ipython2",
   "version": "2.7.11"
  }
 },
 "nbformat": 4,
 "nbformat_minor": 0
}
