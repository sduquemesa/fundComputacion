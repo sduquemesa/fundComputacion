{
 "cells": [
  {
   "cell_type": "markdown",
   "metadata": {},
   "source": [
    "### Integración Monte Carlo en una dimensión\n",
    "\n",
    "Una de las primeras aplicaciones de los números aleatorios fue la computación numérica de integrales. Sea $x_1, \\dots, x_n$ un conjunto de números aleatorios uniformemente distribuidos; entonces\n",
    "$$\n",
    "\\frac{b-a}{n}\\sum_{i=1}^n f(x_i) \\quad \\quad (1)\n",
    "$$\n",
    "es una aproximación a la integral $\\int_a^b f(x)\\mathrm{d}x$. Este método es usualmente referido como *Integración Monte Carlo*. La incertidumbre en la estimación de la integral es estimada por la desviación estándar\n",
    "$$\n",
    "\\bar \\sigma \\approx \\frac{b-a}{\\sqrt n}\\sqrt{\\frac{1}{n}\\sum_{i=1}^{n}f(x_i)^2-(\\bar f)^2}, \\quad \\quad (2)\n",
    "$$\n",
    "donde $\\bar f = n^{-1}\\sum_{i=1}^{n} f(x_i)$. Como $\\bar \\sigma$ tiende a cero a medida que $n\\rightarrow \\infty$, un número muy grande $n$ es necesario para tener una buena paroximación de la integral.\n",
    "\n",
    "Implemente la integración Monte Carlo en la ecuación $(1)$ en un script de Python con loops y llamdas explícitas a la función `np.random.random()` que genera números aleatorios. Imprima la aproximación a la integral y el error definido en la ecuación $(2)$. Pruebe el script con la integral $\\int_0^\\pi \\sin(x) \\mathrm{d}x$ la cual tiene un resultado exacto de $2$.\n",
    "\n",
    "Luego escriba un código usando las funcionalidades de Numpy en el que se utilice la funcionalidad para la generación de un array de número aleatorios (ver documentación del módulo `np.random`), aplique este array a la función $f(x)$, precedido por la operación `sum` sobre el array resultante y la posterior división por $n$. Compara el tiempo de ejecución del código escrito usando loops y el código escrito usando arrays de numpy. "
   ]
  },
  {
   "cell_type": "code",
   "execution_count": null,
   "metadata": {
    "collapsed": true
   },
   "outputs": [],
   "source": []
  },
  {
   "cell_type": "markdown",
   "metadata": {},
   "source": [
    "---\n",
    "\n",
    "## Organización de un array\n",
    "\n",
    "(Adaptado de [Wikipedia](https://es.wikipedia.org/wiki/Quicksort)) El ordenamiento rápido de un array se puede lograr haciendo uso de la técnica *divide y vencerás*. Este es un algoritmo **recursivo** (¿qué es recursividad?) que mejora el tiempo de ordenamiento de un array trabajando de la siguiente forma:\n",
    "\n",
    "- Se elije un elemento de la lista de elementos a ordenar, al que llamaremos **pivote**. \n",
    "- Se resitúa los demás elementos de la lista a cada lado del pivote, de manera que a un lado queden todos los menores que él, y al otro los mayores. Los elementos iguales al pivote pueden ser colocados tanto a su derecha como a su izquierda. En este momento, el pivote ocupa exactamente el lugar que le corresponderá en la lista ordenada.\n",
    "- La lista queda separada en dos sublistas, una formada por los elementos a la izquierda del pivote, y otra por los elementos a su derecha. \n",
    "- Se repetite este proceso de forma recursiva para cada una de las sublista generadas mientras éstas contengan más de un elemento. Una vez terminado este proceso todos los elementos estarán ordenados. \n",
    "\n",
    "El siguiente pseudocódigo es una de las posibles implementaciones del algoritmo descrito. **(a)** Escriba un script en python a partir de este pseudocodigo que ordene arrays de Numpy (¡no listas de Python!). Utilice como array de prueba uno que contenga números aleatorios generados con el módulo `np.random` de una longitud determinada. \n",
    "**(b)** Compare el tiempo de ejecución de su algoritmo con la función de ordenamiento de arrays incluída en el paquete Numpy.\n",
    "\n",
    "```code\n",
    "function quicksort(array)\n",
    "    less, equal, greater := three empty arrays\n",
    "    if length(array) > 1  \n",
    "        pivot := select any element of array\n",
    "        for each x in array\n",
    "            if x < pivot then add x to less\n",
    "            if x = pivot then add x to equal\n",
    "            if x > pivot then add x to greater\n",
    "        quicksort(less)\n",
    "        quicksort(greater)\n",
    "        array := concatenate(less, equal, greater)\n",
    "```\n"
   ]
  },
  {
   "cell_type": "code",
   "execution_count": null,
   "metadata": {
    "collapsed": true
   },
   "outputs": [],
   "source": []
  }
 ],
 "metadata": {
  "kernelspec": {
   "display_name": "Python 2",
   "language": "python",
   "name": "python2"
  },
  "language_info": {
   "codemirror_mode": {
    "name": "ipython",
    "version": 2
   },
   "file_extension": ".py",
   "mimetype": "text/x-python",
   "name": "python",
   "nbconvert_exporter": "python",
   "pygments_lexer": "ipython2",
   "version": "2.7.11"
  }
 },
 "nbformat": 4,
 "nbformat_minor": 0
}
